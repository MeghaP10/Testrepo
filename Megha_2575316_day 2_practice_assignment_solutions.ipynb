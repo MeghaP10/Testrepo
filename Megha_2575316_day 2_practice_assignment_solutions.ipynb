{
 "cells": [
  {
   "cell_type": "markdown",
   "id": "0c693e70",
   "metadata": {},
   "source": [
    "# Functions"
   ]
  },
  {
   "cell_type": "markdown",
   "id": "dba912db",
   "metadata": {},
   "source": [
    "# 1.Write a python Function to list even and odd numbers in a list\n",
    "\n",
    "\n"
   ]
  },
  {
   "cell_type": "code",
   "execution_count": 4,
   "id": "a9194e5c",
   "metadata": {},
   "outputs": [
    {
     "name": "stdout",
     "output_type": "stream",
     "text": [
      "Even numbers: [2, 4, 6]\n",
      "Odd numbers: [1, 3, 5]\n"
     ]
    }
   ],
   "source": [
    "def separate_even_odd(numbers):\n",
    "    even_numbers = []\n",
    "    odd_numbers = []\n",
    "    \n",
    "    for num in numbers:\n",
    "        if num % 2 == 0:\n",
    "            even_numbers.append(num)\n",
    "        else:\n",
    "            odd_numbers.append(num)\n",
    "    \n",
    "    return even_numbers, odd_numbers\n",
    "\n",
    "numbers = [1, 2, 3, 4, 5, 6]\n",
    "even, odd = separate_even_odd(numbers)\n",
    "print(\"Even numbers:\", even)\n",
    "print(\"Odd numbers:\", odd)\n",
    "\n",
    "\n"
   ]
  },
  {
   "cell_type": "markdown",
   "id": "21b3a753",
   "metadata": {},
   "source": [
    "# 2. Write and run a Python program that asks the user to enter 8 integers(one at a time), and then prints out how many of those     integers were even numbers. For example, if the users entered 19, 6, 9, 20, 13, 7, 6, and 1, then your program should print     out 3 since 3 of those numbers were even."
   ]
  },
  {
   "cell_type": "code",
   "execution_count": 6,
   "id": "e68f6c47",
   "metadata": {},
   "outputs": [
    {
     "name": "stdout",
     "output_type": "stream",
     "text": [
      "Enter an integer: 19\n",
      "Enter an integer: 6\n",
      "Enter an integer: 9\n",
      "Enter an integer: 20\n",
      "Enter an integer: 13\n",
      "Enter an integer: 7\n",
      "Enter an integer: 6\n",
      "Enter an integer: 1\n",
      "The number of even integers entered: 3\n"
     ]
    }
   ],
   "source": [
    "even_count = 0\n",
    "\n",
    "for i in range(8):\n",
    "    try:\n",
    "        num = int(input(\"Enter an integer: \"))\n",
    "        if num % 2 == 0:\n",
    "            even_count += 1\n",
    "    except ValueError:\n",
    "        print(\"Invalid input. Please enter an integer.\")\n",
    "\n",
    "print(\"The number of even integers entered:\", even_count)\n",
    "\n"
   ]
  },
  {
   "cell_type": "markdown",
   "id": "c24e94ee",
   "metadata": {},
   "source": [
    "# 3. Write a Python program where you take any positive integers n, if n is even, divide it by 2 to get n/2 if n is odd, multiply it by 3 and add 1 to obtain 3n + 1.Repeat the process until you reach 1"
   ]
  },
  {
   "cell_type": "code",
   "execution_count": 44,
   "id": "eb65ac9a",
   "metadata": {},
   "outputs": [
    {
     "name": "stdout",
     "output_type": "stream",
     "text": [
      "Enter a positive integer: 6\n",
      "6\n",
      "3\n",
      "10\n",
      "5\n",
      "16\n",
      "8\n",
      "4\n",
      "2\n",
      "1\n"
     ]
    }
   ],
   "source": [
    "def sequence(n):\n",
    "    while n != 1:\n",
    "        print(n)\n",
    "        if n % 2 == 0:\n",
    "            n = n // 2\n",
    "        else:\n",
    "            n = 3 * n + 1\n",
    "    print(1)\n",
    "\n",
    "\n",
    "n = int(input(\"Enter a positive integer: \"))\n",
    "if n <= 0:\n",
    "    print(\"Please enter a positive integer.\")\n",
    "else:\n",
    "    sequence(n)\n",
    "    "
   ]
  },
  {
   "cell_type": "markdown",
   "id": "bfee5318",
   "metadata": {},
   "source": [
    "# 4.Write a Python program to compute the sum of all multiples of 3 or 5 below 500"
   ]
  },
  {
   "cell_type": "code",
   "execution_count": 10,
   "id": "fcda6b83",
   "metadata": {},
   "outputs": [
    {
     "name": "stdout",
     "output_type": "stream",
     "text": [
      "The sum of all multiples of 3 or 5 below 500 is: 57918\n"
     ]
    }
   ],
   "source": [
    "def sum_multiples_3_or_5(limit):\n",
    "    total = 0\n",
    "    for number in range(limit):\n",
    "        if number % 3 == 0 or number % 5 == 0:\n",
    "            total += number\n",
    "    return total\n",
    "\n",
    "\n",
    "limit = 500\n",
    "\n",
    "\n",
    "result = sum_multiples_3_or_5(limit)\n",
    "\n",
    "\n",
    "print(\"The sum of all multiples of 3 or 5 below 500 is:\", result)\n"
   ]
  },
  {
   "cell_type": "markdown",
   "id": "594d3e45",
   "metadata": {},
   "source": [
    "# 5.To write a python program to find first n prime numbers from a list of given  numbers\n",
    "\n"
   ]
  },
  {
   "cell_type": "code",
   "execution_count": 11,
   "id": "8dca5ed2",
   "metadata": {},
   "outputs": [
    {
     "data": {
      "text/plain": [
       "[2, 3, 5, 7, 11, 13, 17, 19]"
      ]
     },
     "execution_count": 11,
     "metadata": {},
     "output_type": "execute_result"
    }
   ],
   "source": [
    "def list_of_primes(n):\n",
    "    primes = []\n",
    "    for y in range (2, n):\n",
    "        for z in range(2, y):\n",
    "            if y % z == 0:\n",
    "                break\n",
    "        else:\n",
    "            primes.append(y)\n",
    "    primes.sort()\n",
    "    return primes\n",
    "\n",
    "list_of_primes(20)\n"
   ]
  },
  {
   "cell_type": "markdown",
   "id": "a6d914ec",
   "metadata": {},
   "source": [
    "# 6.To write a python program to compute matrix multiplication"
   ]
  },
  {
   "cell_type": "code",
   "execution_count": 12,
   "id": "f28d6dbe",
   "metadata": {},
   "outputs": [
    {
     "name": "stdout",
     "output_type": "stream",
     "text": [
      "[19, 22]\n",
      "[43, 50]\n"
     ]
    }
   ],
   "source": [
    "def matrix_multiply(matrix1, matrix2):\n",
    "    result = []\n",
    "    \n",
    "    \n",
    "    if len(matrix1[0]) != len(matrix2):\n",
    "        print(\"Matrix multiplication is not possible.\")\n",
    "        return None\n",
    "\n",
    "    \n",
    "    for i in range(len(matrix1)):\n",
    "        result.append([0] * len(matrix2[0]))\n",
    "\n",
    "   \n",
    "    for i in range(len(matrix1)):\n",
    "        for j in range(len(matrix2[0])):\n",
    "            for k in range(len(matrix2)):\n",
    "                result[i][j] += matrix1[i][k] * matrix2[k][j]\n",
    "\n",
    "    return result\n",
    "\n",
    "\n",
    "matrix_A = [[1, 2], [3, 4]]\n",
    "matrix_B = [[5, 6], [7, 8]]\n",
    "\n",
    "\n",
    "result_matrix = matrix_multiply(matrix_A, matrix_B)\n",
    "\n",
    "\n",
    "if result_matrix:\n",
    "    for row in result_matrix:\n",
    "        print(row)\n",
    "        "
   ]
  },
  {
   "cell_type": "markdown",
   "id": "d15d39d9",
   "metadata": {},
   "source": [
    "# 7.Write a python program function to count the numbers of vowels in a string\n"
   ]
  },
  {
   "cell_type": "code",
   "execution_count": 13,
   "id": "dd53a53d",
   "metadata": {},
   "outputs": [
    {
     "name": "stdout",
     "output_type": "stream",
     "text": [
      "Number of vowels: 2\n"
     ]
    }
   ],
   "source": [
    "def count_vowels(string):\n",
    "    \n",
    "    string = string.lower()\n",
    "    \n",
    "    \n",
    "    vowel_count = 0\n",
    "    \n",
    "    \n",
    "    vowels = set(\"aeiou\")\n",
    "    \n",
    "    \n",
    "    for char in string:\n",
    "        \n",
    "        if char in vowels:\n",
    "            vowel_count += 1\n",
    "    \n",
    "    return vowel_count\n",
    "\n",
    "\n",
    "input_string = \"Mount\"\n",
    "result = count_vowels(input_string)\n",
    "print(\"Number of vowels:\", result)\n"
   ]
  },
  {
   "cell_type": "markdown",
   "id": "0a8f8b00",
   "metadata": {},
   "source": [
    "# 8. Write a python function for finding factorial for the give number using a recursive function\n"
   ]
  },
  {
   "cell_type": "code",
   "execution_count": 15,
   "id": "203f9509",
   "metadata": {},
   "outputs": [
    {
     "name": "stdout",
     "output_type": "stream",
     "text": [
      "The factorial of 4 is 24\n"
     ]
    }
   ],
   "source": [
    "\n",
    "def factorial_recursive(n):\n",
    "    if n == 0:\n",
    "        return 1\n",
    "    else:\n",
    "        return n * factorial_recursive(n - 1)\n",
    "    \n",
    "    number = 4\n",
    "result = factorial_recursive(number)\n",
    "print(f\"The factorial of {number} is {result}\")\n",
    "\n",
    "\n",
    "\n",
    "\n",
    "\n"
   ]
  },
  {
   "cell_type": "markdown",
   "id": "37fc443c",
   "metadata": {},
   "source": [
    "# 9.Write a python Function for generating the Fibonacci series using the function"
   ]
  },
  {
   "cell_type": "code",
   "execution_count": 20,
   "id": "44661070",
   "metadata": {},
   "outputs": [
    {
     "name": "stdout",
     "output_type": "stream",
     "text": [
      "any number pl: 6\n"
     ]
    }
   ],
   "source": [
    "a=int(input('any number pl: '))\n",
    "def fib():\n",
    "\n",
    "    a,b=0,1\n",
    "    while 1:\n",
    "        yield a\n",
    "        a,b=b,a+b\n",
    "        \n",
    "a=fib()\n",
    "\n",
    "\n"
   ]
  },
  {
   "cell_type": "code",
   "execution_count": 21,
   "id": "cc0f15e4",
   "metadata": {},
   "outputs": [
    {
     "data": {
      "text/plain": [
       "0"
      ]
     },
     "execution_count": 21,
     "metadata": {},
     "output_type": "execute_result"
    }
   ],
   "source": [
    "next(a)\n"
   ]
  },
  {
   "cell_type": "code",
   "execution_count": 22,
   "id": "6810274a",
   "metadata": {},
   "outputs": [
    {
     "data": {
      "text/plain": [
       "1"
      ]
     },
     "execution_count": 22,
     "metadata": {},
     "output_type": "execute_result"
    }
   ],
   "source": [
    "next(a)"
   ]
  },
  {
   "cell_type": "code",
   "execution_count": 23,
   "id": "a960efbf",
   "metadata": {},
   "outputs": [
    {
     "data": {
      "text/plain": [
       "1"
      ]
     },
     "execution_count": 23,
     "metadata": {},
     "output_type": "execute_result"
    }
   ],
   "source": [
    "next(a)"
   ]
  },
  {
   "cell_type": "code",
   "execution_count": 24,
   "id": "45375485",
   "metadata": {},
   "outputs": [
    {
     "data": {
      "text/plain": [
       "2"
      ]
     },
     "execution_count": 24,
     "metadata": {},
     "output_type": "execute_result"
    }
   ],
   "source": [
    "next(a)\n"
   ]
  },
  {
   "cell_type": "code",
   "execution_count": 25,
   "id": "dbc42ee6",
   "metadata": {},
   "outputs": [
    {
     "data": {
      "text/plain": [
       "3"
      ]
     },
     "execution_count": 25,
     "metadata": {},
     "output_type": "execute_result"
    }
   ],
   "source": [
    "next(a)\n"
   ]
  },
  {
   "cell_type": "code",
   "execution_count": 27,
   "id": "060a8e72",
   "metadata": {},
   "outputs": [
    {
     "data": {
      "text/plain": [
       "5"
      ]
     },
     "execution_count": 27,
     "metadata": {},
     "output_type": "execute_result"
    }
   ],
   "source": [
    "next(a)\n",
    "\n"
   ]
  },
  {
   "cell_type": "markdown",
   "id": "f105fd22",
   "metadata": {},
   "source": [
    "# 10. Python program to display the given integer in reverse order using the function without an in-built function"
   ]
  },
  {
   "cell_type": "code",
   "execution_count": 37,
   "id": "40fafd59",
   "metadata": {},
   "outputs": [
    {
     "name": "stdout",
     "output_type": "stream",
     "text": [
      "Enter an integer: 12345\n",
      "Reversed integer: 54321\n"
     ]
    }
   ],
   "source": [
    "def reverse_integer(number):\n",
    "    reversed_number = 0\n",
    "    while number > 0:\n",
    "        digit = number % 10\n",
    "        reversed_number = reversed_number * 10 + digit\n",
    "        number = number // 10\n",
    "    return reversed_number\n",
    "\n",
    "\n",
    "num = int(input(\"Enter an integer: \"))\n",
    "\n",
    "\n",
    "reversed_num = reverse_integer(num)\n",
    "print(\"Reversed integer:\", reversed_num)\n",
    "\n",
    "\n"
   ]
  },
  {
   "cell_type": "markdown",
   "id": "30bb71d2",
   "metadata": {},
   "source": [
    "# 11.Write a Python function to display all integers within the range 200 to 300 whose sum of digit is an even number"
   ]
  },
  {
   "cell_type": "code",
   "execution_count": 42,
   "id": "5da90d03",
   "metadata": {},
   "outputs": [
    {
     "name": "stdout",
     "output_type": "stream",
     "text": [
      "200\n",
      "202\n",
      "204\n",
      "206\n",
      "208\n",
      "211\n",
      "213\n",
      "215\n",
      "217\n",
      "219\n",
      "220\n",
      "222\n",
      "224\n",
      "226\n",
      "228\n",
      "231\n",
      "233\n",
      "235\n",
      "237\n",
      "239\n",
      "240\n",
      "242\n",
      "244\n",
      "246\n",
      "248\n",
      "251\n",
      "253\n",
      "255\n",
      "257\n",
      "259\n",
      "260\n",
      "262\n",
      "264\n",
      "266\n",
      "268\n",
      "271\n",
      "273\n",
      "275\n",
      "277\n",
      "279\n",
      "280\n",
      "282\n",
      "284\n",
      "286\n",
      "288\n",
      "291\n",
      "293\n",
      "295\n",
      "297\n",
      "299\n"
     ]
    }
   ],
   "source": [
    "def is_even_digit_sum(number):\n",
    "    digit_sum = sum(int(digit) for digit in str(number))\n",
    "    return digit_sum % 2 == 0\n",
    "\n",
    "def display_even_digit_sum_numbers(start, end):\n",
    "    for num in range(start, end + 1):\n",
    "        if is_even_digit_sum(num):\n",
    "            print(num)\n",
    "\n",
    "\n",
    "display_even_digit_sum_numbers(200, 300)\n"
   ]
  },
  {
   "cell_type": "markdown",
   "id": "b94c7586",
   "metadata": {},
   "source": [
    "# 12.Write a Python function to find a number of digits and sum of digits for a given integer"
   ]
  },
  {
   "cell_type": "code",
   "execution_count": 41,
   "id": "134c9dbb",
   "metadata": {},
   "outputs": [
    {
     "name": "stdout",
     "output_type": "stream",
     "text": [
      "Number of digits: 5\n",
      "Sum of digits: 15\n"
     ]
    }
   ],
   "source": [
    "def count_digits_and_sum(number):\n",
    "    \n",
    "    num_str = str(number)\n",
    "    \n",
    "    \n",
    "    num_of_digits = len(num_str)\n",
    "    digit_sum = 0\n",
    "    \n",
    "    \n",
    "    for digit in num_str:\n",
    "        digit_sum += int(digit)\n",
    "    \n",
    "    return num_of_digits, digit_sum\n",
    "\n",
    "\n",
    "input_number = 12345\n",
    "num_of_digits, digit_sum = count_digits_and_sum(input_number)\n",
    "print(f\"Number of digits: {num_of_digits}\")\n",
    "print(f\"Sum of digits: {digit_sum}\")\n"
   ]
  },
  {
   "cell_type": "markdown",
   "id": "a1876967",
   "metadata": {},
   "source": [
    "# 13.Write a Function called is_sorted that takes a list as a paramater and returns True if the list is sorted in ascending order and false otherwise and has_duplicates that takes a list and returns True if there is any element that returns that appears more than once. It should not modify the original list\n",
    "\n"
   ]
  },
  {
   "cell_type": "code",
   "execution_count": 43,
   "id": "d6d591ba",
   "metadata": {},
   "outputs": [
    {
     "name": "stdout",
     "output_type": "stream",
     "text": [
      "True\n",
      "False\n",
      "True\n",
      "False\n"
     ]
    }
   ],
   "source": [
    "def is_sorted(lst):\n",
    "   \n",
    "    return all(lst[i] <= lst[i + 1] for i in range(len(lst) - 1))\n",
    "\n",
    "def has_duplicates(lst):\n",
    "  \n",
    "    seen = set()\n",
    "    for item in lst:\n",
    "        if item in seen:\n",
    "            return True\n",
    "        seen.add(item)\n",
    "    return False\n",
    "\n",
    "lst = [5, 6, 7, 8, 9]\n",
    "print(is_sorted(lst)) \n",
    "\n",
    "lst = [8, 1, 6, 2, 5]\n",
    "print(is_sorted(lst))  \n",
    "\n",
    "lst = [1, 5, 5, 10, 6]\n",
    "print(has_duplicates(lst))  \n",
    "\n",
    "lst = [1, 3, 7, 8, 5]\n",
    "print(has_duplicates(lst))  \n"
   ]
  },
  {
   "cell_type": "markdown",
   "id": "6654033a",
   "metadata": {},
   "source": [
    "# 14.Write the functions called nested_sum that takes a list of integers and adds up the elements from all the nested ifs and cumsums that takes a list of numbers and returns the cumulative sum;that is, a new list where the ith element is the sum of the first i+1 elements from the original list\n"
   ]
  },
  {
   "cell_type": "code",
   "execution_count": 45,
   "id": "d3f3a05a",
   "metadata": {},
   "outputs": [
    {
     "name": "stdout",
     "output_type": "stream",
     "text": [
      "Nested Sum: 45\n",
      "Cumulative Sum: [1, 3, 6, 10, 15]\n"
     ]
    }
   ],
   "source": [
    "def nested_sum(lst):\n",
    "    total = 0\n",
    "    for sublist in lst:\n",
    "        total += sum(sublist)\n",
    "    return total\n",
    "\n",
    "def cumsum(lst):\n",
    "    cumulative_sum = 0\n",
    "    result = []\n",
    "    for num in lst:\n",
    "        cumulative_sum += num\n",
    "        result.append(cumulative_sum)\n",
    "    return result\n",
    "\n",
    "nested_list = [[1, 2, 3], [4, 5, 6], [7, 8, 9]]\n",
    "cumulative_list = [1, 2, 3, 4, 5]\n",
    "print(\"Nested Sum:\", nested_sum(nested_list))\n",
    "print(\"Cumulative Sum:\", cumsum(cumulative_list))\n",
    "\n"
   ]
  }
 ],
 "metadata": {
  "kernelspec": {
   "display_name": "Python 3 (ipykernel)",
   "language": "python",
   "name": "python3"
  },
  "language_info": {
   "codemirror_mode": {
    "name": "ipython",
    "version": 3
   },
   "file_extension": ".py",
   "mimetype": "text/x-python",
   "name": "python",
   "nbconvert_exporter": "python",
   "pygments_lexer": "ipython3",
   "version": "3.11.4"
  }
 },
 "nbformat": 4,
 "nbformat_minor": 5
}
