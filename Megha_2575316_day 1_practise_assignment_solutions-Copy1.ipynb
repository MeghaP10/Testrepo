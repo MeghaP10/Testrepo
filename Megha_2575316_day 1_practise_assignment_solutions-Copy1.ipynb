{
 "cells": [
  {
   "cell_type": "markdown",
   "id": "e9530ccd",
   "metadata": {},
   "source": [
    "# 1. Manipulate using a list.\n",
    "\n",
    "i) To add new elements to the end of the list\n",
    "ii)To reverse elements in the list\n",
    "iii)To display the same list of elements multiple times\n",
    "iv)To concatenate two list.\n",
    "v)To sort the elements in the list in ascending order\n",
    "\n",
    "\n",
    "\n",
    "\n",
    "\n",
    "\n",
    "\n",
    "\n",
    "\n",
    "\n",
    "\n",
    "\n",
    "\n",
    "\n",
    "\n",
    "\n",
    "\n"
   ]
  },
  {
   "cell_type": "code",
   "execution_count": 1,
   "id": "6dc2d1ca",
   "metadata": {},
   "outputs": [],
   "source": [
    "lst=[10,20,'john']"
   ]
  },
  {
   "cell_type": "code",
   "execution_count": 2,
   "id": "1e1e0a3b",
   "metadata": {},
   "outputs": [
    {
     "data": {
      "text/plain": [
       "[10, 20, 'john']"
      ]
     },
     "execution_count": 2,
     "metadata": {},
     "output_type": "execute_result"
    }
   ],
   "source": [
    "\n",
    "lst"
   ]
  },
  {
   "cell_type": "code",
   "execution_count": 3,
   "id": "599c90a3",
   "metadata": {},
   "outputs": [],
   "source": [
    "#i) To add new elements to the end of the list \n",
    "\n",
    "lst.append(30) #append is used to add single element at the end of the list"
   ]
  },
  {
   "cell_type": "code",
   "execution_count": 4,
   "id": "5bfdbdf8",
   "metadata": {},
   "outputs": [
    {
     "data": {
      "text/plain": [
       "[10, 20, 'john', 30]"
      ]
     },
     "execution_count": 4,
     "metadata": {},
     "output_type": "execute_result"
    }
   ],
   "source": [
    "lst"
   ]
  },
  {
   "cell_type": "code",
   "execution_count": 6,
   "id": "17840716",
   "metadata": {},
   "outputs": [
    {
     "data": {
      "text/plain": [
       "[30, 'john', 20, 10]"
      ]
     },
     "execution_count": 6,
     "metadata": {},
     "output_type": "execute_result"
    }
   ],
   "source": [
    "# ii)To reverse elements in the list \n",
    "\n",
    "lst.reverse()\n",
    "lst"
   ]
  },
  {
   "cell_type": "code",
   "execution_count": 7,
   "id": "fbc82738",
   "metadata": {},
   "outputs": [
    {
     "data": {
      "text/plain": [
       "[30,\n",
       " 'john',\n",
       " 20,\n",
       " 10,\n",
       " 30,\n",
       " 'john',\n",
       " 20,\n",
       " 10,\n",
       " 30,\n",
       " 'john',\n",
       " 20,\n",
       " 10,\n",
       " 30,\n",
       " 'john',\n",
       " 20,\n",
       " 10,\n",
       " 30,\n",
       " 'john',\n",
       " 20,\n",
       " 10]"
      ]
     },
     "execution_count": 7,
     "metadata": {},
     "output_type": "execute_result"
    }
   ],
   "source": [
    "# iii)To display the same list of elements multiple times\n",
    "lst*5\n"
   ]
  },
  {
   "cell_type": "code",
   "execution_count": 33,
   "id": "54a7f342",
   "metadata": {},
   "outputs": [
    {
     "data": {
      "text/plain": [
       "[11, 12, 13, 14, 15, 16]"
      ]
     },
     "execution_count": 33,
     "metadata": {},
     "output_type": "execute_result"
    }
   ],
   "source": [
    "# iv)To concatenate two list.\n",
    "lst1=[11,12,13]\n",
    "lst2=[14,15,16]\n",
    "r=lst1+lst2\n",
    "r\n",
    "\n",
    "\n",
    "\n"
   ]
  },
  {
   "cell_type": "code",
   "execution_count": null,
   "id": "bde40e12",
   "metadata": {},
   "outputs": [],
   "source": []
  },
  {
   "cell_type": "code",
   "execution_count": 11,
   "id": "25a8177a",
   "metadata": {},
   "outputs": [],
   "source": [
    "# v)To sort the elements in the list in ascending order\n",
    "lst=[50,100,16,20,11]"
   ]
  },
  {
   "cell_type": "code",
   "execution_count": 12,
   "id": "bb1938cd",
   "metadata": {},
   "outputs": [
    {
     "data": {
      "text/plain": [
       "[50, 100, 16, 20, 11]"
      ]
     },
     "execution_count": 12,
     "metadata": {},
     "output_type": "execute_result"
    }
   ],
   "source": [
    "lst\n"
   ]
  },
  {
   "cell_type": "code",
   "execution_count": 13,
   "id": "e8b73b33",
   "metadata": {},
   "outputs": [],
   "source": [
    "lst.sort()"
   ]
  },
  {
   "cell_type": "code",
   "execution_count": 14,
   "id": "60ba8861",
   "metadata": {},
   "outputs": [
    {
     "data": {
      "text/plain": [
       "[11, 16, 20, 50, 100]"
      ]
     },
     "execution_count": 14,
     "metadata": {},
     "output_type": "execute_result"
    }
   ],
   "source": [
    "lst"
   ]
  },
  {
   "cell_type": "markdown",
   "id": "7f11e848",
   "metadata": {},
   "source": [
    "# 2.Write a Python program to do in the tuples\n",
    "\n",
    "i)Manipulate using tuples\n",
    "ii)To add new elements to the end of the tuples\n",
    "iii)To reverse elements in the tuple\n",
    "iv)To display the elements of the same tuple multiple times\n",
    "v)To concatenate two tuples\n",
    "vi)To sort the elements in the tuple in ascending order\n"
   ]
  },
  {
   "cell_type": "code",
   "execution_count": 15,
   "id": "aaf4e1cb",
   "metadata": {},
   "outputs": [],
   "source": [
    "# i)Manipulate using tuples\n",
    "\n",
    "tup=(11, 12.34,'david')\n",
    "\n"
   ]
  },
  {
   "cell_type": "code",
   "execution_count": 16,
   "id": "651d40b5",
   "metadata": {},
   "outputs": [
    {
     "data": {
      "text/plain": [
       "(11, 12.34, 'david')"
      ]
     },
     "execution_count": 16,
     "metadata": {},
     "output_type": "execute_result"
    }
   ],
   "source": [
    "tup\n"
   ]
  },
  {
   "cell_type": "code",
   "execution_count": 21,
   "id": "5faf41ee",
   "metadata": {},
   "outputs": [],
   "source": [
    "# ii)To add new elements to the end of the tuples \n",
    "\n",
    "#You cant add new elements to a tuple because of their immutable property.\n",
    "\n",
    "\n",
    "\n",
    "\n",
    "\n"
   ]
  },
  {
   "cell_type": "code",
   "execution_count": 22,
   "id": "a77e0883",
   "metadata": {},
   "outputs": [
    {
     "name": "stdout",
     "output_type": "stream",
     "text": [
      "(4, 3, 2, 1)\n"
     ]
    }
   ],
   "source": [
    "# iii)To reverse elements in the tuple\n",
    "\n",
    "tup=(1,2,3,4)\n",
    "reversed_tup=tup[::-1]\n",
    "print(reversed_tup)\n",
    "\n"
   ]
  },
  {
   "cell_type": "code",
   "execution_count": 23,
   "id": "d2051de9",
   "metadata": {},
   "outputs": [],
   "source": [
    "# iv)To display the elements of the same tuple multiple times \n",
    "tup=(20,30)\n",
    "\n"
   ]
  },
  {
   "cell_type": "code",
   "execution_count": 24,
   "id": "0da25944",
   "metadata": {},
   "outputs": [
    {
     "data": {
      "text/plain": [
       "(20, 30)"
      ]
     },
     "execution_count": 24,
     "metadata": {},
     "output_type": "execute_result"
    }
   ],
   "source": [
    "tup\n"
   ]
  },
  {
   "cell_type": "code",
   "execution_count": 25,
   "id": "ab8ff43c",
   "metadata": {},
   "outputs": [
    {
     "data": {
      "text/plain": [
       "(20, 30, 20, 30, 20, 30, 20, 30)"
      ]
     },
     "execution_count": 25,
     "metadata": {},
     "output_type": "execute_result"
    }
   ],
   "source": [
    "tup*4\n",
    "\n"
   ]
  },
  {
   "cell_type": "code",
   "execution_count": 32,
   "id": "bec8734f",
   "metadata": {},
   "outputs": [
    {
     "data": {
      "text/plain": [
       "(1, 2, 3, 7, 8, 9)"
      ]
     },
     "execution_count": 32,
     "metadata": {},
     "output_type": "execute_result"
    }
   ],
   "source": [
    "# v)To concatenate two tuples\n",
    "tup1=(1,2,3)\n",
    "tup2=(7,8,9)\n",
    "r=tup1+tup2\n",
    "r\n",
    "\n",
    "\n",
    "\n",
    "\n",
    "\n"
   ]
  },
  {
   "cell_type": "code",
   "execution_count": 37,
   "id": "eb98788b",
   "metadata": {},
   "outputs": [],
   "source": [
    "# vi)To sort the elements in the tuple in ascending order\n",
    "\n",
    "#You cant sort the elements in the tuple in ascending order because it is immutable.\n",
    "\n"
   ]
  },
  {
   "cell_type": "markdown",
   "id": "061db5f9",
   "metadata": {},
   "source": [
    "# 3.Write a Python program to implement the following list\n",
    "\n",
    "i)Create a list with integers(minimum 10 numbers)\n",
    "ii)How to display the last number in the list\n",
    "iii)Command for displaying the values from the list[0:4]\n",
    "iv)Command for displaying the values from the list[2:]\n",
    "v)Command for displaying the values from the list[:6]\n",
    "\n",
    "\n"
   ]
  },
  {
   "cell_type": "code",
   "execution_count": null,
   "id": "43ef6b77",
   "metadata": {},
   "outputs": [],
   "source": [
    "# i)Create a list with integers(minimum 10 numbers)\n",
    "\n",
    "lst=[2,4,6,8,10,12,14,16,18,20]"
   ]
  },
  {
   "cell_type": "code",
   "execution_count": 40,
   "id": "a62ab71b",
   "metadata": {},
   "outputs": [
    {
     "data": {
      "text/plain": [
       "[2, 4, 6, 8, 10, 12, 14, 16, 18, 20]"
      ]
     },
     "execution_count": 40,
     "metadata": {},
     "output_type": "execute_result"
    }
   ],
   "source": [
    "lst\n"
   ]
  },
  {
   "cell_type": "code",
   "execution_count": 41,
   "id": "7dca929e",
   "metadata": {},
   "outputs": [
    {
     "data": {
      "text/plain": [
       "[20]"
      ]
     },
     "execution_count": 41,
     "metadata": {},
     "output_type": "execute_result"
    }
   ],
   "source": [
    "# ii)How to display the last number in the list\n",
    "lst[9:]\n"
   ]
  },
  {
   "cell_type": "code",
   "execution_count": 42,
   "id": "dd1a7fda",
   "metadata": {},
   "outputs": [
    {
     "data": {
      "text/plain": [
       "[2, 4, 6, 8]"
      ]
     },
     "execution_count": 42,
     "metadata": {},
     "output_type": "execute_result"
    }
   ],
   "source": [
    "# iii)Command for displaying the values from the list[0:4]\n",
    "lst[0:4]\n"
   ]
  },
  {
   "cell_type": "code",
   "execution_count": 43,
   "id": "690ec2c1",
   "metadata": {},
   "outputs": [
    {
     "data": {
      "text/plain": [
       "[6, 8, 10, 12, 14, 16, 18, 20]"
      ]
     },
     "execution_count": 43,
     "metadata": {},
     "output_type": "execute_result"
    }
   ],
   "source": [
    "# iv)Command for displaying the values from the list[2:]\n",
    "\n",
    "lst[2:]\n"
   ]
  },
  {
   "cell_type": "code",
   "execution_count": 44,
   "id": "4dc3e558",
   "metadata": {},
   "outputs": [
    {
     "data": {
      "text/plain": [
       "[2, 4, 6, 8, 10, 12]"
      ]
     },
     "execution_count": 44,
     "metadata": {},
     "output_type": "execute_result"
    }
   ],
   "source": [
    "# v)Command for displaying the values from the list[:6]\n",
    "\n",
    "lst[:6]\n",
    "\n"
   ]
  },
  {
   "cell_type": "markdown",
   "id": "f326cd87",
   "metadata": {},
   "source": [
    "# 4.Write a python program : tuple1 =(10,50,20,40,30)\n",
    "  \n",
    " i)To display the elements 10 and 50 from tuple1\n",
    " ii)To display the length of tuple1\n",
    " iii)To find the minimum element from tuple1\n",
    " iv)To add all elements in the tuple1\n",
    " v)To display the same tuple1 multiple times\n",
    "  \n",
    "    "
   ]
  },
  {
   "cell_type": "code",
   "execution_count": 46,
   "id": "f005ea7f",
   "metadata": {},
   "outputs": [],
   "source": [
    "tuple1=(10,50,20,40,30)\n",
    "\n",
    "\n"
   ]
  },
  {
   "cell_type": "code",
   "execution_count": 47,
   "id": "06250054",
   "metadata": {},
   "outputs": [
    {
     "data": {
      "text/plain": [
       "(10, 50, 20, 40, 30)"
      ]
     },
     "execution_count": 47,
     "metadata": {},
     "output_type": "execute_result"
    }
   ],
   "source": [
    "tuple1\n"
   ]
  },
  {
   "cell_type": "code",
   "execution_count": 53,
   "id": "d78e44b7",
   "metadata": {},
   "outputs": [
    {
     "data": {
      "text/plain": [
       "(10, 50)"
      ]
     },
     "execution_count": 53,
     "metadata": {},
     "output_type": "execute_result"
    }
   ],
   "source": [
    "# i)To display the elements 10 and 50 from tuple1\n",
    "\n",
    "tuple1[0:2]\n",
    "\n",
    "\n"
   ]
  },
  {
   "cell_type": "code",
   "execution_count": 54,
   "id": "322e680d",
   "metadata": {},
   "outputs": [
    {
     "data": {
      "text/plain": [
       "5"
      ]
     },
     "execution_count": 54,
     "metadata": {},
     "output_type": "execute_result"
    }
   ],
   "source": [
    "# ii)To display the length of tuple1\n",
    "\n",
    "len(tuple1)"
   ]
  },
  {
   "cell_type": "code",
   "execution_count": 56,
   "id": "db018a04",
   "metadata": {},
   "outputs": [
    {
     "data": {
      "text/plain": [
       "10"
      ]
     },
     "execution_count": 56,
     "metadata": {},
     "output_type": "execute_result"
    }
   ],
   "source": [
    "# iii)To find the minimum element from tuple1\n",
    "\n",
    "min(tuple1)\n",
    "\n",
    "\n"
   ]
  },
  {
   "cell_type": "code",
   "execution_count": 58,
   "id": "06a2f12d",
   "metadata": {},
   "outputs": [
    {
     "data": {
      "text/plain": [
       "150"
      ]
     },
     "execution_count": 58,
     "metadata": {},
     "output_type": "execute_result"
    }
   ],
   "source": [
    "# iv)To add all elements in the tuple1\n",
    "\n",
    "sum(tuple1)\n",
    "\n"
   ]
  },
  {
   "cell_type": "code",
   "execution_count": 60,
   "id": "17144ca4",
   "metadata": {},
   "outputs": [
    {
     "data": {
      "text/plain": [
       "(10,\n",
       " 50,\n",
       " 20,\n",
       " 40,\n",
       " 30,\n",
       " 10,\n",
       " 50,\n",
       " 20,\n",
       " 40,\n",
       " 30,\n",
       " 10,\n",
       " 50,\n",
       " 20,\n",
       " 40,\n",
       " 30,\n",
       " 10,\n",
       " 50,\n",
       " 20,\n",
       " 40,\n",
       " 30)"
      ]
     },
     "execution_count": 60,
     "metadata": {},
     "output_type": "execute_result"
    }
   ],
   "source": [
    "# v)To display the same tuple1 multiple times\n",
    "\n",
    "tuple1*4\n"
   ]
  },
  {
   "cell_type": "markdown",
   "id": "c37da2e4",
   "metadata": {},
   "source": [
    "# 5.Write a Python program\n",
    "\n",
    "i)To calculate the length of a string\n",
    "ii)To reverse words in a string\n",
    "iii)To display the same string multiple times\n",
    "iv)To concatenate two strings\n",
    "v)Str1=\"South India\",using string slicing to display \"India\""
   ]
  },
  {
   "cell_type": "code",
   "execution_count": 61,
   "id": "f3874d34",
   "metadata": {},
   "outputs": [],
   "source": [
    "# i)To calculate the length of a string \n",
    "\n",
    "Str1=\"South India\"\n"
   ]
  },
  {
   "cell_type": "code",
   "execution_count": 62,
   "id": "3f2a6017",
   "metadata": {},
   "outputs": [
    {
     "data": {
      "text/plain": [
       "'South India'"
      ]
     },
     "execution_count": 62,
     "metadata": {},
     "output_type": "execute_result"
    }
   ],
   "source": [
    "Str1\n"
   ]
  },
  {
   "cell_type": "code",
   "execution_count": 63,
   "id": "02b75782",
   "metadata": {},
   "outputs": [
    {
     "data": {
      "text/plain": [
       "11"
      ]
     },
     "execution_count": 63,
     "metadata": {},
     "output_type": "execute_result"
    }
   ],
   "source": [
    "len(Str1)"
   ]
  },
  {
   "cell_type": "code",
   "execution_count": 66,
   "id": "6882c9dc",
   "metadata": {},
   "outputs": [
    {
     "data": {
      "text/plain": [
       "'aidnI htuoS'"
      ]
     },
     "execution_count": 66,
     "metadata": {},
     "output_type": "execute_result"
    }
   ],
   "source": [
    "#  ii)To reverse words in a string\n",
    "\n",
    "Str1[::-1]\n"
   ]
  },
  {
   "cell_type": "code",
   "execution_count": 68,
   "id": "0462badd",
   "metadata": {},
   "outputs": [
    {
     "data": {
      "text/plain": [
       "'South IndiaSouth IndiaSouth India'"
      ]
     },
     "execution_count": 68,
     "metadata": {},
     "output_type": "execute_result"
    }
   ],
   "source": [
    "# iii)To display the same string multiple time\n",
    "\n",
    "Str1 * 3\n",
    "\n"
   ]
  },
  {
   "cell_type": "code",
   "execution_count": 70,
   "id": "8233485a",
   "metadata": {},
   "outputs": [
    {
     "data": {
      "text/plain": [
       "'South IndiaIndia'"
      ]
     },
     "execution_count": 70,
     "metadata": {},
     "output_type": "execute_result"
    }
   ],
   "source": [
    "# iv)To concatenate two strings\n",
    "\n",
    "Str1=\"South India\"\n",
    "Str2=\"India\"\n",
    "r= Str1 + Str2\n",
    "r\n"
   ]
  },
  {
   "cell_type": "code",
   "execution_count": null,
   "id": "28da5d11",
   "metadata": {},
   "outputs": [],
   "source": [
    "# v)Str1=\"South India\",using string slicing to display \"India\""
   ]
  },
  {
   "cell_type": "code",
   "execution_count": 71,
   "id": "f90d714b",
   "metadata": {},
   "outputs": [
    {
     "data": {
      "text/plain": [
       "'India'"
      ]
     },
     "execution_count": 71,
     "metadata": {},
     "output_type": "execute_result"
    }
   ],
   "source": [
    "Str1[6:]\n"
   ]
  },
  {
   "cell_type": "markdown",
   "id": "4f6431d5",
   "metadata": {},
   "source": [
    "# 6.Perform the following\n",
    "i)Creating the Dictionary\n",
    "ii)Accessing values and keys in the Dictionary\n",
    "iii)Updating the dictionary using a function\n",
    "iv)Clear and delete the dictionary values."
   ]
  },
  {
   "cell_type": "code",
   "execution_count": 72,
   "id": "bc633997",
   "metadata": {},
   "outputs": [],
   "source": [
    "# i)Creating the Dictionary\n",
    "\n",
    "student={'f_name':'Aditya','l_name':'Patil','city':'Belgaum'}\n"
   ]
  },
  {
   "cell_type": "code",
   "execution_count": 73,
   "id": "e68655f9",
   "metadata": {},
   "outputs": [
    {
     "data": {
      "text/plain": [
       "{'f_name': 'Aditya', 'l_name': 'Patil', 'city': 'Belgaum'}"
      ]
     },
     "execution_count": 73,
     "metadata": {},
     "output_type": "execute_result"
    }
   ],
   "source": [
    "student\n"
   ]
  },
  {
   "cell_type": "code",
   "execution_count": 75,
   "id": "fabb2dfe",
   "metadata": {},
   "outputs": [
    {
     "data": {
      "text/plain": [
       "dict_values(['Aditya', 'Patil', 'Belgaum'])"
      ]
     },
     "execution_count": 75,
     "metadata": {},
     "output_type": "execute_result"
    }
   ],
   "source": [
    "# ii)Accessing values and keys in the Dictionary\n",
    "\n",
    "student.values()\n",
    "\n",
    "\n"
   ]
  },
  {
   "cell_type": "code",
   "execution_count": 76,
   "id": "3187f2fe",
   "metadata": {},
   "outputs": [
    {
     "data": {
      "text/plain": [
       "dict_keys(['f_name', 'l_name', 'city'])"
      ]
     },
     "execution_count": 76,
     "metadata": {},
     "output_type": "execute_result"
    }
   ],
   "source": [
    "student.keys()\n"
   ]
  },
  {
   "cell_type": "code",
   "execution_count": 77,
   "id": "c001ff03",
   "metadata": {},
   "outputs": [],
   "source": [
    "# iii)Updating the dictionary using a function\n",
    "\n",
    "student.update({'class': '5'})\n",
    "\n"
   ]
  },
  {
   "cell_type": "code",
   "execution_count": 78,
   "id": "639d6ddc",
   "metadata": {},
   "outputs": [
    {
     "data": {
      "text/plain": [
       "{'f_name': 'Aditya', 'l_name': 'Patil', 'city': 'Belgaum', 'class': '5'}"
      ]
     },
     "execution_count": 78,
     "metadata": {},
     "output_type": "execute_result"
    }
   ],
   "source": [
    "student\n"
   ]
  },
  {
   "cell_type": "code",
   "execution_count": 81,
   "id": "8fb935a7",
   "metadata": {},
   "outputs": [
    {
     "data": {
      "text/plain": [
       "'Belgaum'"
      ]
     },
     "execution_count": 81,
     "metadata": {},
     "output_type": "execute_result"
    }
   ],
   "source": [
    "# iv)Clear and delete the dictionary values.\n",
    "\n",
    "student.pop('city')\n",
    "\n",
    "\n"
   ]
  },
  {
   "cell_type": "code",
   "execution_count": 82,
   "id": "3864fad0",
   "metadata": {},
   "outputs": [
    {
     "data": {
      "text/plain": [
       "{'f_name': 'Aditya', 'l_name': 'Patil'}"
      ]
     },
     "execution_count": 82,
     "metadata": {},
     "output_type": "execute_result"
    }
   ],
   "source": [
    "student\n"
   ]
  },
  {
   "cell_type": "markdown",
   "id": "2555a257",
   "metadata": {},
   "source": [
    "# 7.Python program to insert a number to any position in a list"
   ]
  },
  {
   "cell_type": "code",
   "execution_count": 83,
   "id": "ed1e9749",
   "metadata": {},
   "outputs": [],
   "source": [
    "lst=[10,20,30,40,50]\n"
   ]
  },
  {
   "cell_type": "code",
   "execution_count": 84,
   "id": "8d6db653",
   "metadata": {},
   "outputs": [
    {
     "data": {
      "text/plain": [
       "[10, 20, 30, 40, 50]"
      ]
     },
     "execution_count": 84,
     "metadata": {},
     "output_type": "execute_result"
    }
   ],
   "source": [
    "lst\n"
   ]
  },
  {
   "cell_type": "code",
   "execution_count": 85,
   "id": "d17b765f",
   "metadata": {},
   "outputs": [],
   "source": [
    "lst.insert(4,'15')\n"
   ]
  },
  {
   "cell_type": "code",
   "execution_count": 86,
   "id": "f172beb5",
   "metadata": {},
   "outputs": [
    {
     "data": {
      "text/plain": [
       "[10, 20, 30, 40, '15', 50]"
      ]
     },
     "execution_count": 86,
     "metadata": {},
     "output_type": "execute_result"
    }
   ],
   "source": [
    "lst\n",
    "\n"
   ]
  },
  {
   "cell_type": "markdown",
   "id": "4646c779",
   "metadata": {},
   "source": [
    "# 8.Python program to delete an element from a list by index"
   ]
  },
  {
   "cell_type": "code",
   "execution_count": 87,
   "id": "c3c96e22",
   "metadata": {},
   "outputs": [],
   "source": [
    "lst=[11,12,13,14,15]\n"
   ]
  },
  {
   "cell_type": "code",
   "execution_count": 88,
   "id": "80042176",
   "metadata": {},
   "outputs": [
    {
     "data": {
      "text/plain": [
       "[11, 12, 13, 14, 15]"
      ]
     },
     "execution_count": 88,
     "metadata": {},
     "output_type": "execute_result"
    }
   ],
   "source": [
    "lst\n"
   ]
  },
  {
   "cell_type": "code",
   "execution_count": 93,
   "id": "211bab4d",
   "metadata": {},
   "outputs": [
    {
     "data": {
      "text/plain": [
       "13"
      ]
     },
     "execution_count": 93,
     "metadata": {},
     "output_type": "execute_result"
    }
   ],
   "source": [
    "lst.pop(2)\n",
    "\n",
    "\n"
   ]
  },
  {
   "cell_type": "code",
   "execution_count": 94,
   "id": "5b1507f8",
   "metadata": {},
   "outputs": [
    {
     "data": {
      "text/plain": [
       "[11, 12, 14, 15]"
      ]
     },
     "execution_count": 94,
     "metadata": {},
     "output_type": "execute_result"
    }
   ],
   "source": [
    "lst\n"
   ]
  },
  {
   "cell_type": "markdown",
   "id": "46efe524",
   "metadata": {},
   "source": [
    "# 9.Write a program to display a number from 1 to 100"
   ]
  },
  {
   "cell_type": "code",
   "execution_count": 96,
   "id": "b7cfe6c1",
   "metadata": {},
   "outputs": [
    {
     "name": "stdout",
     "output_type": "stream",
     "text": [
      "1 2 3 4 5 6 7 8 9 10 11 12 13 14 15 16 17 18 19 20 21 22 23 24 25 26 27 28 29 30 31 32 33 34 35 36 37 38 39 40 41 42 43 44 45 46 47 48 49 50 51 52 53 54 55 56 57 58 59 60 61 62 63 64 65 66 67 68 69 70 71 72 73 74 75 76 77 78 79 80 81 82 83 84 85 86 87 88 89 90 91 92 93 94 95 96 97 98 99 100 "
     ]
    }
   ],
   "source": [
    "for i in range(1,101):\n",
    "    print(i, end=\" \")\n",
    "    \n",
    "    "
   ]
  },
  {
   "cell_type": "markdown",
   "id": "88f3cb19",
   "metadata": {},
   "source": [
    "# 10.Write a python program to find the sum of all items in a tuple"
   ]
  },
  {
   "cell_type": "code",
   "execution_count": 97,
   "id": "5315e4a3",
   "metadata": {},
   "outputs": [],
   "source": [
    "tup=(1,2,3,4,5)\n",
    "\n",
    "    "
   ]
  },
  {
   "cell_type": "code",
   "execution_count": 98,
   "id": "802b02c7",
   "metadata": {},
   "outputs": [
    {
     "data": {
      "text/plain": [
       "(1, 2, 3, 4, 5)"
      ]
     },
     "execution_count": 98,
     "metadata": {},
     "output_type": "execute_result"
    }
   ],
   "source": [
    "tup\n"
   ]
  },
  {
   "cell_type": "code",
   "execution_count": 103,
   "id": "ae0b4aa3",
   "metadata": {},
   "outputs": [
    {
     "name": "stdout",
     "output_type": "stream",
     "text": [
      "The sum of tuple elements is 15.0\n"
     ]
    }
   ],
   "source": [
    "import math\n",
    "r = math.fsum(tup)\n",
    "print(\"The sum of tuple elements is \" + str(r))\n",
    "\n"
   ]
  },
  {
   "cell_type": "markdown",
   "id": "12b093f6",
   "metadata": {},
   "source": [
    "# 11.Create a dictionary containing three lambda functions square, cube and square root.\n",
    "\n",
    "i)Eg .dict={'Square':function for squaring,'Cube':function for cube,'Squareroot':function for square root}\n",
    "ii)Paas the values(input from the user)to the functions in the dictionary respectively\n",
    "iii)Then add the outputs of each function and print it"
   ]
  },
  {
   "cell_type": "code",
   "execution_count": 9,
   "id": "09547a45",
   "metadata": {},
   "outputs": [
    {
     "name": "stdout",
     "output_type": "stream",
     "text": [
      "Enter a number: 2\n",
      "Square: 4.0\n",
      "Cube: 8.0\n",
      "Square Root: 1.4142135623730951\n",
      "Sum of results: 13.414213562373096\n"
     ]
    }
   ],
   "source": [
    "\n",
    "\n",
    "square = lambda x: x**2\n",
    "cube = lambda x: x**3\n",
    "square_root = lambda x: x**0.5\n",
    "\n",
    "\n",
    "num = float(input(\"Enter a number: \"))\n",
    "\n",
    "\n",
    "print(f'Square: {square(num)}')\n",
    "print(f'Cube: {cube(num)}')\n",
    "print(f'Square Root: {square_root(num)}')\n",
    "\n",
    "\n",
    "result = square(num) + cube(num) + square_root(num)\n",
    "print(f'Sum of results: {result}')\n",
    "\n",
    "\n",
    "\n",
    "    \n",
    "    \n",
    "    "
   ]
  },
  {
   "cell_type": "markdown",
   "id": "baf6b31a",
   "metadata": {},
   "source": [
    "# 12.A list of words is given .Find the words from the list that have their second character in uppercase.\n",
    "ls=['hello','Dear','hOw','ARe','You']"
   ]
  },
  {
   "cell_type": "code",
   "execution_count": 105,
   "id": "c6d314ed",
   "metadata": {
    "scrolled": true
   },
   "outputs": [
    {
     "name": "stdout",
     "output_type": "stream",
     "text": [
      "['hOw', 'ARe']\n"
     ]
    }
   ],
   "source": [
    "ls=['hello','Dear','hOw','ARe','You']\n",
    "result =[word for word in ls\n",
    "        if len(word)>=2 and word[1].isupper()]\n",
    "print(result)\n"
   ]
  },
  {
   "cell_type": "markdown",
   "id": "93f9c1d8",
   "metadata": {},
   "source": [
    "# 13.A dictionary of names and their weights on earth is given.Find how much they will weigh on the moon.(Use map and lambda functions)Formula:wMoon=(wEarth*Gmoon)/GEarth\n",
    "i) #Weight of people in kg\n",
    "\n",
    "    WeightOnEarth={'John':45,'Shelly':65,'Marry':35}\n",
    "    \n",
    "ii) #Gravitational force on the Moon:1.622 m/s2\n",
    "\n",
    "     Gmoon=1.622\n",
    "    \n",
    "iii) #Gravitational force on the Earth:9.81 m/s2 \n",
    "\n",
    "      GEarth = 9.81"
   ]
  },
  {
   "cell_type": "code",
   "execution_count": 13,
   "id": "e2cb9495",
   "metadata": {},
   "outputs": [
    {
     "name": "stdout",
     "output_type": "stream",
     "text": [
      "{'John': 7.440366972477065, 'Shelly': 10.747196738022426, 'Marry': 5.786952089704383}\n"
     ]
    }
   ],
   "source": [
    "\n",
    "    \n",
    "WeightOnEarth = {'John': 45, 'Shelly': 65, 'Marry': 35}\n",
    "\n",
    "\n",
    "GMoon = 1.622\n",
    "\n",
    "\n",
    "GEarth = 9.81\n",
    "\n",
    "\n",
    "WeightOnMoon = list(map(lambda wEarth: (wEarth * GMoon) / GEarth, WeightOnEarth.values()))\n",
    "\n",
    "\n",
    "WeightOnMoonDict = dict(zip(WeightOnEarth.keys(), WeightOnMoon))\n",
    "\n",
    "print(WeightOnMoonDict)\n",
    "    \n",
    "    \n",
    "    \n",
    "    \n",
    "    "
   ]
  },
  {
   "cell_type": "markdown",
   "id": "f8878f0d",
   "metadata": {},
   "source": [
    "# Control Structures:"
   ]
  },
  {
   "cell_type": "markdown",
   "id": "f995afad",
   "metadata": {},
   "source": [
    "# 1.Write a python program to find the first N Prime numbers"
   ]
  },
  {
   "cell_type": "code",
   "execution_count": 111,
   "id": "a79d30b3",
   "metadata": {},
   "outputs": [
    {
     "name": "stdout",
     "output_type": "stream",
     "text": [
      "Enter N:10\n",
      "First 10 Prime numbers are:2 3 5 7 11 13 17 19 23 29\n"
     ]
    }
   ],
   "source": [
    "def Prime(n):  \n",
    "    for i in range(2,n//2+1):  \n",
    "        if(n%i==0):  \n",
    "            return(0)  \n",
    "    return(1)  \n",
    "  \n",
    "N=int(input(\"Enter N:\"))  \n",
    "i=2 \n",
    "lst=[] \n",
    "while(1):  \n",
    "    if(Prime(i)):  \n",
    "        lst.append(i) \n",
    "        if(len(lst)==N): \n",
    "            break \n",
    "    i+=1 \n",
    "print(\"First \"+str(N)+\" Prime numbers are:\",end=\"\") \n",
    "print(*lst) \n"
   ]
  },
  {
   "cell_type": "markdown",
   "id": "a445641e",
   "metadata": {},
   "source": [
    "# 2. Write the python code that calculates the salary of an employee. Prompt the user to enter the Basic Salary, HRA, TA and DA.\n",
    "Add these components to calculate the Gross Salary. Also,deduct 10%of salary from the Gross Salary to be paid as tax and display\n",
    "gross minus tax as net salary."
   ]
  },
  {
   "cell_type": "code",
   "execution_count": 140,
   "id": "07969e45",
   "metadata": {},
   "outputs": [
    {
     "name": "stdout",
     "output_type": "stream",
     "text": [
      "Enter Basic Salary: 5000\n",
      "Enter HRA: 1000\n",
      "Enter TA: 500\n",
      "Enter DA: 800\n",
      "Gross Salary: 7300.0\n",
      "Tax Deduction (10%): 730.0\n",
      "Net Salary: 6570.0\n"
     ]
    }
   ],
   "source": [
    "\n",
    "basic_salary = float(input(\"Enter Basic Salary: \"))\n",
    "hra = float(input(\"Enter HRA: \"))\n",
    "ta = float(input(\"Enter TA: \"))\n",
    "da = float(input(\"Enter DA: \"))\n",
    "\n",
    "\n",
    "gross_salary = basic_salary + hra + ta + da\n",
    "\n",
    "\n",
    "tax = 0.10 * gross_salary\n",
    "\n",
    "\n",
    "net_salary = gross_salary - tax\n",
    "\n",
    "\n",
    "print(f\"Gross Salary: {gross_salary}\")\n",
    "print(f\"Tax Deduction (10%): {tax}\")\n",
    "print(f\"Net Salary: {net_salary}\")\n",
    "\n",
    "    \n",
    "    "
   ]
  },
  {
   "cell_type": "markdown",
   "id": "e19e6bee",
   "metadata": {},
   "source": [
    "# 3.Write a python program to search for a string in the given list"
   ]
  },
  {
   "cell_type": "code",
   "execution_count": 115,
   "id": "5472701c",
   "metadata": {},
   "outputs": [
    {
     "name": "stdout",
     "output_type": "stream",
     "text": [
      "school is present in the list\n"
     ]
    }
   ],
   "source": [
    "\n",
    "lst = [2, 5.0, 'it', 'a', 'school', 'six']\n",
    " \n",
    "\n",
    "s = 'school' \n",
    " \n",
    "\n",
    "if s in lst:\n",
    "    print(f'{s} is present in the list')\n",
    "else:\n",
    "    print(f'{s} is not present in the list')\n",
    "    "
   ]
  },
  {
   "cell_type": "markdown",
   "id": "9612ebc1",
   "metadata": {},
   "source": [
    "# 4.Write a python function that accepts a string and calculate the number of upper case letters and lower case letters"
   ]
  },
  {
   "cell_type": "markdown",
   "id": "d1d908af",
   "metadata": {},
   "source": [
    "def string_test(s):\n",
    "    d={\"UPPER_CASE\":0, \"LOWER_CASE\":0}\n",
    "    for c in s:\n",
    "        if c.isupper():\n",
    "           d[\"UPPER_CASE\"]+=1\n",
    "        elif c.islower():\n",
    "           d[\"LOWER_CASE\"]+=1\n",
    "        else:\n",
    "           pass\n",
    "    print (\"Original String : \", s)\n",
    "    print (\"No. of Upper case characters : \", d[\"UPPER_CASE\"])\n",
    "    print (\"No. of Lower case Characters : \", d[\"LOWER_CASE\"])\n",
    "\n",
    "string_test('The quick Brown Fox')\n"
   ]
  },
  {
   "cell_type": "code",
   "execution_count": 117,
   "id": "7fd1a48e",
   "metadata": {},
   "outputs": [
    {
     "name": "stdout",
     "output_type": "stream",
     "text": [
      "Original String :  The quick Brown Fox\n",
      "No. of Upper case characters :  3\n",
      "No. of Lower case Characters :  13\n"
     ]
    }
   ],
   "source": [
    "def string_test(s):\n",
    "    d={\"UPPER_CASE\":0, \"LOWER_CASE\":0}\n",
    "    for c in s:\n",
    "        if c.isupper():\n",
    "           d[\"UPPER_CASE\"]+=1\n",
    "        elif c.islower():\n",
    "           d[\"LOWER_CASE\"]+=1\n",
    "        else:\n",
    "           pass\n",
    "    print (\"Original String : \", s)\n",
    "    print (\"No. of Upper case characters : \", d[\"UPPER_CASE\"])\n",
    "    print (\"No. of Lower case Characters : \", d[\"LOWER_CASE\"])\n",
    "\n",
    "string_test('The quick Brown Fox')\n"
   ]
  },
  {
   "cell_type": "markdown",
   "id": "0df40de6",
   "metadata": {},
   "source": [
    "# 5.write a python program to display the sum of odd numbers and even numbers that fall between 12 and 37"
   ]
  },
  {
   "cell_type": "code",
   "execution_count": 118,
   "id": "d082772b",
   "metadata": {},
   "outputs": [
    {
     "name": "stdout",
     "output_type": "stream",
     "text": [
      "Sum of even numbers: 312\n",
      "Sum of odd numbers: 325\n"
     ]
    }
   ],
   "source": [
    "\n",
    "sum_even = 0\n",
    "sum_odd = 0\n",
    "\n",
    "\n",
    "for num in range(12, 38):\n",
    "    \n",
    "    if num % 2 == 0:\n",
    "        sum_even += num\n",
    "    else:\n",
    "        sum_odd += num\n",
    "\n",
    "\n",
    "print(\"Sum of even numbers:\", sum_even)\n",
    "print(\"Sum of odd numbers:\", sum_odd)\n"
   ]
  },
  {
   "cell_type": "markdown",
   "id": "dc3b84fa",
   "metadata": {},
   "source": [
    "# 6.Write a python Program to print the table of any number."
   ]
  },
  {
   "cell_type": "code",
   "execution_count": 119,
   "id": "fdfc61cf",
   "metadata": {},
   "outputs": [
    {
     "name": "stdout",
     "output_type": "stream",
     "text": [
      "Enter the number to print the tables for:5\n",
      "5 x 1 = 5\n",
      "5 x 2 = 10\n",
      "5 x 3 = 15\n",
      "5 x 4 = 20\n",
      "5 x 5 = 25\n",
      "5 x 6 = 30\n",
      "5 x 7 = 35\n",
      "5 x 8 = 40\n",
      "5 x 9 = 45\n",
      "5 x 10 = 50\n"
     ]
    }
   ],
   "source": [
    "n=int(input(\"Enter the number to print the tables for:\"))\n",
    "for i in range(1,11):\n",
    "    print(n,\"x\",i,\"=\",n*i)\n",
    "    "
   ]
  },
  {
   "cell_type": "markdown",
   "id": "7ede755a",
   "metadata": {},
   "source": [
    "# 7.Write a Python program to sum the first 10 prime numbers"
   ]
  },
  {
   "cell_type": "code",
   "execution_count": 120,
   "id": "f6673563",
   "metadata": {},
   "outputs": [
    {
     "name": "stdout",
     "output_type": "stream",
     "text": [
      "17\n"
     ]
    }
   ],
   "source": [
    "\n",
    "\n",
    " \n",
    "def sumOfPrimes(n):\n",
    "    \n",
    "    prime = [True] * (n + 1)\n",
    "     \n",
    "    \n",
    "    p = 2\n",
    "    while p * p <= n:\n",
    "        \n",
    "        if prime[p] == True:\n",
    "            \n",
    "            i = p * 2\n",
    "            while i <= n:\n",
    "                prime[i] = False\n",
    "                i += p\n",
    "        p += 1   \n",
    "          \n",
    "    \n",
    "    sum = 0\n",
    "    for i in range (2, n + 1):\n",
    "        if(prime[i]):\n",
    "            sum += i\n",
    "    return sum\n",
    " \n",
    "\n",
    "n = 10\n",
    "print(sumOfPrimes(n))\n"
   ]
  },
  {
   "cell_type": "markdown",
   "id": "026aa5f6",
   "metadata": {},
   "source": [
    "# 8.Write a python program to implement arithmetic operations using nested if statement"
   ]
  },
  {
   "cell_type": "code",
   "execution_count": 122,
   "id": "0f14fd68",
   "metadata": {},
   "outputs": [
    {
     "name": "stdout",
     "output_type": "stream",
     "text": [
      "Enter the first number: 5\n",
      "Enter the second number: 4\n",
      "Enter the operation (+, -, *, /): +\n",
      "Result: 9.0\n"
     ]
    }
   ],
   "source": [
    "\n",
    "num1 = float(input(\"Enter the first number: \"))\n",
    "num2 = float(input(\"Enter the second number: \"))\n",
    "operation = input(\"Enter the operation (+, -, *, /): \")\n",
    "\n",
    "\n",
    "result = 0\n",
    "\n",
    "if operation == \"+\":\n",
    "    result = num1 + num2\n",
    "elif operation == \"-\":\n",
    "    result = num1 - num2\n",
    "elif operation == \"*\":\n",
    "    result = num1 * num2\n",
    "elif operation == \"/\":\n",
    "    if num2 != 0: \n",
    "        result = num1 / num2\n",
    "    else:\n",
    "        print(\"Error: Division by zero\")\n",
    "else:\n",
    "    print(\"Invalid operation\")\n",
    "\n",
    "\n",
    "print(f\"Result: {result}\")\n"
   ]
  },
  {
   "cell_type": "markdown",
   "id": "69189bfb",
   "metadata": {},
   "source": [
    "# 9. Write a Python Program to Take the temperature in celcius and convert it to Fahrenheit."
   ]
  },
  {
   "cell_type": "code",
   "execution_count": 134,
   "id": "6a5559dc",
   "metadata": {},
   "outputs": [
    {
     "name": "stdout",
     "output_type": "stream",
     "text": [
      "Enter temperature in Celsius: 48\n",
      "48.0 degrees Celsius is equal to 118.4 degrees Fahrenheit\n"
     ]
    }
   ],
   "source": [
    "\n",
    "celsius = float(input(\"Enter temperature in Celsius: \"))\n",
    "\n",
    "\n",
    "fahrenheit = (celsius * 9/5) + 32\n",
    "\n",
    "\n",
    "print(f\"{celsius} degrees Celsius is equal to {fahrenheit} degrees Fahrenheit\")\n",
    "\n",
    "\n"
   ]
  },
  {
   "cell_type": "markdown",
   "id": "6c2d3088",
   "metadata": {},
   "source": [
    "# 10. Write a Python Program to find the max and min number in a list without using an inbuilt function."
   ]
  },
  {
   "cell_type": "code",
   "execution_count": 125,
   "id": "537ef456",
   "metadata": {},
   "outputs": [
    {
     "name": "stdout",
     "output_type": "stream",
     "text": [
      "(75, -5)\n"
     ]
    }
   ],
   "source": [
    "def max_min(data):\n",
    "  l = data[0]\n",
    "  s = data[0]\n",
    "  for num in data:\n",
    "    if num> l:\n",
    "      l = num\n",
    "    elif num< s:\n",
    "        s = num\n",
    "  return l, s\n",
    "\n",
    "print(max_min([0, 10, 15, 40, -5, 42, 17, 28, 75]))\n"
   ]
  },
  {
   "cell_type": "markdown",
   "id": "ab00806e",
   "metadata": {},
   "source": [
    "# 11. Write a Python Program to print out the number of seconds in 30 day        month 30 days, 24 hours in a day, 60 mins per day, 60 second per min"
   ]
  },
  {
   "cell_type": "code",
   "execution_count": 126,
   "id": "f5c539ec",
   "metadata": {},
   "outputs": [
    {
     "name": "stdout",
     "output_type": "stream",
     "text": [
      "The number of seconds in a 30-day month is: 2592000 seconds\n"
     ]
    }
   ],
   "source": [
    "days_in_month = 30\n",
    "hours_in_day = 24\n",
    "minutes_in_hour = 60\n",
    "seconds_in_minute = 60\n",
    "\n",
    "\n",
    "total_seconds = days_in_month * hours_in_day * minutes_in_hour * seconds_in_minute\n",
    "\n",
    "\n",
    "print(f\"The number of seconds in a 30-day month is: {total_seconds} seconds\")\n"
   ]
  },
  {
   "cell_type": "markdown",
   "id": "02fee6a6",
   "metadata": {},
   "source": [
    "# 12. Write a Python Program to print out the number of seconds in a year"
   ]
  },
  {
   "cell_type": "code",
   "execution_count": 127,
   "id": "2d16589b",
   "metadata": {},
   "outputs": [
    {
     "name": "stdout",
     "output_type": "stream",
     "text": [
      "Number of seconds in a year = 31536000\n"
     ]
    }
   ],
   "source": [
    "days = 365\n",
    "hours = 24\n",
    "mins = 60\n",
    "secs = 60\n",
    "secsInYear = days * hours * mins * secs\n",
    "print(\"Number of seconds in a year =\", secsInYear)\n"
   ]
  },
  {
   "cell_type": "markdown",
   "id": "b5687777",
   "metadata": {},
   "source": [
    "# 13. A high speed train can travel at an avg speed of 150 mph, how long will it take a train travelling at this speed to travel from Londen to Glasgow which is 414 miles away"
   ]
  },
  {
   "cell_type": "code",
   "execution_count": 128,
   "id": "c3c4eed4",
   "metadata": {},
   "outputs": [
    {
     "name": "stdout",
     "output_type": "stream",
     "text": [
      "It will take 2.76 hours to travel from London to Glasgow.\n"
     ]
    }
   ],
   "source": [
    "distance = 414  \n",
    "speed = 150  \n",
    "\n",
    "time = distance / speed\n",
    "print(f\"It will take {time} hours to travel from London to Glasgow.\")\n"
   ]
  },
  {
   "cell_type": "markdown",
   "id": "3839e8c3",
   "metadata": {},
   "source": [
    "# 14.Write a Python Program that defines a variable called days_in_each_school_year and assign 192 to variable. The program should then print out the total hours that you spend in school from year 7 to year 11. if each day you spend 6 hours in school day_in_each_school_year = 192"
   ]
  },
  {
   "cell_type": "code",
   "execution_count": 129,
   "id": "7d732b2f",
   "metadata": {},
   "outputs": [
    {
     "name": "stdout",
     "output_type": "stream",
     "text": [
      "Total hours spent in school from year 7 to year 11: 5760\n"
     ]
    }
   ],
   "source": [
    "\n",
    "days_in_each_school_year = 192\n",
    "\n",
    "\n",
    "total_hours_in_school = (days_in_each_school_year * 5)  \n",
    "total_hours = total_hours_in_school * 6 \n",
    "# Print the result\n",
    "print(\"Total hours spent in school from year 7 to year 11:\", total_hours)\n"
   ]
  },
  {
   "cell_type": "markdown",
   "id": "20d389bc",
   "metadata": {},
   "source": [
    "# 15. If the ages of Ram, Sam and Khan are input through the keyboard, write a python program to determine the eldest and the youngest of the three"
   ]
  },
  {
   "cell_type": "code",
   "execution_count": 130,
   "id": "c64e22de",
   "metadata": {},
   "outputs": [
    {
     "name": "stdout",
     "output_type": "stream",
     "text": [
      "Enter Ram's age: 11\n",
      "Enter Sam's age: 15\n",
      "Enter Khan's age: 9\n",
      "The eldest among them is 15 years old.\n",
      "The youngest among them is 9 years old.\n"
     ]
    }
   ],
   "source": [
    "\n",
    "ram_age = int(input(\"Enter Ram's age: \"))\n",
    "sam_age = int(input(\"Enter Sam's age: \"))\n",
    "khan_age = int(input(\"Enter Khan's age: \"))\n",
    "\n",
    "\n",
    "eldest = max(ram_age, sam_age, khan_age)\n",
    "\n",
    "\n",
    "youngest = min(ram_age, sam_age, khan_age)\n",
    "\n",
    "\n",
    "print(f\"The eldest among them is {eldest} years old.\")\n",
    "print(f\"The youngest among them is {youngest} years old.\")\n"
   ]
  },
  {
   "cell_type": "markdown",
   "id": "fed75c92",
   "metadata": {},
   "source": [
    "# 16.Write a python program to rotate a list by the right n times with and without slicing technique"
   ]
  },
  {
   "cell_type": "code",
   "execution_count": 133,
   "id": "9c032a38",
   "metadata": {},
   "outputs": [
    {
     "name": "stdout",
     "output_type": "stream",
     "text": [
      "[4, 5, 1, 2, 3]\n",
      "[4, 5, 1, 2, 3]\n"
     ]
    }
   ],
   "source": [
    "def rotate_list_with_slicing(lst, n):\n",
    "    n = n % len(lst)  # Ensure n is within the range of list length\n",
    "    rotated_list = lst[-n:] + lst[:-n]\n",
    "    return rotated_list\n",
    "\n",
    "\n",
    "my_list = [1, 2, 3, 4, 5]\n",
    "rotation_count = 2\n",
    "result = rotate_list_with_slicing(my_list, rotation_count)\n",
    "print(result) \n",
    "\n",
    "def rotate_list_without_slicing(lst, n):\n",
    "    n = n % len(lst)  # Ensure n is within the range of list length\n",
    "    rotated_list = [0] * len(lst)\n",
    "    for i in range(len(lst)):\n",
    "        rotated_list[(i + n) % len(lst)] = lst[i]\n",
    "    return rotated_list\n",
    "\n",
    "\n",
    "my_list = [1, 2, 3, 4, 5]\n",
    "rotation_count = 2\n",
    "result = rotate_list_without_slicing(my_list, rotation_count)\n",
    "print(result)  \n",
    "\n"
   ]
  },
  {
   "cell_type": "code",
   "execution_count": null,
   "id": "d0f9ebb8",
   "metadata": {},
   "outputs": [],
   "source": [
    "17.Python program to print the patterns given below:\n",
    "    \n",
    "  i)1                                                    \n",
    "    1 1                                                    \n",
    "    1 2 1                                                   \n",
    "    1 3 3 1                                         \n",
    "    1 4 6 4 1                                    \n",
    "    1 5 10 10 5 1\n",
    "    1 6 15 20 15 6 1\n",
    "    \n",
    " ii)*\n",
    "    * *\n",
    "    * * *\n",
    "    * * * *\n",
    "    * * * * *\n",
    "    \n",
    "iii)            *\n",
    "               * *\n",
    "              * * *\n",
    "             * * * *\n",
    "            * * * * *\n",
    "           * * * * * *\n",
    "          * * * * * * *\n",
    "            \n",
    " iv)    p\n",
    "        py\n",
    "        pyt\n",
    "        pyth\n",
    "        pytho\n",
    "        python     \n",
    "        "
   ]
  },
  {
   "cell_type": "code",
   "execution_count": 145,
   "id": "d53783db",
   "metadata": {},
   "outputs": [
    {
     "name": "stdout",
     "output_type": "stream",
     "text": [
      "1 \n",
      "1 1 \n",
      "1 2 1 \n",
      "1 3 1 1 \n",
      "1 4 1 0 1 \n",
      "1 5 2 1 0 1 \n",
      "1 6 2 1 0 0 1 \n"
     ]
    }
   ],
   "source": [
    " def print_pattern(rows):\n",
    "    for i in range(0, rows):\n",
    "        for j in range(0, i + 1):\n",
    "            \n",
    "            coefficient = 1\n",
    "            if j > 0 and j < i:\n",
    "                coefficient = coefficient * (i - j + 1) // j\n",
    "            print(coefficient, end=\" \")\n",
    "        print()\n",
    "\n",
    "\n",
    "rows = 7\n",
    "print_pattern(rows)\n",
    "\n",
    "\n",
    "\n"
   ]
  },
  {
   "cell_type": "code",
   "execution_count": 146,
   "id": "66ecefe9",
   "metadata": {},
   "outputs": [
    {
     "name": "stdout",
     "output_type": "stream",
     "text": [
      "* \n",
      "* * \n",
      "* * * \n",
      "* * * * \n",
      "* * * * * \n"
     ]
    }
   ],
   "source": [
    " n = 5  \n",
    "\n",
    "for i in range(1, n + 1):\n",
    "    for j in range(i):\n",
    "        print(\"*\", end=\" \")\n",
    "    print()\n",
    "    \n",
    "    "
   ]
  },
  {
   "cell_type": "code",
   "execution_count": 147,
   "id": "f014d04d",
   "metadata": {},
   "outputs": [
    {
     "name": "stdout",
     "output_type": "stream",
     "text": [
      "      * \n",
      "     * * \n",
      "    * * * \n",
      "   * * * * \n",
      "  * * * * * \n",
      " * * * * * * \n",
      "* * * * * * * \n"
     ]
    }
   ],
   "source": [
    "rows = 7  \n",
    "\n",
    "for i in range(1, rows + 1):\n",
    "   \n",
    "    for j in range(rows - i):\n",
    "        print(\" \", end=\"\")\n",
    "\n",
    "    \n",
    "    for k in range(i):\n",
    "        print(\"*\", end=\" \")\n",
    "\n",
    "    \n",
    "    print()\n",
    "    "
   ]
  },
  {
   "cell_type": "code",
   "execution_count": 148,
   "id": "6341afba",
   "metadata": {},
   "outputs": [
    {
     "name": "stdout",
     "output_type": "stream",
     "text": [
      "p\n",
      "py\n",
      "pyt\n",
      "pyth\n",
      "pytho\n",
      "python\n"
     ]
    }
   ],
   "source": [
    "word = \"python\"\n",
    "\n",
    "for i in range(1, len(word) + 1):\n",
    "    print(word[:i])\n",
    "\n",
    "    "
   ]
  }
 ],
 "metadata": {
  "kernelspec": {
   "display_name": "Python 3 (ipykernel)",
   "language": "python",
   "name": "python3"
  },
  "language_info": {
   "codemirror_mode": {
    "name": "ipython",
    "version": 3
   },
   "file_extension": ".py",
   "mimetype": "text/x-python",
   "name": "python",
   "nbconvert_exporter": "python",
   "pygments_lexer": "ipython3",
   "version": "3.11.4"
  }
 },
 "nbformat": 4,
 "nbformat_minor": 5
}
