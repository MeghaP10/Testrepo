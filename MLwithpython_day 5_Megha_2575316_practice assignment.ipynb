{
 "cells": [
  {
   "cell_type": "markdown",
   "id": "35c07f9d",
   "metadata": {},
   "source": [
    "# Decision Tree for Predictive Modeling"
   ]
  },
  {
   "cell_type": "code",
   "execution_count": 1,
   "id": "9a2e3271",
   "metadata": {},
   "outputs": [],
   "source": [
    "import numpy as np\n",
    "import pandas as pd\n",
    "import matplotlib.pyplot as plt\n",
    "import seaborn as sns"
   ]
  },
  {
   "cell_type": "code",
   "execution_count": 14,
   "id": "d7781eb5",
   "metadata": {},
   "outputs": [
    {
     "data": {
      "text/html": [
       "<div>\n",
       "<style scoped>\n",
       "    .dataframe tbody tr th:only-of-type {\n",
       "        vertical-align: middle;\n",
       "    }\n",
       "\n",
       "    .dataframe tbody tr th {\n",
       "        vertical-align: top;\n",
       "    }\n",
       "\n",
       "    .dataframe thead th {\n",
       "        text-align: right;\n",
       "    }\n",
       "</style>\n",
       "<table border=\"1\" class=\"dataframe\">\n",
       "  <thead>\n",
       "    <tr style=\"text-align: right;\">\n",
       "      <th></th>\n",
       "      <th>Customer ID</th>\n",
       "      <th>Star_rating</th>\n",
       "      <th>Reviews_posted</th>\n",
       "    </tr>\n",
       "  </thead>\n",
       "  <tbody>\n",
       "    <tr>\n",
       "      <th>0</th>\n",
       "      <td>462809</td>\n",
       "      <td>4</td>\n",
       "      <td>5</td>\n",
       "    </tr>\n",
       "    <tr>\n",
       "      <th>1</th>\n",
       "      <td>462643</td>\n",
       "      <td>1</td>\n",
       "      <td>2</td>\n",
       "    </tr>\n",
       "    <tr>\n",
       "      <th>2</th>\n",
       "      <td>466315</td>\n",
       "      <td>1</td>\n",
       "      <td>3</td>\n",
       "    </tr>\n",
       "    <tr>\n",
       "      <th>3</th>\n",
       "      <td>461735</td>\n",
       "      <td>1</td>\n",
       "      <td>2</td>\n",
       "    </tr>\n",
       "    <tr>\n",
       "      <th>4</th>\n",
       "      <td>462669</td>\n",
       "      <td>1</td>\n",
       "      <td>1</td>\n",
       "    </tr>\n",
       "    <tr>\n",
       "      <th>...</th>\n",
       "      <td>...</td>\n",
       "      <td>...</td>\n",
       "      <td>...</td>\n",
       "    </tr>\n",
       "    <tr>\n",
       "      <th>200</th>\n",
       "      <td>465634</td>\n",
       "      <td>5</td>\n",
       "      <td>1</td>\n",
       "    </tr>\n",
       "    <tr>\n",
       "      <th>201</th>\n",
       "      <td>459429</td>\n",
       "      <td>4</td>\n",
       "      <td>2</td>\n",
       "    </tr>\n",
       "    <tr>\n",
       "      <th>202</th>\n",
       "      <td>462036</td>\n",
       "      <td>4</td>\n",
       "      <td>43</td>\n",
       "    </tr>\n",
       "    <tr>\n",
       "      <th>203</th>\n",
       "      <td>461282</td>\n",
       "      <td>1</td>\n",
       "      <td>7</td>\n",
       "    </tr>\n",
       "    <tr>\n",
       "      <th>204</th>\n",
       "      <td>464464</td>\n",
       "      <td>5</td>\n",
       "      <td>29</td>\n",
       "    </tr>\n",
       "  </tbody>\n",
       "</table>\n",
       "<p>205 rows × 3 columns</p>\n",
       "</div>"
      ],
      "text/plain": [
       "     Customer ID  Star_rating  Reviews_posted\n",
       "0         462809            4               5\n",
       "1         462643            1               2\n",
       "2         466315            1               3\n",
       "3         461735            1               2\n",
       "4         462669            1               1\n",
       "..           ...          ...             ...\n",
       "200       465634            5               1\n",
       "201       459429            4               2\n",
       "202       462036            4              43\n",
       "203       461282            1               7\n",
       "204       464464            5              29\n",
       "\n",
       "[205 rows x 3 columns]"
      ]
     },
     "execution_count": 14,
     "metadata": {},
     "output_type": "execute_result"
    }
   ],
   "source": [
    "#load the dataset\n",
    "data=pd.read_csv('customer shopping.csv')\n",
    "data"
   ]
  },
  {
   "cell_type": "code",
   "execution_count": null,
   "id": "6a6c29f1",
   "metadata": {},
   "outputs": [],
   "source": []
  },
  {
   "cell_type": "code",
   "execution_count": 15,
   "id": "a02a9380",
   "metadata": {},
   "outputs": [
    {
     "data": {
      "text/plain": [
       "Customer ID       0\n",
       "Star_rating       0\n",
       "Reviews_posted    0\n",
       "dtype: int64"
      ]
     },
     "execution_count": 15,
     "metadata": {},
     "output_type": "execute_result"
    }
   ],
   "source": [
    "data.isna().sum()\n"
   ]
  },
  {
   "cell_type": "code",
   "execution_count": 16,
   "id": "eb4f841f",
   "metadata": {},
   "outputs": [
    {
     "data": {
      "text/html": [
       "<div>\n",
       "<style scoped>\n",
       "    .dataframe tbody tr th:only-of-type {\n",
       "        vertical-align: middle;\n",
       "    }\n",
       "\n",
       "    .dataframe tbody tr th {\n",
       "        vertical-align: top;\n",
       "    }\n",
       "\n",
       "    .dataframe thead th {\n",
       "        text-align: right;\n",
       "    }\n",
       "</style>\n",
       "<table border=\"1\" class=\"dataframe\">\n",
       "  <thead>\n",
       "    <tr style=\"text-align: right;\">\n",
       "      <th></th>\n",
       "      <th>Customer ID</th>\n",
       "      <th>Star_rating</th>\n",
       "      <th>Reviews_posted</th>\n",
       "    </tr>\n",
       "  </thead>\n",
       "  <tbody>\n",
       "    <tr>\n",
       "      <th>0</th>\n",
       "      <td>462809</td>\n",
       "      <td>4</td>\n",
       "      <td>5</td>\n",
       "    </tr>\n",
       "  </tbody>\n",
       "</table>\n",
       "</div>"
      ],
      "text/plain": [
       "   Customer ID  Star_rating  Reviews_posted\n",
       "0       462809            4               5"
      ]
     },
     "execution_count": 16,
     "metadata": {},
     "output_type": "execute_result"
    }
   ],
   "source": [
    "data.head(1)"
   ]
  },
  {
   "cell_type": "code",
   "execution_count": 17,
   "id": "4b906ff3",
   "metadata": {},
   "outputs": [
    {
     "data": {
      "text/html": [
       "<div>\n",
       "<style scoped>\n",
       "    .dataframe tbody tr th:only-of-type {\n",
       "        vertical-align: middle;\n",
       "    }\n",
       "\n",
       "    .dataframe tbody tr th {\n",
       "        vertical-align: top;\n",
       "    }\n",
       "\n",
       "    .dataframe thead th {\n",
       "        text-align: right;\n",
       "    }\n",
       "</style>\n",
       "<table border=\"1\" class=\"dataframe\">\n",
       "  <thead>\n",
       "    <tr style=\"text-align: right;\">\n",
       "      <th></th>\n",
       "      <th>Customer ID</th>\n",
       "      <th>Star_rating</th>\n",
       "    </tr>\n",
       "  </thead>\n",
       "  <tbody>\n",
       "    <tr>\n",
       "      <th>0</th>\n",
       "      <td>462809</td>\n",
       "      <td>4</td>\n",
       "    </tr>\n",
       "    <tr>\n",
       "      <th>1</th>\n",
       "      <td>462643</td>\n",
       "      <td>1</td>\n",
       "    </tr>\n",
       "  </tbody>\n",
       "</table>\n",
       "</div>"
      ],
      "text/plain": [
       "   Customer ID  Star_rating\n",
       "0       462809            4\n",
       "1       462643            1"
      ]
     },
     "execution_count": 17,
     "metadata": {},
     "output_type": "execute_result"
    }
   ],
   "source": [
    "x=data.iloc[:,:-1]\n",
    "x.head(2)\n"
   ]
  },
  {
   "cell_type": "code",
   "execution_count": 19,
   "id": "b33bca75",
   "metadata": {},
   "outputs": [
    {
     "data": {
      "text/html": [
       "<div>\n",
       "<style scoped>\n",
       "    .dataframe tbody tr th:only-of-type {\n",
       "        vertical-align: middle;\n",
       "    }\n",
       "\n",
       "    .dataframe tbody tr th {\n",
       "        vertical-align: top;\n",
       "    }\n",
       "\n",
       "    .dataframe thead th {\n",
       "        text-align: right;\n",
       "    }\n",
       "</style>\n",
       "<table border=\"1\" class=\"dataframe\">\n",
       "  <thead>\n",
       "    <tr style=\"text-align: right;\">\n",
       "      <th></th>\n",
       "      <th>Reviews_posted</th>\n",
       "    </tr>\n",
       "  </thead>\n",
       "  <tbody>\n",
       "    <tr>\n",
       "      <th>0</th>\n",
       "      <td>5</td>\n",
       "    </tr>\n",
       "    <tr>\n",
       "      <th>1</th>\n",
       "      <td>2</td>\n",
       "    </tr>\n",
       "  </tbody>\n",
       "</table>\n",
       "</div>"
      ],
      "text/plain": [
       "   Reviews_posted\n",
       "0               5\n",
       "1               2"
      ]
     },
     "execution_count": 19,
     "metadata": {},
     "output_type": "execute_result"
    }
   ],
   "source": [
    "y=data.iloc[:,-1:]\n",
    "y.head(2)"
   ]
  },
  {
   "cell_type": "code",
   "execution_count": 20,
   "id": "882330a6",
   "metadata": {},
   "outputs": [
    {
     "data": {
      "text/plain": [
       "array([[<Axes: title={'center': 'Customer ID'}>,\n",
       "        <Axes: title={'center': 'Star_rating'}>],\n",
       "       [<Axes: title={'center': 'Reviews_posted'}>, <Axes: >]],\n",
       "      dtype=object)"
      ]
     },
     "execution_count": 20,
     "metadata": {},
     "output_type": "execute_result"
    },
    {
     "data": {
      "image/png": "[encoded data removed]",
      "text/plain": [
       "<Figure size 1000x900 with 4 Axes>"
      ]
     },
     "metadata": {},
     "output_type": "display_data"
    }
   ],
   "source": [
    "data.hist(figsize=(10,9))"
   ]
  },
  {
   "cell_type": "code",
   "execution_count": 22,
   "id": "b5753a8b",
   "metadata": {},
   "outputs": [
    {
     "name": "stdout",
     "output_type": "stream",
     "text": [
      "****************Training Data Shape********************\n",
      "\n",
      "Training data-X- Shape:\t (153, 2)\n",
      "\n",
      "Training data-y- Shape:\t (153, 1)\n",
      "\n",
      "****************Testing Data Shape********************\n",
      "\n",
      "Testing data(x-Input) Shape:\t (52, 2)\n",
      "\n",
      "Testing data(y-Outcome) Shape:\t (52, 1)\n"
     ]
    }
   ],
   "source": [
    "from sklearn.model_selection import train_test_split\n",
    "xtrain,xtest,ytrain,ytest=train_test_split(x,y,test_size=.25,random_state=2)\n",
    "print('****************Training Data Shape********************\\n')\n",
    "print('Training data-X- Shape:\\t',xtrain.shape)\n",
    "print()\n",
    "print('Training data-y- Shape:\\t',ytrain.shape)\n",
    "print()\n",
    "print('****************Testing Data Shape********************\\n')\n",
    "print('Testing data(x-Input) Shape:\\t',xtest.shape)\n",
    "print()\n",
    "print('Testing data(y-Outcome) Shape:\\t',ytest.shape)"
   ]
  },
  {
   "cell_type": "markdown",
   "id": "30cbdc5a",
   "metadata": {},
   "source": [
    "# Build the Decision Tree model with criterion =GINI index method\n"
   ]
  },
  {
   "cell_type": "code",
   "execution_count": 23,
   "id": "d6a5c03c",
   "metadata": {},
   "outputs": [
    {
     "name": "stdout",
     "output_type": "stream",
     "text": [
      "****************************************************************************************************\n",
      "Decison Tree Model\n",
      "****************************************************************************************************\n",
      "\n",
      " Training Phase\n",
      "Hyperparameter:\n",
      " {'ccp_alpha': 0.0, 'class_weight': None, 'criterion': 'gini', 'max_depth': None, 'max_features': None, 'max_leaf_nodes': None, 'min_impurity_decrease': 0.0, 'min_samples_leaf': 1, 'min_samples_split': 2, 'min_weight_fraction_leaf': 0.0, 'random_state': None, 'splitter': 'best'}\n",
      "Training Completed\n",
      "====================================================================================================\n",
      "\n",
      " Test Phase\n",
      "Predicted class labels for the test samples:\n",
      " [ 3  1  1  2  2  2  1  2  1  1  7  3  1  3  2  3  5 14  2  1  4  3 14  1\n",
      "  1  3  1  1  4  6 14 14 31  4  9  2 14  5  5 13  3  2  1 29  2  4  7 16\n",
      "  4  1 13 11]\n",
      "\n",
      "Testing completed\n",
      "====================================================================================================\n"
     ]
    }
   ],
   "source": [
    "from sklearn.tree import DecisionTreeClassifier\n",
    "dt_clf=DecisionTreeClassifier()\n",
    "print('*'*100)\n",
    "print('Decison Tree Model')\n",
    "print('*'*100)\n",
    "print('\\n Training Phase')\n",
    "dt_clf.fit(xtrain,ytrain)\n",
    "print('Hyperparameter:\\n',dt_clf.get_params())\n",
    "print('Training Completed')\n",
    "print('='*100)\n",
    "print('\\n Test Phase')\n",
    "ypred=dt_clf.predict(xtest)\n",
    "print('Predicted class labels for the test samples:\\n',ypred)\n",
    "print()\n",
    "print('Testing completed')\n",
    "print('='*100)"
   ]
  },
  {
   "cell_type": "code",
   "execution_count": 28,
   "id": "3e41e32b",
   "metadata": {},
   "outputs": [
    {
     "name": "stdout",
     "output_type": "stream",
     "text": [
      "****************************************************************************************************\n",
      "Decison Tree - Performance Measures\n",
      "****************************************************************************************************\n",
      "Accuracy Score:\t 0.11538461538461539\n",
      "====================================================================================================\n",
      "Confusion Matric:\n",
      " [[2 5 2 3 0 0 0 0 0 2 0 0 0 0 0 0 0 0 0]\n",
      " [5 2 0 0 1 0 0 1 1 1 0 0 1 0 0 0 1 0 0]\n",
      " [1 2 1 0 2 1 0 0 0 1 0 0 0 0 0 0 0 0 0]\n",
      " [0 1 1 1 0 1 0 0 0 0 0 0 0 0 0 0 0 0 0]\n",
      " [0 0 2 0 0 0 0 0 0 0 0 0 2 0 0 0 0 0 0]\n",
      " [0 0 0 0 0 0 0 0 0 0 0 0 0 0 0 0 0 0 0]\n",
      " [0 1 0 0 0 0 0 0 0 0 0 0 0 0 0 0 0 0 0]\n",
      " [0 0 0 0 0 0 0 0 0 0 0 1 0 0 0 0 0 0 0]\n",
      " [0 0 0 0 0 0 0 0 0 0 0 0 0 0 0 0 0 0 0]\n",
      " [0 0 0 0 0 0 0 0 0 0 0 0 0 0 0 0 0 0 0]\n",
      " [0 0 0 0 1 0 0 0 0 0 0 0 0 0 0 0 0 0 0]\n",
      " [0 0 0 0 0 0 0 0 0 0 0 0 0 0 0 0 0 0 0]\n",
      " [0 0 0 0 0 0 0 0 0 0 0 0 0 0 0 0 0 0 0]\n",
      " [0 0 1 0 0 0 0 0 0 0 0 0 0 0 0 0 0 0 0]\n",
      " [0 0 0 0 0 0 0 0 0 1 0 0 0 0 0 0 0 0 0]\n",
      " [0 0 2 0 0 0 0 0 0 0 0 0 0 0 0 0 0 0 0]\n",
      " [0 0 0 0 0 0 0 0 0 0 0 0 0 0 0 0 0 0 0]\n",
      " [0 0 0 0 0 0 1 0 0 0 0 0 0 0 0 0 0 0 0]\n",
      " [1 0 0 0 0 0 0 0 0 0 0 0 0 0 0 0 0 0 0]]\n",
      "====================================================================================================\n",
      "Classification Report\n",
      "               precision    recall  f1-score   support\n",
      "\n",
      "           1       0.22      0.14      0.17        14\n",
      "           2       0.18      0.15      0.17        13\n",
      "           3       0.11      0.12      0.12         8\n",
      "           4       0.25      0.25      0.25         4\n",
      "           5       0.00      0.00      0.00         4\n",
      "           6       0.00      0.00      0.00         0\n",
      "           7       0.00      0.00      0.00         1\n",
      "           8       0.00      0.00      0.00         1\n",
      "           9       0.00      0.00      0.00         0\n",
      "          11       0.00      0.00      0.00         0\n",
      "          12       0.00      0.00      0.00         1\n",
      "          13       0.00      0.00      0.00         0\n",
      "          14       0.00      0.00      0.00         0\n",
      "          18       0.00      0.00      0.00         1\n",
      "          19       0.00      0.00      0.00         1\n",
      "          23       0.00      0.00      0.00         2\n",
      "          29       0.00      0.00      0.00         0\n",
      "          40       0.00      0.00      0.00         1\n",
      "          50       0.00      0.00      0.00         1\n",
      "\n",
      "    accuracy                           0.12        52\n",
      "   macro avg       0.04      0.04      0.04        52\n",
      "weighted avg       0.14      0.12      0.13        52\n",
      "\n",
      "====================================================================================================\n"
     ]
    },
    {
     "name": "stderr",
     "output_type": "stream",
     "text": [
      "C:\\Users\\MEGHA\\anaconda3\\Lib\\site-packages\\sklearn\\metrics\\_classification.py:1469: UndefinedMetricWarning: Precision and F-score are ill-defined and being set to 0.0 in labels with no predicted samples. Use `zero_division` parameter to control this behavior.\n",
      "  _warn_prf(average, modifier, msg_start, len(result))\n",
      "C:\\Users\\MEGHA\\anaconda3\\Lib\\site-packages\\sklearn\\metrics\\_classification.py:1469: UndefinedMetricWarning: Recall and F-score are ill-defined and being set to 0.0 in labels with no true samples. Use `zero_division` parameter to control this behavior.\n",
      "  _warn_prf(average, modifier, msg_start, len(result))\n",
      "C:\\Users\\MEGHA\\anaconda3\\Lib\\site-packages\\sklearn\\metrics\\_classification.py:1469: UndefinedMetricWarning: Precision and F-score are ill-defined and being set to 0.0 in labels with no predicted samples. Use `zero_division` parameter to control this behavior.\n",
      "  _warn_prf(average, modifier, msg_start, len(result))\n",
      "C:\\Users\\MEGHA\\anaconda3\\Lib\\site-packages\\sklearn\\metrics\\_classification.py:1469: UndefinedMetricWarning: Recall and F-score are ill-defined and being set to 0.0 in labels with no true samples. Use `zero_division` parameter to control this behavior.\n",
      "  _warn_prf(average, modifier, msg_start, len(result))\n",
      "C:\\Users\\MEGHA\\anaconda3\\Lib\\site-packages\\sklearn\\metrics\\_classification.py:1469: UndefinedMetricWarning: Precision and F-score are ill-defined and being set to 0.0 in labels with no predicted samples. Use `zero_division` parameter to control this behavior.\n",
      "  _warn_prf(average, modifier, msg_start, len(result))\n",
      "C:\\Users\\MEGHA\\anaconda3\\Lib\\site-packages\\sklearn\\metrics\\_classification.py:1469: UndefinedMetricWarning: Recall and F-score are ill-defined and being set to 0.0 in labels with no true samples. Use `zero_division` parameter to control this behavior.\n",
      "  _warn_prf(average, modifier, msg_start, len(result))\n"
     ]
    }
   ],
   "source": [
    "from sklearn.metrics import accuracy_score\n",
    "from sklearn.metrics import confusion_matrix\n",
    "from sklearn.metrics import classification_report\n",
    "print('*'*100)\n",
    "print('Decison Tree - Performance Measures')\n",
    "print('*'*100)\n",
    "print('Accuracy Score:\\t',accuracy_score(ytest,ypred))\n",
    "print('='*100)\n",
    "print('Confusion Matric:\\n',confusion_matrix(ytest,ypred))\n",
    "print('='*100)\n",
    "print('Classification Report\\n',classification_report(ytest,ypred))\n",
    "print('='*100)"
   ]
  },
  {
   "cell_type": "markdown",
   "id": "99edd491",
   "metadata": {},
   "source": [
    "# Build the Decision Tree model with criterion =entropy index method\n",
    "\n"
   ]
  },
  {
   "cell_type": "code",
   "execution_count": 29,
   "id": "58ae769a",
   "metadata": {},
   "outputs": [
    {
     "name": "stdout",
     "output_type": "stream",
     "text": [
      "****************************************************************************************************\n",
      "Decison Tree Model\n",
      "****************************************************************************************************\n",
      "\n",
      " Training Phase\n",
      "Hyperparameter:\n",
      " {'ccp_alpha': 0.0, 'class_weight': None, 'criterion': 'entropy', 'max_depth': None, 'max_features': None, 'max_leaf_nodes': None, 'min_impurity_decrease': 0.0, 'min_samples_leaf': 1, 'min_samples_split': 2, 'min_weight_fraction_leaf': 0.0, 'random_state': None, 'splitter': 'best'}\n",
      "Training Completed\n",
      "====================================================================================================\n",
      "\n",
      " Test Phase\n",
      "Predicted class labels for the test samples:\n",
      " [ 3  2  1  3  1  2  1  1  2  1 13 14  3  3  2  1  5  3  2  1  4  1  5  1\n",
      "  1  3  6  1  4  6  3 14 11  4  8  2 14  5 35  5  3  2  1 29  2  4  7  2\n",
      "  2  1  2 11]\n",
      "\n",
      "Testing completed\n",
      "====================================================================================================\n"
     ]
    }
   ],
   "source": [
    "from sklearn.tree import DecisionTreeClassifier\n",
    "dt_clf=DecisionTreeClassifier(criterion='entropy')\n",
    "print('*'*100)\n",
    "print('Decison Tree Model')\n",
    "print('*'*100)\n",
    "print('\\n Training Phase')\n",
    "dt_clf.fit(xtrain,ytrain)\n",
    "print('Hyperparameter:\\n',dt_clf.get_params())\n",
    "print('Training Completed')\n",
    "print('='*100)\n",
    "print('\\n Test Phase')\n",
    "ypred=dt_clf.predict(xtest)\n",
    "print('Predicted class labels for the test samples:\\n',ypred)\n",
    "print()\n",
    "print('Testing completed')\n",
    "print('='*100)\n"
   ]
  },
  {
   "cell_type": "code",
   "execution_count": 30,
   "id": "8e9774da",
   "metadata": {},
   "outputs": [
    {
     "name": "stdout",
     "output_type": "stream",
     "text": [
      "****************************************************************************************************\n",
      "Decison Tree - Performance Measures\n",
      "****************************************************************************************************\n",
      "Accuracy Score:\t 0.1346153846153846\n",
      "====================================================================================================\n",
      "Confusion Matric:\n",
      " [[2 5 2 3 1 0 0 0 1 0 0 0 0 0 0 0 0 0 0]\n",
      " [8 2 0 0 0 0 0 1 0 0 0 1 0 0 0 1 0 0 0]\n",
      " [2 2 1 0 1 1 0 0 0 0 0 0 0 0 0 0 1 0 0]\n",
      " [0 1 1 1 0 1 0 0 0 0 0 0 0 0 0 0 0 0 0]\n",
      " [0 0 1 0 1 0 0 0 0 0 0 2 0 0 0 0 0 0 0]\n",
      " [0 0 0 0 0 0 0 0 0 0 0 0 0 0 0 0 0 0 0]\n",
      " [0 1 0 0 0 0 0 0 0 0 0 0 0 0 0 0 0 0 0]\n",
      " [0 0 0 0 0 0 0 0 0 0 1 0 0 0 0 0 0 0 0]\n",
      " [0 0 0 0 0 0 0 0 0 0 0 0 0 0 0 0 0 0 0]\n",
      " [0 0 0 0 1 0 0 0 0 0 0 0 0 0 0 0 0 0 0]\n",
      " [0 0 0 0 0 0 0 0 0 0 0 0 0 0 0 0 0 0 0]\n",
      " [0 0 0 0 0 0 0 0 0 0 0 0 0 0 0 0 0 0 0]\n",
      " [0 0 1 0 0 0 0 0 0 0 0 0 0 0 0 0 0 0 0]\n",
      " [0 0 0 0 0 0 0 0 1 0 0 0 0 0 0 0 0 0 0]\n",
      " [0 0 2 0 0 0 0 0 0 0 0 0 0 0 0 0 0 0 0]\n",
      " [0 0 0 0 0 0 0 0 0 0 0 0 0 0 0 0 0 0 0]\n",
      " [0 0 0 0 0 0 0 0 0 0 0 0 0 0 0 0 0 0 0]\n",
      " [0 0 0 0 0 0 1 0 0 0 0 0 0 0 0 0 0 0 0]\n",
      " [1 0 0 0 0 0 0 0 0 0 0 0 0 0 0 0 0 0 0]]\n",
      "====================================================================================================\n",
      "Classification Report\n",
      "               precision    recall  f1-score   support\n",
      "\n",
      "           1       0.15      0.14      0.15        14\n",
      "           2       0.18      0.15      0.17        13\n",
      "           3       0.12      0.12      0.12         8\n",
      "           4       0.25      0.25      0.25         4\n",
      "           5       0.25      0.25      0.25         4\n",
      "           6       0.00      0.00      0.00         0\n",
      "           7       0.00      0.00      0.00         1\n",
      "           8       0.00      0.00      0.00         1\n",
      "          11       0.00      0.00      0.00         0\n",
      "          12       0.00      0.00      0.00         1\n",
      "          13       0.00      0.00      0.00         0\n",
      "          14       0.00      0.00      0.00         0\n",
      "          18       0.00      0.00      0.00         1\n",
      "          19       0.00      0.00      0.00         1\n",
      "          23       0.00      0.00      0.00         2\n",
      "          29       0.00      0.00      0.00         0\n",
      "          35       0.00      0.00      0.00         0\n",
      "          40       0.00      0.00      0.00         1\n",
      "          50       0.00      0.00      0.00         1\n",
      "\n",
      "    accuracy                           0.13        52\n",
      "   macro avg       0.05      0.05      0.05        52\n",
      "weighted avg       0.14      0.13      0.14        52\n",
      "\n",
      "====================================================================================================\n"
     ]
    },
    {
     "name": "stderr",
     "output_type": "stream",
     "text": [
      "C:\\Users\\MEGHA\\anaconda3\\Lib\\site-packages\\sklearn\\metrics\\_classification.py:1469: UndefinedMetricWarning: Precision and F-score are ill-defined and being set to 0.0 in labels with no predicted samples. Use `zero_division` parameter to control this behavior.\n",
      "  _warn_prf(average, modifier, msg_start, len(result))\n",
      "C:\\Users\\MEGHA\\anaconda3\\Lib\\site-packages\\sklearn\\metrics\\_classification.py:1469: UndefinedMetricWarning: Recall and F-score are ill-defined and being set to 0.0 in labels with no true samples. Use `zero_division` parameter to control this behavior.\n",
      "  _warn_prf(average, modifier, msg_start, len(result))\n",
      "C:\\Users\\MEGHA\\anaconda3\\Lib\\site-packages\\sklearn\\metrics\\_classification.py:1469: UndefinedMetricWarning: Precision and F-score are ill-defined and being set to 0.0 in labels with no predicted samples. Use `zero_division` parameter to control this behavior.\n",
      "  _warn_prf(average, modifier, msg_start, len(result))\n",
      "C:\\Users\\MEGHA\\anaconda3\\Lib\\site-packages\\sklearn\\metrics\\_classification.py:1469: UndefinedMetricWarning: Recall and F-score are ill-defined and being set to 0.0 in labels with no true samples. Use `zero_division` parameter to control this behavior.\n",
      "  _warn_prf(average, modifier, msg_start, len(result))\n",
      "C:\\Users\\MEGHA\\anaconda3\\Lib\\site-packages\\sklearn\\metrics\\_classification.py:1469: UndefinedMetricWarning: Precision and F-score are ill-defined and being set to 0.0 in labels with no predicted samples. Use `zero_division` parameter to control this behavior.\n",
      "  _warn_prf(average, modifier, msg_start, len(result))\n",
      "C:\\Users\\MEGHA\\anaconda3\\Lib\\site-packages\\sklearn\\metrics\\_classification.py:1469: UndefinedMetricWarning: Recall and F-score are ill-defined and being set to 0.0 in labels with no true samples. Use `zero_division` parameter to control this behavior.\n",
      "  _warn_prf(average, modifier, msg_start, len(result))\n"
     ]
    }
   ],
   "source": [
    "from sklearn.metrics import accuracy_score\n",
    "from sklearn.metrics import confusion_matrix\n",
    "from sklearn.metrics import classification_report\n",
    "print('*'*100)\n",
    "print('Decison Tree - Performance Measures')\n",
    "print('*'*100)\n",
    "print('Accuracy Score:\\t',accuracy_score(ytest,ypred))\n",
    "print('='*100)\n",
    "print('Confusion Matric:\\n',confusion_matrix(ytest,ypred))\n",
    "print('='*100)\n",
    "print('Classification Report\\n',classification_report(ytest,ypred))\n",
    "print('='*100)"
   ]
  },
  {
   "cell_type": "markdown",
   "id": "5b2b70c1",
   "metadata": {},
   "source": [
    "# Regression Model"
   ]
  },
  {
   "cell_type": "code",
   "execution_count": 31,
   "id": "07eedec5",
   "metadata": {},
   "outputs": [],
   "source": [
    "from sklearn.model_selection import train_test_split\n",
    "from sklearn.tree import DecisionTreeRegressor\n",
    "from sklearn.metrics import mean_squared_error, r2_score\n",
    "\n",
    "# Features and target variable\n",
    "features = data.drop(['Customer ID', 'Star_rating'], axis=1)\n",
    "target_sales = data['Reviews_posted']\n",
    "\n",
    "# Split the dataset into training and testing sets\n",
    "X_train, X_test, y_train, y_test = train_test_split(features, target_sales, test_size=0.2, random_state=42)\n",
    "\n",
    "# Initialize the decision tree regression model\n",
    "regression_model = DecisionTreeRegressor(random_state=42)\n",
    "\n",
    "# Train the regression model\n",
    "regression_model.fit(X_train, y_train)\n",
    "\n",
    "# Predict sales for the test set\n",
    "predictions = regression_model.predict(X_test)"
   ]
  },
  {
   "cell_type": "code",
   "execution_count": 33,
   "id": "63fd8f3e",
   "metadata": {},
   "outputs": [
    {
     "name": "stdout",
     "output_type": "stream",
     "text": [
      "Mean Squared Error: 2.658536585365854\n",
      "R-squared: 0.9748262226378108\n"
     ]
    }
   ],
   "source": [
    "#Calculate mean squared error\n",
    "mse = mean_squared_error(y_test, predictions)\n",
    "\n",
    "# Calculate R-squared\n",
    "r_squared = r2_score(y_test, predictions)\n",
    "\n",
    "print(f'Mean Squared Error: {mse}')\n",
    "print(f'R-squared: {r_squared}')"
   ]
  },
  {
   "cell_type": "markdown",
   "id": "711a1cca",
   "metadata": {},
   "source": [
    "# Max depth"
   ]
  },
  {
   "cell_type": "code",
   "execution_count": 34,
   "id": "05a020e8",
   "metadata": {},
   "outputs": [
    {
     "name": "stderr",
     "output_type": "stream",
     "text": [
      "C:\\Users\\MEGHA\\anaconda3\\Lib\\site-packages\\sklearn\\model_selection\\_split.py:725: UserWarning: The least populated class in y has only 1 members, which is less than n_splits=5.\n",
      "  warnings.warn(\n"
     ]
    },
    {
     "name": "stdout",
     "output_type": "stream",
     "text": [
      "3\n"
     ]
    }
   ],
   "source": [
    "from sklearn.tree import DecisionTreeClassifier\n",
    "from sklearn.model_selection import GridSearchCV\n",
    "param_grid={ 'max_depth':[None,3,4,5,6,7,8,10]}\n",
    "clf=DecisionTreeClassifier(criterion='entropy')\n",
    "grid_search=GridSearchCV(clf,param_grid,cv=5)\n",
    "grid_search.fit(xtrain,ytrain)\n",
    "best_max_depth=grid_search.best_params_['max_depth']\n",
    "print(best_max_depth)"
   ]
  },
  {
   "cell_type": "code",
   "execution_count": 35,
   "id": "918771f2",
   "metadata": {},
   "outputs": [
    {
     "data": {
      "text/plain": [
       "{'max_depth': 3}"
      ]
     },
     "execution_count": 35,
     "metadata": {},
     "output_type": "execute_result"
    }
   ],
   "source": [
    "grid_search.best_params_"
   ]
  },
  {
   "cell_type": "code",
   "execution_count": 36,
   "id": "e49e8bb7",
   "metadata": {},
   "outputs": [
    {
     "data": {
      "text/plain": [
       "{'mean_fit_time': array([0.00783572, 0.00697961, 0.0056181 , 0.00527101, 0.00534701,\n",
       "        0.00467854, 0.00498419, 0.0054029 ]),\n",
       " 'std_fit_time': array([0.00171339, 0.00186262, 0.00076998, 0.00062813, 0.00071363,\n",
       "        0.00047789, 0.00020363, 0.00090894]),\n",
       " 'mean_score_time': array([0.00756125, 0.00851789, 0.0058701 , 0.00542722, 0.00579267,\n",
       "        0.00545764, 0.00561972, 0.00779891]),\n",
       " 'std_score_time': array([0.00079156, 0.00104522, 0.00066994, 0.00036266, 0.00038093,\n",
       "        0.0004455 , 0.00044526, 0.00140046]),\n",
       " 'param_max_depth': masked_array(data=[None, 3, 4, 5, 6, 7, 8, 10],\n",
       "              mask=[False, False, False, False, False, False, False, False],\n",
       "        fill_value='?',\n",
       "             dtype=object),\n",
       " 'params': [{'max_depth': None},\n",
       "  {'max_depth': 3},\n",
       "  {'max_depth': 4},\n",
       "  {'max_depth': 5},\n",
       "  {'max_depth': 6},\n",
       "  {'max_depth': 7},\n",
       "  {'max_depth': 8},\n",
       "  {'max_depth': 10}],\n",
       " 'split0_test_score': array([0.09677419, 0.22580645, 0.19354839, 0.16129032, 0.25806452,\n",
       "        0.16129032, 0.09677419, 0.09677419]),\n",
       " 'split1_test_score': array([0.12903226, 0.16129032, 0.09677419, 0.16129032, 0.12903226,\n",
       "        0.12903226, 0.12903226, 0.12903226]),\n",
       " 'split2_test_score': array([0.12903226, 0.19354839, 0.19354839, 0.16129032, 0.12903226,\n",
       "        0.12903226, 0.12903226, 0.12903226]),\n",
       " 'split3_test_score': array([0.1       , 0.23333333, 0.2       , 0.16666667, 0.16666667,\n",
       "        0.16666667, 0.1       , 0.13333333]),\n",
       " 'split4_test_score': array([0.1       , 0.13333333, 0.13333333, 0.13333333, 0.03333333,\n",
       "        0.03333333, 0.1       , 0.1       ]),\n",
       " 'mean_test_score': array([0.11096774, 0.18946237, 0.16344086, 0.15677419, 0.14322581,\n",
       "        0.12387097, 0.11096774, 0.11763441]),\n",
       " 'std_test_score': array([0.01479657, 0.03796415, 0.04123204, 0.01190396, 0.07241087,\n",
       "        0.04792081, 0.01479657, 0.01582655]),\n",
       " 'rank_test_score': array([7, 1, 2, 3, 4, 5, 7, 6])}"
      ]
     },
     "execution_count": 36,
     "metadata": {},
     "output_type": "execute_result"
    }
   ],
   "source": [
    "grid_search.cv_results_"
   ]
  },
  {
   "cell_type": "code",
   "execution_count": 37,
   "id": "4c756080",
   "metadata": {},
   "outputs": [
    {
     "data": {
      "text/html": [
       "<style>#sk-container-id-1 {color: black;}#sk-container-id-1 pre{padding: 0;}#sk-container-id-1 div.sk-toggleable {background-color: white;}#sk-container-id-1 label.sk-toggleable__label {cursor: pointer;display: block;width: 100%;margin-bottom: 0;padding: 0.3em;box-sizing: border-box;text-align: center;}#sk-container-id-1 label.sk-toggleable__label-arrow:before {content: \"▸\";float: left;margin-right: 0.25em;color: #696969;}#sk-container-id-1 label.sk-toggleable__label-arrow:hover:before {color: black;}#sk-container-id-1 div.sk-estimator:hover label.sk-toggleable__label-arrow:before {color: black;}#sk-container-id-1 div.sk-toggleable__content {max-height: 0;max-width: 0;overflow: hidden;text-align: left;background-color: #f0f8ff;}#sk-container-id-1 div.sk-toggleable__content pre {margin: 0.2em;color: black;border-radius: 0.25em;background-color: #f0f8ff;}#sk-container-id-1 input.sk-toggleable__control:checked~div.sk-toggleable__content {max-height: 200px;max-width: 100%;overflow: auto;}#sk-container-id-1 input.sk-toggleable__control:checked~label.sk-toggleable__label-arrow:before {content: \"▾\";}#sk-container-id-1 div.sk-estimator input.sk-toggleable__control:checked~label.sk-toggleable__label {background-color: #d4ebff;}#sk-container-id-1 div.sk-label input.sk-toggleable__control:checked~label.sk-toggleable__label {background-color: #d4ebff;}#sk-container-id-1 input.sk-hidden--visually {border: 0;clip: rect(1px 1px 1px 1px);clip: rect(1px, 1px, 1px, 1px);height: 1px;margin: -1px;overflow: hidden;padding: 0;position: absolute;width: 1px;}#sk-container-id-1 div.sk-estimator {font-family: monospace;background-color: #f0f8ff;border: 1px dotted black;border-radius: 0.25em;box-sizing: border-box;margin-bottom: 0.5em;}#sk-container-id-1 div.sk-estimator:hover {background-color: #d4ebff;}#sk-container-id-1 div.sk-parallel-item::after {content: \"\";width: 100%;border-bottom: 1px solid gray;flex-grow: 1;}#sk-container-id-1 div.sk-label:hover label.sk-toggleable__label {background-color: #d4ebff;}#sk-container-id-1 div.sk-serial::before {content: \"\";position: absolute;border-left: 1px solid gray;box-sizing: border-box;top: 0;bottom: 0;left: 50%;z-index: 0;}#sk-container-id-1 div.sk-serial {display: flex;flex-direction: column;align-items: center;background-color: white;padding-right: 0.2em;padding-left: 0.2em;position: relative;}#sk-container-id-1 div.sk-item {position: relative;z-index: 1;}#sk-container-id-1 div.sk-parallel {display: flex;align-items: stretch;justify-content: center;background-color: white;position: relative;}#sk-container-id-1 div.sk-item::before, #sk-container-id-1 div.sk-parallel-item::before {content: \"\";position: absolute;border-left: 1px solid gray;box-sizing: border-box;top: 0;bottom: 0;left: 50%;z-index: -1;}#sk-container-id-1 div.sk-parallel-item {display: flex;flex-direction: column;z-index: 1;position: relative;background-color: white;}#sk-container-id-1 div.sk-parallel-item:first-child::after {align-self: flex-end;width: 50%;}#sk-container-id-1 div.sk-parallel-item:last-child::after {align-self: flex-start;width: 50%;}#sk-container-id-1 div.sk-parallel-item:only-child::after {width: 0;}#sk-container-id-1 div.sk-dashed-wrapped {border: 1px dashed gray;margin: 0 0.4em 0.5em 0.4em;box-sizing: border-box;padding-bottom: 0.4em;background-color: white;}#sk-container-id-1 div.sk-label label {font-family: monospace;font-weight: bold;display: inline-block;line-height: 1.2em;}#sk-container-id-1 div.sk-label-container {text-align: center;}#sk-container-id-1 div.sk-container {/* jupyter's `normalize.less` sets `[hidden] { display: none; }` but bootstrap.min.css set `[hidden] { display: none !important; }` so we also need the `!important` here to be able to override the default hidden behavior on the sphinx rendered scikit-learn.org. See: https://github.com/scikit-learn/scikit-learn/issues/21755 */display: inline-block !important;position: relative;}#sk-container-id-1 div.sk-text-repr-fallback {display: none;}</style><div id=\"sk-container-id-1\" class=\"sk-top-container\"><div class=\"sk-text-repr-fallback\"><pre>DecisionTreeClassifier(criterion=&#x27;entropy&#x27;, max_depth=3)</pre><b>In a Jupyter environment, please rerun this cell to show the HTML representation or trust the notebook. <br />On GitHub, the HTML representation is unable to render, please try loading this page with nbviewer.org.</b></div><div class=\"sk-container\" hidden><div class=\"sk-item\"><div class=\"sk-estimator sk-toggleable\"><input class=\"sk-toggleable__control sk-hidden--visually\" id=\"sk-estimator-id-1\" type=\"checkbox\" checked><label for=\"sk-estimator-id-1\" class=\"sk-toggleable__label sk-toggleable__label-arrow\">DecisionTreeClassifier</label><div class=\"sk-toggleable__content\"><pre>DecisionTreeClassifier(criterion=&#x27;entropy&#x27;, max_depth=3)</pre></div></div></div></div></div>"
      ],
      "text/plain": [
       "DecisionTreeClassifier(criterion='entropy', max_depth=3)"
      ]
     },
     "execution_count": 37,
     "metadata": {},
     "output_type": "execute_result"
    }
   ],
   "source": [
    "grid_search.best_estimator_"
   ]
  },
  {
   "cell_type": "code",
   "execution_count": 38,
   "id": "19154093",
   "metadata": {},
   "outputs": [
    {
     "data": {
      "text/plain": [
       "[Text(0.5441604872881356, 0.9583333333333334, 'x[0] <= 463382.0\\nentropy = 3.373\\nsamples = 153\\nvalue = [35, 31, 22, 15, 10, 9, 4, 3, 5, 5, 1, 3, 2\\n1, 1, 1, 1, 1, 1, 1, 1]'),\n",
       " Text(0.2895480225988701, 0.875, 'x[0] <= 461839.0\\nentropy = 3.4\\nsamples = 70\\nvalue = [13, 14, 13, 4, 6, 4, 1, 2, 2, 2, 1, 2, 2, 1\\n0, 0, 0, 0, 1, 1, 1]'),\n",
       " Text(0.1885593220338983, 0.7916666666666666, 'x[0] <= 461162.0\\nentropy = 3.198\\nsamples = 45\\nvalue = [11, 7, 8, 3, 3, 4, 1, 1, 1, 2, 1, 0, 2, 1\\n0, 0, 0, 0, 0, 0, 0]'),\n",
       " Text(0.11440677966101695, 0.7083333333333334, 'x[1] <= 4.5\\nentropy = 2.909\\nsamples = 33\\nvalue = [7, 7, 7, 3, 2, 3, 0, 0, 1, 1, 1, 0, 0, 1\\n0, 0, 0, 0, 0, 0, 0]'),\n",
       " Text(0.06073446327683616, 0.625, 'x[0] <= 459805.5\\nentropy = 2.489\\nsamples = 18\\nvalue = [6, 3, 4, 1, 2, 0, 0, 0, 1, 0, 0, 0, 0, 1\\n0, 0, 0, 0, 0, 0, 0]'),\n",
       " Text(0.031073446327683617, 0.5416666666666666, 'x[0] <= 459330.0\\nentropy = 2.113\\nsamples = 9\\nvalue = [3, 3, 1, 0, 0, 0, 0, 0, 1, 0, 0, 0, 0, 1\\n0, 0, 0, 0, 0, 0, 0]'),\n",
       " Text(0.011299435028248588, 0.4583333333333333, 'x[0] <= 459077.5\\nentropy = 1.585\\nsamples = 3\\nvalue = [1, 0, 0, 0, 0, 0, 0, 0, 1, 0, 0, 0, 0, 1\\n0, 0, 0, 0, 0, 0, 0]'),\n",
       " Text(0.005649717514124294, 0.375, 'entropy = 0.0\\nsamples = 1\\nvalue = [0, 0, 0, 0, 0, 0, 0, 0, 1, 0, 0, 0, 0, 0\\n0, 0, 0, 0, 0, 0, 0]'),\n",
       " Text(0.01694915254237288, 0.375, 'x[1] <= 3.5\\nentropy = 1.0\\nsamples = 2\\nvalue = [1, 0, 0, 0, 0, 0, 0, 0, 0, 0, 0, 0, 0, 1\\n0, 0, 0, 0, 0, 0, 0]'),\n",
       " Text(0.011299435028248588, 0.2916666666666667, 'entropy = 0.0\\nsamples = 1\\nvalue = [0, 0, 0, 0, 0, 0, 0, 0, 0, 0, 0, 0, 0, 1\\n0, 0, 0, 0, 0, 0, 0]'),\n",
       " Text(0.022598870056497175, 0.2916666666666667, 'entropy = 0.0\\nsamples = 1\\nvalue = [1, 0, 0, 0, 0, 0, 0, 0, 0, 0, 0, 0, 0, 0\\n0, 0, 0, 0, 0, 0, 0]'),\n",
       " Text(0.05084745762711865, 0.4583333333333333, 'x[0] <= 459733.0\\nentropy = 1.459\\nsamples = 6\\nvalue = [2, 3, 1, 0, 0, 0, 0, 0, 0, 0, 0, 0, 0, 0\\n0, 0, 0, 0, 0, 0, 0]'),\n",
       " Text(0.03954802259887006, 0.375, 'x[0] <= 459546.5\\nentropy = 1.0\\nsamples = 4\\nvalue = [2, 2, 0, 0, 0, 0, 0, 0, 0, 0, 0, 0, 0, 0\\n0, 0, 0, 0, 0, 0, 0]'),\n",
       " Text(0.03389830508474576, 0.2916666666666667, 'entropy = 0.0\\nsamples = 1\\nvalue = [0, 1, 0, 0, 0, 0, 0, 0, 0, 0, 0, 0, 0, 0\\n0, 0, 0, 0, 0, 0, 0]'),\n",
       " Text(0.04519774011299435, 0.2916666666666667, 'x[1] <= 2.0\\nentropy = 0.918\\nsamples = 3\\nvalue = [2, 1, 0, 0, 0, 0, 0, 0, 0, 0, 0, 0, 0, 0\\n0, 0, 0, 0, 0, 0, 0]'),\n",
       " Text(0.03954802259887006, 0.20833333333333334, 'x[0] <= 459669.5\\nentropy = 1.0\\nsamples = 2\\nvalue = [1, 1, 0, 0, 0, 0, 0, 0, 0, 0, 0, 0, 0, 0\\n0, 0, 0, 0, 0, 0, 0]'),\n",
       " Text(0.03389830508474576, 0.125, 'entropy = 0.0\\nsamples = 1\\nvalue = [1, 0, 0, 0, 0, 0, 0, 0, 0, 0, 0, 0, 0, 0\\n0, 0, 0, 0, 0, 0, 0]'),\n",
       " Text(0.04519774011299435, 0.125, 'entropy = 0.0\\nsamples = 1\\nvalue = [0, 1, 0, 0, 0, 0, 0, 0, 0, 0, 0, 0, 0, 0\\n0, 0, 0, 0, 0, 0, 0]'),\n",
       " Text(0.05084745762711865, 0.20833333333333334, 'entropy = 0.0\\nsamples = 1\\nvalue = [1, 0, 0, 0, 0, 0, 0, 0, 0, 0, 0, 0, 0, 0\\n0, 0, 0, 0, 0, 0, 0]'),\n",
       " Text(0.062146892655367235, 0.375, 'x[1] <= 2.0\\nentropy = 1.0\\nsamples = 2\\nvalue = [0, 1, 1, 0, 0, 0, 0, 0, 0, 0, 0, 0, 0, 0\\n0, 0, 0, 0, 0, 0, 0]'),\n",
       " Text(0.05649717514124294, 0.2916666666666667, 'entropy = 0.0\\nsamples = 1\\nvalue = [0, 0, 1, 0, 0, 0, 0, 0, 0, 0, 0, 0, 0, 0\\n0, 0, 0, 0, 0, 0, 0]'),\n",
       " Text(0.06779661016949153, 0.2916666666666667, 'entropy = 0.0\\nsamples = 1\\nvalue = [0, 1, 0, 0, 0, 0, 0, 0, 0, 0, 0, 0, 0, 0\\n0, 0, 0, 0, 0, 0, 0]'),\n",
       " Text(0.0903954802259887, 0.5416666666666666, 'x[0] <= 460336.5\\nentropy = 1.891\\nsamples = 9\\nvalue = [3, 0, 3, 1, 2, 0, 0, 0, 0, 0, 0, 0, 0, 0\\n0, 0, 0, 0, 0, 0, 0]'),\n",
       " Text(0.07909604519774012, 0.4583333333333333, 'x[0] <= 459892.5\\nentropy = 1.557\\nsamples = 7\\nvalue = [3, 0, 2, 0, 2, 0, 0, 0, 0, 0, 0, 0, 0, 0\\n0, 0, 0, 0, 0, 0, 0]'),\n",
       " Text(0.07344632768361582, 0.375, 'entropy = 0.0\\nsamples = 2\\nvalue = [0, 0, 2, 0, 0, 0, 0, 0, 0, 0, 0, 0, 0, 0\\n0, 0, 0, 0, 0, 0, 0]'),\n",
       " Text(0.0847457627118644, 0.375, 'x[0] <= 460086.5\\nentropy = 0.971\\nsamples = 5\\nvalue = [3, 0, 0, 0, 2, 0, 0, 0, 0, 0, 0, 0, 0, 0\\n0, 0, 0, 0, 0, 0, 0]'),\n",
       " Text(0.07909604519774012, 0.2916666666666667, 'entropy = 0.0\\nsamples = 2\\nvalue = [2, 0, 0, 0, 0, 0, 0, 0, 0, 0, 0, 0, 0, 0\\n0, 0, 0, 0, 0, 0, 0]'),\n",
       " Text(0.0903954802259887, 0.2916666666666667, 'x[0] <= 460238.5\\nentropy = 0.918\\nsamples = 3\\nvalue = [1, 0, 0, 0, 2, 0, 0, 0, 0, 0, 0, 0, 0, 0\\n0, 0, 0, 0, 0, 0, 0]'),\n",
       " Text(0.0847457627118644, 0.20833333333333334, 'entropy = 0.0\\nsamples = 1\\nvalue = [0, 0, 0, 0, 1, 0, 0, 0, 0, 0, 0, 0, 0, 0\\n0, 0, 0, 0, 0, 0, 0]'),\n",
       " Text(0.096045197740113, 0.20833333333333334, 'x[0] <= 460260.5\\nentropy = 1.0\\nsamples = 2\\nvalue = [1, 0, 0, 0, 1, 0, 0, 0, 0, 0, 0, 0, 0, 0\\n0, 0, 0, 0, 0, 0, 0]'),\n",
       " Text(0.0903954802259887, 0.125, 'entropy = 0.0\\nsamples = 1\\nvalue = [1, 0, 0, 0, 0, 0, 0, 0, 0, 0, 0, 0, 0, 0\\n0, 0, 0, 0, 0, 0, 0]'),\n",
       " Text(0.1016949152542373, 0.125, 'entropy = 0.0\\nsamples = 1\\nvalue = [0, 0, 0, 0, 1, 0, 0, 0, 0, 0, 0, 0, 0, 0\\n0, 0, 0, 0, 0, 0, 0]'),\n",
       " Text(0.1016949152542373, 0.4583333333333333, 'x[0] <= 460587.0\\nentropy = 1.0\\nsamples = 2\\nvalue = [0, 0, 1, 1, 0, 0, 0, 0, 0, 0, 0, 0, 0, 0\\n0, 0, 0, 0, 0, 0, 0]'),\n",
       " Text(0.096045197740113, 0.375, 'entropy = 0.0\\nsamples = 1\\nvalue = [0, 0, 0, 1, 0, 0, 0, 0, 0, 0, 0, 0, 0, 0\\n0, 0, 0, 0, 0, 0, 0]'),\n",
       " Text(0.10734463276836158, 0.375, 'entropy = 0.0\\nsamples = 1\\nvalue = [0, 0, 1, 0, 0, 0, 0, 0, 0, 0, 0, 0, 0, 0\\n0, 0, 0, 0, 0, 0, 0]'),\n",
       " Text(0.16807909604519775, 0.625, 'x[0] <= 460707.0\\nentropy = 2.606\\nsamples = 15\\nvalue = [1, 4, 3, 2, 0, 3, 0, 0, 0, 1, 1, 0, 0, 0\\n0, 0, 0, 0, 0, 0, 0]'),\n",
       " Text(0.1440677966101695, 0.5416666666666666, 'x[0] <= 459975.5\\nentropy = 2.197\\nsamples = 9\\nvalue = [1, 2, 2, 1, 0, 3, 0, 0, 0, 0, 0, 0, 0, 0\\n0, 0, 0, 0, 0, 0, 0]'),\n",
       " Text(0.12994350282485875, 0.4583333333333333, 'x[0] <= 459665.5\\nentropy = 1.5\\nsamples = 4\\nvalue = [0, 1, 0, 1, 0, 2, 0, 0, 0, 0, 0, 0, 0, 0\\n0, 0, 0, 0, 0, 0, 0]'),\n",
       " Text(0.11864406779661017, 0.375, 'x[0] <= 459245.0\\nentropy = 1.0\\nsamples = 2\\nvalue = [0, 1, 0, 0, 0, 1, 0, 0, 0, 0, 0, 0, 0, 0\\n0, 0, 0, 0, 0, 0, 0]'),\n",
       " Text(0.11299435028248588, 0.2916666666666667, 'entropy = 0.0\\nsamples = 1\\nvalue = [0, 0, 0, 0, 0, 1, 0, 0, 0, 0, 0, 0, 0, 0\\n0, 0, 0, 0, 0, 0, 0]'),\n",
       " Text(0.12429378531073447, 0.2916666666666667, 'entropy = 0.0\\nsamples = 1\\nvalue = [0, 1, 0, 0, 0, 0, 0, 0, 0, 0, 0, 0, 0, 0\\n0, 0, 0, 0, 0, 0, 0]'),\n",
       " Text(0.14124293785310735, 0.375, 'x[0] <= 459891.0\\nentropy = 1.0\\nsamples = 2\\nvalue = [0, 0, 0, 1, 0, 1, 0, 0, 0, 0, 0, 0, 0, 0\\n0, 0, 0, 0, 0, 0, 0]'),\n",
       " Text(0.13559322033898305, 0.2916666666666667, 'entropy = 0.0\\nsamples = 1\\nvalue = [0, 0, 0, 1, 0, 0, 0, 0, 0, 0, 0, 0, 0, 0\\n0, 0, 0, 0, 0, 0, 0]'),\n",
       " Text(0.14689265536723164, 0.2916666666666667, 'entropy = 0.0\\nsamples = 1\\nvalue = [0, 0, 0, 0, 0, 1, 0, 0, 0, 0, 0, 0, 0, 0\\n0, 0, 0, 0, 0, 0, 0]'),\n",
       " Text(0.15819209039548024, 0.4583333333333333, 'x[0] <= 460032.5\\nentropy = 1.922\\nsamples = 5\\nvalue = [1, 1, 2, 0, 0, 1, 0, 0, 0, 0, 0, 0, 0, 0\\n0, 0, 0, 0, 0, 0, 0]'),\n",
       " Text(0.15254237288135594, 0.375, 'entropy = 0.0\\nsamples = 1\\nvalue = [1, 0, 0, 0, 0, 0, 0, 0, 0, 0, 0, 0, 0, 0\\n0, 0, 0, 0, 0, 0, 0]'),\n",
       " Text(0.1638418079096045, 0.375, 'x[0] <= 460681.0\\nentropy = 1.5\\nsamples = 4\\nvalue = [0, 1, 2, 0, 0, 1, 0, 0, 0, 0, 0, 0, 0, 0\\n0, 0, 0, 0, 0, 0, 0]'),\n",
       " Text(0.15819209039548024, 0.2916666666666667, 'x[0] <= 460114.0\\nentropy = 0.918\\nsamples = 3\\nvalue = [0, 1, 2, 0, 0, 0, 0, 0, 0, 0, 0, 0, 0, 0\\n0, 0, 0, 0, 0, 0, 0]'),\n",
       " Text(0.15254237288135594, 0.20833333333333334, 'entropy = 0.0\\nsamples = 1\\nvalue = [0, 0, 1, 0, 0, 0, 0, 0, 0, 0, 0, 0, 0, 0\\n0, 0, 0, 0, 0, 0, 0]'),\n",
       " Text(0.1638418079096045, 0.20833333333333334, 'x[0] <= 460428.0\\nentropy = 1.0\\nsamples = 2\\nvalue = [0, 1, 1, 0, 0, 0, 0, 0, 0, 0, 0, 0, 0, 0\\n0, 0, 0, 0, 0, 0, 0]'),\n",
       " Text(0.15819209039548024, 0.125, 'entropy = 0.0\\nsamples = 1\\nvalue = [0, 1, 0, 0, 0, 0, 0, 0, 0, 0, 0, 0, 0, 0\\n0, 0, 0, 0, 0, 0, 0]'),\n",
       " Text(0.1694915254237288, 0.125, 'entropy = 0.0\\nsamples = 1\\nvalue = [0, 0, 1, 0, 0, 0, 0, 0, 0, 0, 0, 0, 0, 0\\n0, 0, 0, 0, 0, 0, 0]'),\n",
       " Text(0.1694915254237288, 0.2916666666666667, 'entropy = 0.0\\nsamples = 1\\nvalue = [0, 0, 0, 0, 0, 1, 0, 0, 0, 0, 0, 0, 0, 0\\n0, 0, 0, 0, 0, 0, 0]'),\n",
       " Text(0.192090395480226, 0.5416666666666666, 'x[0] <= 460916.5\\nentropy = 2.252\\nsamples = 6\\nvalue = [0, 2, 1, 1, 0, 0, 0, 0, 0, 1, 1, 0, 0, 0\\n0, 0, 0, 0, 0, 0, 0]'),\n",
       " Text(0.1807909604519774, 0.4583333333333333, 'x[0] <= 460744.0\\nentropy = 1.585\\nsamples = 3\\nvalue = [0, 1, 1, 0, 0, 0, 0, 0, 0, 1, 0, 0, 0, 0\\n0, 0, 0, 0, 0, 0, 0]'),\n",
       " Text(0.1751412429378531, 0.375, 'entropy = 0.0\\nsamples = 1\\nvalue = [0, 0, 0, 0, 0, 0, 0, 0, 0, 1, 0, 0, 0, 0\\n0, 0, 0, 0, 0, 0, 0]'),\n",
       " Text(0.1864406779661017, 0.375, 'x[0] <= 460821.0\\nentropy = 1.0\\nsamples = 2\\nvalue = [0, 1, 1, 0, 0, 0, 0, 0, 0, 0, 0, 0, 0, 0\\n0, 0, 0, 0, 0, 0, 0]'),\n",
       " Text(0.1807909604519774, 0.2916666666666667, 'entropy = 0.0\\nsamples = 1\\nvalue = [0, 1, 0, 0, 0, 0, 0, 0, 0, 0, 0, 0, 0, 0\\n0, 0, 0, 0, 0, 0, 0]'),\n",
       " Text(0.192090395480226, 0.2916666666666667, 'entropy = 0.0\\nsamples = 1\\nvalue = [0, 0, 1, 0, 0, 0, 0, 0, 0, 0, 0, 0, 0, 0\\n0, 0, 0, 0, 0, 0, 0]'),\n",
       " Text(0.2033898305084746, 0.4583333333333333, 'x[0] <= 460983.5\\nentropy = 1.585\\nsamples = 3\\nvalue = [0, 1, 0, 1, 0, 0, 0, 0, 0, 0, 1, 0, 0, 0\\n0, 0, 0, 0, 0, 0, 0]'),\n",
       " Text(0.1977401129943503, 0.375, 'entropy = 0.0\\nsamples = 1\\nvalue = [0, 0, 0, 0, 0, 0, 0, 0, 0, 0, 1, 0, 0, 0\\n0, 0, 0, 0, 0, 0, 0]'),\n",
       " Text(0.20903954802259886, 0.375, 'x[0] <= 461052.5\\nentropy = 1.0\\nsamples = 2\\nvalue = [0, 1, 0, 1, 0, 0, 0, 0, 0, 0, 0, 0, 0, 0\\n0, 0, 0, 0, 0, 0, 0]'),\n",
       " Text(0.2033898305084746, 0.2916666666666667, 'entropy = 0.0\\nsamples = 1\\nvalue = [0, 0, 0, 1, 0, 0, 0, 0, 0, 0, 0, 0, 0, 0\\n0, 0, 0, 0, 0, 0, 0]'),\n",
       " Text(0.21468926553672316, 0.2916666666666667, 'entropy = 0.0\\nsamples = 1\\nvalue = [0, 1, 0, 0, 0, 0, 0, 0, 0, 0, 0, 0, 0, 0\\n0, 0, 0, 0, 0, 0, 0]'),\n",
       " Text(0.2627118644067797, 0.7083333333333334, 'x[0] <= 461637.5\\nentropy = 2.752\\nsamples = 12\\nvalue = [4, 0, 1, 0, 1, 1, 1, 1, 0, 1, 0, 0, 2, 0\\n0, 0, 0, 0, 0, 0, 0]'),\n",
       " Text(0.23728813559322035, 0.625, 'x[0] <= 461300.5\\nentropy = 2.0\\nsamples = 8\\nvalue = [4, 0, 1, 0, 0, 0, 1, 0, 0, 1, 0, 0, 1, 0\\n0, 0, 0, 0, 0, 0, 0]'),\n",
       " Text(0.22033898305084745, 0.5416666666666666, 'x[0] <= 461250.0\\nentropy = 1.585\\nsamples = 3\\nvalue = [0, 0, 1, 0, 0, 0, 1, 0, 0, 0, 0, 0, 1, 0\\n0, 0, 0, 0, 0, 0, 0]'),\n",
       " Text(0.21468926553672316, 0.4583333333333333, 'entropy = 0.0\\nsamples = 1\\nvalue = [0, 0, 0, 0, 0, 0, 0, 0, 0, 0, 0, 0, 1, 0\\n0, 0, 0, 0, 0, 0, 0]'),\n",
       " Text(0.22598870056497175, 0.4583333333333333, 'x[1] <= 3.0\\nentropy = 1.0\\nsamples = 2\\nvalue = [0, 0, 1, 0, 0, 0, 1, 0, 0, 0, 0, 0, 0, 0\\n0, 0, 0, 0, 0, 0, 0]'),\n",
       " Text(0.22033898305084745, 0.375, 'entropy = 0.0\\nsamples = 1\\nvalue = [0, 0, 0, 0, 0, 0, 1, 0, 0, 0, 0, 0, 0, 0\\n0, 0, 0, 0, 0, 0, 0]'),\n",
       " Text(0.23163841807909605, 0.375, 'entropy = 0.0\\nsamples = 1\\nvalue = [0, 0, 1, 0, 0, 0, 0, 0, 0, 0, 0, 0, 0, 0\\n0, 0, 0, 0, 0, 0, 0]'),\n",
       " Text(0.2542372881355932, 0.5416666666666666, 'x[1] <= 2.0\\nentropy = 0.722\\nsamples = 5\\nvalue = [4, 0, 0, 0, 0, 0, 0, 0, 0, 1, 0, 0, 0, 0\\n0, 0, 0, 0, 0, 0, 0]'),\n",
       " Text(0.24858757062146894, 0.4583333333333333, 'x[0] <= 461457.0\\nentropy = 0.918\\nsamples = 3\\nvalue = [2, 0, 0, 0, 0, 0, 0, 0, 0, 1, 0, 0, 0, 0\\n0, 0, 0, 0, 0, 0, 0]'),\n",
       " Text(0.24293785310734464, 0.375, 'entropy = 0.0\\nsamples = 1\\nvalue = [0, 0, 0, 0, 0, 0, 0, 0, 0, 1, 0, 0, 0, 0\\n0, 0, 0, 0, 0, 0, 0]'),\n",
       " Text(0.2542372881355932, 0.375, 'entropy = 0.0\\nsamples = 2\\nvalue = [2, 0, 0, 0, 0, 0, 0, 0, 0, 0, 0, 0, 0, 0\\n0, 0, 0, 0, 0, 0, 0]'),\n",
       " Text(0.2598870056497175, 0.4583333333333333, 'entropy = 0.0\\nsamples = 2\\nvalue = [2, 0, 0, 0, 0, 0, 0, 0, 0, 0, 0, 0, 0, 0\\n0, 0, 0, 0, 0, 0, 0]'),\n",
       " Text(0.288135593220339, 0.625, 'x[1] <= 3.5\\nentropy = 2.0\\nsamples = 4\\nvalue = [0, 0, 0, 0, 1, 1, 0, 1, 0, 0, 0, 0, 1, 0\\n0, 0, 0, 0, 0, 0, 0]'),\n",
       " Text(0.2768361581920904, 0.5416666666666666, 'x[0] <= 461763.5\\nentropy = 1.0\\nsamples = 2\\nvalue = [0, 0, 0, 0, 0, 1, 0, 0, 0, 0, 0, 0, 1, 0\\n0, 0, 0, 0, 0, 0, 0]'),\n",
       " Text(0.2711864406779661, 0.4583333333333333, 'entropy = 0.0\\nsamples = 1\\nvalue = [0, 0, 0, 0, 0, 0, 0, 0, 0, 0, 0, 0, 1, 0\\n0, 0, 0, 0, 0, 0, 0]'),\n",
       " Text(0.2824858757062147, 0.4583333333333333, 'entropy = 0.0\\nsamples = 1\\nvalue = [0, 0, 0, 0, 0, 1, 0, 0, 0, 0, 0, 0, 0, 0\\n0, 0, 0, 0, 0, 0, 0]'),\n",
       " Text(0.2994350282485876, 0.5416666666666666, 'x[0] <= 461657.5\\nentropy = 1.0\\nsamples = 2\\nvalue = [0, 0, 0, 0, 1, 0, 0, 1, 0, 0, 0, 0, 0, 0\\n0, 0, 0, 0, 0, 0, 0]'),\n",
       " Text(0.2937853107344633, 0.4583333333333333, 'entropy = 0.0\\nsamples = 1\\nvalue = [0, 0, 0, 0, 0, 0, 0, 1, 0, 0, 0, 0, 0, 0\\n0, 0, 0, 0, 0, 0, 0]'),\n",
       " Text(0.3050847457627119, 0.4583333333333333, 'entropy = 0.0\\nsamples = 1\\nvalue = [0, 0, 0, 0, 1, 0, 0, 0, 0, 0, 0, 0, 0, 0\\n0, 0, 0, 0, 0, 0, 0]'),\n",
       " Text(0.3905367231638418, 0.7916666666666666, 'x[1] <= 3.5\\nentropy = 3.043\\nsamples = 25\\nvalue = [2, 7, 5, 1, 3, 0, 0, 1, 1, 0, 0, 2, 0, 0\\n0, 0, 0, 0, 1, 1, 1]'),\n",
       " Text(0.3474576271186441, 0.7083333333333334, 'x[0] <= 462814.5\\nentropy = 2.369\\nsamples = 11\\nvalue = [2, 4, 1, 0, 1, 0, 0, 1, 0, 0, 0, 2, 0, 0\\n0, 0, 0, 0, 0, 0, 0]'),\n",
       " Text(0.3333333333333333, 0.625, 'x[0] <= 461987.5\\nentropy = 1.75\\nsamples = 8\\nvalue = [2, 4, 0, 0, 1, 0, 0, 0, 0, 0, 0, 1, 0, 0\\n0, 0, 0, 0, 0, 0, 0]'),\n",
       " Text(0.3220338983050847, 0.5416666666666666, 'x[1] <= 2.0\\nentropy = 1.0\\nsamples = 2\\nvalue = [0, 0, 0, 0, 1, 0, 0, 0, 0, 0, 0, 1, 0, 0\\n0, 0, 0, 0, 0, 0, 0]'),\n",
       " Text(0.3163841807909605, 0.4583333333333333, 'entropy = 0.0\\nsamples = 1\\nvalue = [0, 0, 0, 0, 0, 0, 0, 0, 0, 0, 0, 1, 0, 0\\n0, 0, 0, 0, 0, 0, 0]'),\n",
       " Text(0.327683615819209, 0.4583333333333333, 'entropy = 0.0\\nsamples = 1\\nvalue = [0, 0, 0, 0, 1, 0, 0, 0, 0, 0, 0, 0, 0, 0\\n0, 0, 0, 0, 0, 0, 0]'),\n",
       " Text(0.3446327683615819, 0.5416666666666666, 'x[0] <= 462656.0\\nentropy = 0.918\\nsamples = 6\\nvalue = [2, 4, 0, 0, 0, 0, 0, 0, 0, 0, 0, 0, 0, 0\\n0, 0, 0, 0, 0, 0, 0]'),\n",
       " Text(0.3389830508474576, 0.4583333333333333, 'x[1] <= 2.0\\nentropy = 0.722\\nsamples = 5\\nvalue = [1, 4, 0, 0, 0, 0, 0, 0, 0, 0, 0, 0, 0, 0\\n0, 0, 0, 0, 0, 0, 0]'),\n",
       " Text(0.3333333333333333, 0.375, 'entropy = 0.0\\nsamples = 3\\nvalue = [0, 3, 0, 0, 0, 0, 0, 0, 0, 0, 0, 0, 0, 0\\n0, 0, 0, 0, 0, 0, 0]'),\n",
       " Text(0.3446327683615819, 0.375, 'x[0] <= 462231.0\\nentropy = 1.0\\nsamples = 2\\nvalue = [1, 1, 0, 0, 0, 0, 0, 0, 0, 0, 0, 0, 0, 0\\n0, 0, 0, 0, 0, 0, 0]'),\n",
       " Text(0.3389830508474576, 0.2916666666666667, 'entropy = 0.0\\nsamples = 1\\nvalue = [0, 1, 0, 0, 0, 0, 0, 0, 0, 0, 0, 0, 0, 0\\n0, 0, 0, 0, 0, 0, 0]'),\n",
       " Text(0.3502824858757062, 0.2916666666666667, 'entropy = 0.0\\nsamples = 1\\nvalue = [1, 0, 0, 0, 0, 0, 0, 0, 0, 0, 0, 0, 0, 0\\n0, 0, 0, 0, 0, 0, 0]'),\n",
       " Text(0.3502824858757062, 0.4583333333333333, 'entropy = 0.0\\nsamples = 1\\nvalue = [1, 0, 0, 0, 0, 0, 0, 0, 0, 0, 0, 0, 0, 0\\n0, 0, 0, 0, 0, 0, 0]'),\n",
       " Text(0.3615819209039548, 0.625, 'x[0] <= 462969.5\\nentropy = 1.585\\nsamples = 3\\nvalue = [0, 0, 1, 0, 0, 0, 0, 1, 0, 0, 0, 1, 0, 0\\n0, 0, 0, 0, 0, 0, 0]'),\n",
       " Text(0.3559322033898305, 0.5416666666666666, 'entropy = 0.0\\nsamples = 1\\nvalue = [0, 0, 0, 0, 0, 0, 0, 1, 0, 0, 0, 0, 0, 0\\n0, 0, 0, 0, 0, 0, 0]'),\n",
       " Text(0.3672316384180791, 0.5416666666666666, 'x[0] <= 463067.5\\nentropy = 1.0\\nsamples = 2\\nvalue = [0, 0, 1, 0, 0, 0, 0, 0, 0, 0, 0, 1, 0, 0\\n0, 0, 0, 0, 0, 0, 0]'),\n",
       " Text(0.3615819209039548, 0.4583333333333333, 'entropy = 0.0\\nsamples = 1\\nvalue = [0, 0, 1, 0, 0, 0, 0, 0, 0, 0, 0, 0, 0, 0\\n0, 0, 0, 0, 0, 0, 0]'),\n",
       " Text(0.3728813559322034, 0.4583333333333333, 'entropy = 0.0\\nsamples = 1\\nvalue = [0, 0, 0, 0, 0, 0, 0, 0, 0, 0, 0, 1, 0, 0\\n0, 0, 0, 0, 0, 0, 0]'),\n",
       " Text(0.4336158192090395, 0.7083333333333334, 'x[0] <= 462625.5\\nentropy = 2.753\\nsamples = 14\\nvalue = [0, 3, 4, 1, 2, 0, 0, 0, 1, 0, 0, 0, 0, 0\\n0, 0, 0, 0, 1, 1, 1]'),\n",
       " Text(0.4011299435028249, 0.625, 'x[1] <= 4.5\\nentropy = 1.842\\nsamples = 7\\nvalue = [0, 2, 3, 1, 0, 0, 0, 0, 0, 0, 0, 0, 0, 0\\n0, 0, 0, 0, 0, 1, 0]'),\n",
       " Text(0.3898305084745763, 0.5416666666666666, 'x[0] <= 462040.0\\nentropy = 0.811\\nsamples = 4\\nvalue = [0, 0, 3, 0, 0, 0, 0, 0, 0, 0, 0, 0, 0, 0\\n0, 0, 0, 0, 0, 1, 0]'),\n",
       " Text(0.384180790960452, 0.4583333333333333, 'entropy = 0.0\\nsamples = 1\\nvalue = [0, 0, 0, 0, 0, 0, 0, 0, 0, 0, 0, 0, 0, 0\\n0, 0, 0, 0, 0, 1, 0]'),\n",
       " Text(0.3954802259887006, 0.4583333333333333, 'entropy = 0.0\\nsamples = 3\\nvalue = [0, 0, 3, 0, 0, 0, 0, 0, 0, 0, 0, 0, 0, 0\\n0, 0, 0, 0, 0, 0, 0]'),\n",
       " Text(0.4124293785310734, 0.5416666666666666, 'x[0] <= 462106.0\\nentropy = 0.918\\nsamples = 3\\nvalue = [0, 2, 0, 1, 0, 0, 0, 0, 0, 0, 0, 0, 0, 0\\n0, 0, 0, 0, 0, 0, 0]'),\n",
       " Text(0.4067796610169492, 0.4583333333333333, 'entropy = 0.0\\nsamples = 1\\nvalue = [0, 1, 0, 0, 0, 0, 0, 0, 0, 0, 0, 0, 0, 0\\n0, 0, 0, 0, 0, 0, 0]'),\n",
       " Text(0.4180790960451977, 0.4583333333333333, 'x[0] <= 462274.0\\nentropy = 1.0\\nsamples = 2\\nvalue = [0, 1, 0, 1, 0, 0, 0, 0, 0, 0, 0, 0, 0, 0\\n0, 0, 0, 0, 0, 0, 0]'),\n",
       " Text(0.4124293785310734, 0.375, 'entropy = 0.0\\nsamples = 1\\nvalue = [0, 0, 0, 1, 0, 0, 0, 0, 0, 0, 0, 0, 0, 0\\n0, 0, 0, 0, 0, 0, 0]'),\n",
       " Text(0.423728813559322, 0.375, 'entropy = 0.0\\nsamples = 1\\nvalue = [0, 1, 0, 0, 0, 0, 0, 0, 0, 0, 0, 0, 0, 0\\n0, 0, 0, 0, 0, 0, 0]'),\n",
       " Text(0.4661016949152542, 0.625, 'x[0] <= 463021.0\\nentropy = 2.522\\nsamples = 7\\nvalue = [0, 1, 1, 0, 2, 0, 0, 0, 1, 0, 0, 0, 0, 0\\n0, 0, 0, 0, 1, 0, 1]'),\n",
       " Text(0.4519774011299435, 0.5416666666666666, 'x[0] <= 462823.5\\nentropy = 1.5\\nsamples = 4\\nvalue = [0, 0, 0, 0, 2, 0, 0, 0, 1, 0, 0, 0, 0, 0\\n0, 0, 0, 0, 1, 0, 0]'),\n",
       " Text(0.4406779661016949, 0.4583333333333333, 'x[1] <= 4.5\\nentropy = 1.0\\nsamples = 2\\nvalue = [0, 0, 0, 0, 1, 0, 0, 0, 0, 0, 0, 0, 0, 0\\n0, 0, 0, 0, 1, 0, 0]'),\n",
       " Text(0.4350282485875706, 0.375, 'entropy = 0.0\\nsamples = 1\\nvalue = [0, 0, 0, 0, 1, 0, 0, 0, 0, 0, 0, 0, 0, 0\\n0, 0, 0, 0, 0, 0, 0]'),\n",
       " Text(0.4463276836158192, 0.375, 'entropy = 0.0\\nsamples = 1\\nvalue = [0, 0, 0, 0, 0, 0, 0, 0, 0, 0, 0, 0, 0, 0\\n0, 0, 0, 0, 1, 0, 0]'),\n",
       " Text(0.4632768361581921, 0.4583333333333333, 'x[0] <= 462884.0\\nentropy = 1.0\\nsamples = 2\\nvalue = [0, 0, 0, 0, 1, 0, 0, 0, 1, 0, 0, 0, 0, 0\\n0, 0, 0, 0, 0, 0, 0]'),\n",
       " Text(0.4576271186440678, 0.375, 'entropy = 0.0\\nsamples = 1\\nvalue = [0, 0, 0, 0, 0, 0, 0, 0, 1, 0, 0, 0, 0, 0\\n0, 0, 0, 0, 0, 0, 0]'),\n",
       " Text(0.4689265536723164, 0.375, 'entropy = 0.0\\nsamples = 1\\nvalue = [0, 0, 0, 0, 1, 0, 0, 0, 0, 0, 0, 0, 0, 0\\n0, 0, 0, 0, 0, 0, 0]'),\n",
       " Text(0.480225988700565, 0.5416666666666666, 'x[0] <= 463179.0\\nentropy = 1.585\\nsamples = 3\\nvalue = [0, 1, 1, 0, 0, 0, 0, 0, 0, 0, 0, 0, 0, 0\\n0, 0, 0, 0, 0, 0, 1]'),\n",
       " Text(0.4745762711864407, 0.4583333333333333, 'entropy = 0.0\\nsamples = 1\\nvalue = [0, 0, 1, 0, 0, 0, 0, 0, 0, 0, 0, 0, 0, 0\\n0, 0, 0, 0, 0, 0, 0]'),\n",
       " Text(0.4858757062146893, 0.4583333333333333, 'x[0] <= 463294.0\\nentropy = 1.0\\nsamples = 2\\nvalue = [0, 1, 0, 0, 0, 0, 0, 0, 0, 0, 0, 0, 0, 0\\n0, 0, 0, 0, 0, 0, 1]'),\n",
       " Text(0.480225988700565, 0.375, 'entropy = 0.0\\nsamples = 1\\nvalue = [0, 1, 0, 0, 0, 0, 0, 0, 0, 0, 0, 0, 0, 0\\n0, 0, 0, 0, 0, 0, 0]'),\n",
       " Text(0.4915254237288136, 0.375, 'entropy = 0.0\\nsamples = 1\\nvalue = [0, 0, 0, 0, 0, 0, 0, 0, 0, 0, 0, 0, 0, 0\\n0, 0, 0, 0, 0, 0, 1]'),\n",
       " Text(0.7987729519774012, 0.875, 'x[0] <= 465832.0\\nentropy = 3.146\\nsamples = 83\\nvalue = [22, 17, 9, 11, 4, 5, 3, 1, 3, 3, 0, 1, 0, 0\\n1, 1, 1, 1, 0, 0, 0]'),\n",
       " Text(0.6960628531073446, 0.7916666666666666, 'x[0] <= 465142.0\\nentropy = 3.097\\nsamples = 50\\nvalue = [14, 9, 4, 8, 2, 2, 3, 1, 3, 1, 0, 0, 0, 0\\n1, 0, 1, 1, 0, 0, 0]'),\n",
       " Text(0.6294138418079096, 0.7083333333333334, 'x[0] <= 464562.5\\nentropy = 2.772\\nsamples = 31\\nvalue = [11, 5, 4, 4, 1, 1, 2, 0, 0, 1, 0, 0, 0, 0\\n0, 0, 1, 1, 0, 0, 0]'),\n",
       " Text(0.5865112994350282, 0.625, 'x[0] <= 464155.0\\nentropy = 2.703\\nsamples = 23\\nvalue = [6, 5, 3, 4, 1, 1, 2, 0, 0, 0, 0, 0, 0, 0\\n0, 0, 1, 0, 0, 0, 0]'),\n",
       " Text(0.5543785310734464, 0.5416666666666666, 'x[0] <= 464044.5\\nentropy = 2.416\\nsamples = 15\\nvalue = [5, 2, 2, 3, 0, 1, 2, 0, 0, 0, 0, 0, 0, 0\\n0, 0, 0, 0, 0, 0, 0]'),\n",
       " Text(0.5268361581920904, 0.4583333333333333, 'x[1] <= 2.0\\nentropy = 2.231\\nsamples = 11\\nvalue = [3, 2, 1, 3, 0, 0, 2, 0, 0, 0, 0, 0, 0, 0\\n0, 0, 0, 0, 0, 0, 0]'),\n",
       " Text(0.5028248587570622, 0.375, 'x[0] <= 463594.0\\nentropy = 1.585\\nsamples = 3\\nvalue = [1, 0, 1, 1, 0, 0, 0, 0, 0, 0, 0, 0, 0, 0\\n0, 0, 0, 0, 0, 0, 0]'),\n",
       " Text(0.4971751412429379, 0.2916666666666667, 'entropy = 0.0\\nsamples = 1\\nvalue = [0, 0, 0, 1, 0, 0, 0, 0, 0, 0, 0, 0, 0, 0\\n0, 0, 0, 0, 0, 0, 0]'),\n",
       " Text(0.5084745762711864, 0.2916666666666667, 'x[0] <= 463716.5\\nentropy = 1.0\\nsamples = 2\\nvalue = [1, 0, 1, 0, 0, 0, 0, 0, 0, 0, 0, 0, 0, 0\\n0, 0, 0, 0, 0, 0, 0]'),\n",
       " Text(0.5028248587570622, 0.20833333333333334, 'entropy = 0.0\\nsamples = 1\\nvalue = [0, 0, 1, 0, 0, 0, 0, 0, 0, 0, 0, 0, 0, 0\\n0, 0, 0, 0, 0, 0, 0]'),\n",
       " Text(0.5141242937853108, 0.20833333333333334, 'entropy = 0.0\\nsamples = 1\\nvalue = [1, 0, 0, 0, 0, 0, 0, 0, 0, 0, 0, 0, 0, 0\\n0, 0, 0, 0, 0, 0, 0]'),\n",
       " Text(0.5508474576271186, 0.375, 'x[0] <= 463834.0\\nentropy = 2.0\\nsamples = 8\\nvalue = [2, 2, 0, 2, 0, 0, 2, 0, 0, 0, 0, 0, 0, 0\\n0, 0, 0, 0, 0, 0, 0]'),\n",
       " Text(0.5310734463276836, 0.2916666666666667, 'x[1] <= 4.0\\nentropy = 1.5\\nsamples = 4\\nvalue = [2, 1, 0, 0, 0, 0, 1, 0, 0, 0, 0, 0, 0, 0\\n0, 0, 0, 0, 0, 0, 0]'),\n",
       " Text(0.5254237288135594, 0.20833333333333334, 'entropy = 0.0\\nsamples = 1\\nvalue = [0, 0, 0, 0, 0, 0, 1, 0, 0, 0, 0, 0, 0, 0\\n0, 0, 0, 0, 0, 0, 0]'),\n",
       " Text(0.536723163841808, 0.20833333333333334, 'x[0] <= 463620.0\\nentropy = 0.918\\nsamples = 3\\nvalue = [2, 1, 0, 0, 0, 0, 0, 0, 0, 0, 0, 0, 0, 0\\n0, 0, 0, 0, 0, 0, 0]'),\n",
       " Text(0.5310734463276836, 0.125, 'entropy = 0.0\\nsamples = 1\\nvalue = [1, 0, 0, 0, 0, 0, 0, 0, 0, 0, 0, 0, 0, 0\\n0, 0, 0, 0, 0, 0, 0]'),\n",
       " Text(0.5423728813559322, 0.125, 'x[0] <= 463818.5\\nentropy = 1.0\\nsamples = 2\\nvalue = [1, 1, 0, 0, 0, 0, 0, 0, 0, 0, 0, 0, 0, 0\\n0, 0, 0, 0, 0, 0, 0]'),\n",
       " Text(0.536723163841808, 0.041666666666666664, 'entropy = 0.0\\nsamples = 1\\nvalue = [0, 1, 0, 0, 0, 0, 0, 0, 0, 0, 0, 0, 0, 0\\n0, 0, 0, 0, 0, 0, 0]'),\n",
       " Text(0.5480225988700564, 0.041666666666666664, 'entropy = 0.0\\nsamples = 1\\nvalue = [1, 0, 0, 0, 0, 0, 0, 0, 0, 0, 0, 0, 0, 0\\n0, 0, 0, 0, 0, 0, 0]'),\n",
       " Text(0.5706214689265536, 0.2916666666666667, 'x[0] <= 463971.5\\nentropy = 1.5\\nsamples = 4\\nvalue = [0, 1, 0, 2, 0, 0, 1, 0, 0, 0, 0, 0, 0, 0\\n0, 0, 0, 0, 0, 0, 0]'),\n",
       " Text(0.559322033898305, 0.20833333333333334, 'x[0] <= 463898.5\\nentropy = 1.0\\nsamples = 2\\nvalue = [0, 0, 0, 1, 0, 0, 1, 0, 0, 0, 0, 0, 0, 0\\n0, 0, 0, 0, 0, 0, 0]'),\n",
       " Text(0.5536723163841808, 0.125, 'entropy = 0.0\\nsamples = 1\\nvalue = [0, 0, 0, 1, 0, 0, 0, 0, 0, 0, 0, 0, 0, 0\\n0, 0, 0, 0, 0, 0, 0]'),\n",
       " Text(0.5649717514124294, 0.125, 'entropy = 0.0\\nsamples = 1\\nvalue = [0, 0, 0, 0, 0, 0, 1, 0, 0, 0, 0, 0, 0, 0\\n0, 0, 0, 0, 0, 0, 0]'),\n",
       " Text(0.5819209039548022, 0.20833333333333334, 'x[0] <= 464007.5\\nentropy = 1.0\\nsamples = 2\\nvalue = [0, 1, 0, 1, 0, 0, 0, 0, 0, 0, 0, 0, 0, 0\\n0, 0, 0, 0, 0, 0, 0]'),\n",
       " Text(0.576271186440678, 0.125, 'entropy = 0.0\\nsamples = 1\\nvalue = [0, 1, 0, 0, 0, 0, 0, 0, 0, 0, 0, 0, 0, 0\\n0, 0, 0, 0, 0, 0, 0]'),\n",
       " Text(0.5875706214689266, 0.125, 'entropy = 0.0\\nsamples = 1\\nvalue = [0, 0, 0, 1, 0, 0, 0, 0, 0, 0, 0, 0, 0, 0\\n0, 0, 0, 0, 0, 0, 0]'),\n",
       " Text(0.5819209039548022, 0.4583333333333333, 'x[1] <= 4.5\\nentropy = 1.5\\nsamples = 4\\nvalue = [2, 0, 1, 0, 0, 1, 0, 0, 0, 0, 0, 0, 0, 0\\n0, 0, 0, 0, 0, 0, 0]'),\n",
       " Text(0.576271186440678, 0.375, 'entropy = 0.0\\nsamples = 1\\nvalue = [0, 0, 1, 0, 0, 0, 0, 0, 0, 0, 0, 0, 0, 0\\n0, 0, 0, 0, 0, 0, 0]'),\n",
       " Text(0.5875706214689266, 0.375, 'x[0] <= 464078.0\\nentropy = 0.918\\nsamples = 3\\nvalue = [2, 0, 0, 0, 0, 1, 0, 0, 0, 0, 0, 0, 0, 0\\n0, 0, 0, 0, 0, 0, 0]'),\n",
       " Text(0.5819209039548022, 0.2916666666666667, 'entropy = 0.0\\nsamples = 1\\nvalue = [0, 0, 0, 0, 0, 1, 0, 0, 0, 0, 0, 0, 0, 0\\n0, 0, 0, 0, 0, 0, 0]'),\n",
       " Text(0.5932203389830508, 0.2916666666666667, 'entropy = 0.0\\nsamples = 2\\nvalue = [2, 0, 0, 0, 0, 0, 0, 0, 0, 0, 0, 0, 0, 0\\n0, 0, 0, 0, 0, 0, 0]'),\n",
       " Text(0.6186440677966102, 0.5416666666666666, 'x[1] <= 2.0\\nentropy = 2.406\\nsamples = 8\\nvalue = [1, 3, 1, 1, 1, 0, 0, 0, 0, 0, 0, 0, 0, 0\\n0, 0, 1, 0, 0, 0, 0]'),\n",
       " Text(0.6045197740112994, 0.4583333333333333, 'x[0] <= 464435.5\\nentropy = 1.0\\nsamples = 2\\nvalue = [1, 0, 0, 0, 1, 0, 0, 0, 0, 0, 0, 0, 0, 0\\n0, 0, 0, 0, 0, 0, 0]'),\n",
       " Text(0.5988700564971752, 0.375, 'entropy = 0.0\\nsamples = 1\\nvalue = [0, 0, 0, 0, 1, 0, 0, 0, 0, 0, 0, 0, 0, 0\\n0, 0, 0, 0, 0, 0, 0]'),\n",
       " Text(0.6101694915254238, 0.375, 'entropy = 0.0\\nsamples = 1\\nvalue = [1, 0, 0, 0, 0, 0, 0, 0, 0, 0, 0, 0, 0, 0\\n0, 0, 0, 0, 0, 0, 0]'),\n",
       " Text(0.632768361581921, 0.4583333333333333, 'x[0] <= 464298.5\\nentropy = 1.792\\nsamples = 6\\nvalue = [0, 3, 1, 1, 0, 0, 0, 0, 0, 0, 0, 0, 0, 0\\n0, 0, 1, 0, 0, 0, 0]'),\n",
       " Text(0.6214689265536724, 0.375, 'x[1] <= 4.5\\nentropy = 0.918\\nsamples = 3\\nvalue = [0, 2, 1, 0, 0, 0, 0, 0, 0, 0, 0, 0, 0, 0\\n0, 0, 0, 0, 0, 0, 0]'),\n",
       " Text(0.615819209039548, 0.2916666666666667, 'entropy = 0.0\\nsamples = 2\\nvalue = [0, 2, 0, 0, 0, 0, 0, 0, 0, 0, 0, 0, 0, 0\\n0, 0, 0, 0, 0, 0, 0]'),\n",
       " Text(0.6271186440677966, 0.2916666666666667, 'entropy = 0.0\\nsamples = 1\\nvalue = [0, 0, 1, 0, 0, 0, 0, 0, 0, 0, 0, 0, 0, 0\\n0, 0, 0, 0, 0, 0, 0]'),\n",
       " Text(0.6440677966101694, 0.375, 'x[0] <= 464435.0\\nentropy = 1.585\\nsamples = 3\\nvalue = [0, 1, 0, 1, 0, 0, 0, 0, 0, 0, 0, 0, 0, 0\\n0, 0, 1, 0, 0, 0, 0]'),\n",
       " Text(0.6384180790960452, 0.2916666666666667, 'entropy = 0.0\\nsamples = 1\\nvalue = [0, 0, 0, 1, 0, 0, 0, 0, 0, 0, 0, 0, 0, 0\\n0, 0, 0, 0, 0, 0, 0]'),\n",
       " Text(0.6497175141242938, 0.2916666666666667, 'x[0] <= 464499.5\\nentropy = 1.0\\nsamples = 2\\nvalue = [0, 1, 0, 0, 0, 0, 0, 0, 0, 0, 0, 0, 0, 0\\n0, 0, 1, 0, 0, 0, 0]'),\n",
       " Text(0.6440677966101694, 0.20833333333333334, 'entropy = 0.0\\nsamples = 1\\nvalue = [0, 0, 0, 0, 0, 0, 0, 0, 0, 0, 0, 0, 0, 0\\n0, 0, 1, 0, 0, 0, 0]'),\n",
       " Text(0.655367231638418, 0.20833333333333334, 'entropy = 0.0\\nsamples = 1\\nvalue = [0, 1, 0, 0, 0, 0, 0, 0, 0, 0, 0, 0, 0, 0\\n0, 0, 0, 0, 0, 0, 0]'),\n",
       " Text(0.672316384180791, 0.625, 'x[0] <= 464880.5\\nentropy = 1.549\\nsamples = 8\\nvalue = [5, 0, 1, 0, 0, 0, 0, 0, 0, 1, 0, 0, 0, 0\\n0, 0, 0, 1, 0, 0, 0]'),\n",
       " Text(0.655367231638418, 0.5416666666666666, 'x[1] <= 2.5\\nentropy = 0.811\\nsamples = 4\\nvalue = [3, 0, 0, 0, 0, 0, 0, 0, 0, 1, 0, 0, 0, 0\\n0, 0, 0, 0, 0, 0, 0]'),\n",
       " Text(0.6497175141242938, 0.4583333333333333, 'entropy = 0.0\\nsamples = 2\\nvalue = [2, 0, 0, 0, 0, 0, 0, 0, 0, 0, 0, 0, 0, 0\\n0, 0, 0, 0, 0, 0, 0]'),\n",
       " Text(0.6610169491525424, 0.4583333333333333, 'x[0] <= 464646.0\\nentropy = 1.0\\nsamples = 2\\nvalue = [1, 0, 0, 0, 0, 0, 0, 0, 0, 1, 0, 0, 0, 0\\n0, 0, 0, 0, 0, 0, 0]'),\n",
       " Text(0.655367231638418, 0.375, 'entropy = 0.0\\nsamples = 1\\nvalue = [1, 0, 0, 0, 0, 0, 0, 0, 0, 0, 0, 0, 0, 0\\n0, 0, 0, 0, 0, 0, 0]'),\n",
       " Text(0.6666666666666666, 0.375, 'entropy = 0.0\\nsamples = 1\\nvalue = [0, 0, 0, 0, 0, 0, 0, 0, 0, 1, 0, 0, 0, 0\\n0, 0, 0, 0, 0, 0, 0]'),\n",
       " Text(0.6892655367231638, 0.5416666666666666, 'x[0] <= 464966.5\\nentropy = 1.5\\nsamples = 4\\nvalue = [2, 0, 1, 0, 0, 0, 0, 0, 0, 0, 0, 0, 0, 0\\n0, 0, 0, 1, 0, 0, 0]'),\n",
       " Text(0.6836158192090396, 0.4583333333333333, 'x[1] <= 4.5\\nentropy = 1.0\\nsamples = 2\\nvalue = [0, 0, 1, 0, 0, 0, 0, 0, 0, 0, 0, 0, 0, 0\\n0, 0, 0, 1, 0, 0, 0]'),\n",
       " Text(0.6779661016949152, 0.375, 'entropy = 0.0\\nsamples = 1\\nvalue = [0, 0, 1, 0, 0, 0, 0, 0, 0, 0, 0, 0, 0, 0\\n0, 0, 0, 0, 0, 0, 0]'),\n",
       " Text(0.6892655367231638, 0.375, 'entropy = 0.0\\nsamples = 1\\nvalue = [0, 0, 0, 0, 0, 0, 0, 0, 0, 0, 0, 0, 0, 0\\n0, 0, 0, 1, 0, 0, 0]'),\n",
       " Text(0.6949152542372882, 0.4583333333333333, 'entropy = 0.0\\nsamples = 2\\nvalue = [2, 0, 0, 0, 0, 0, 0, 0, 0, 0, 0, 0, 0, 0\\n0, 0, 0, 0, 0, 0, 0]'),\n",
       " Text(0.7627118644067796, 0.7083333333333334, 'x[0] <= 465659.0\\nentropy = 2.905\\nsamples = 19\\nvalue = [3, 4, 0, 4, 1, 1, 1, 1, 3, 0, 0, 0, 0, 0\\n1, 0, 0, 0, 0, 0, 0]'),\n",
       " Text(0.7401129943502824, 0.625, 'x[0] <= 465382.5\\nentropy = 2.606\\nsamples = 15\\nvalue = [3, 2, 0, 4, 1, 1, 0, 0, 3, 0, 0, 0, 0, 0\\n1, 0, 0, 0, 0, 0, 0]'),\n",
       " Text(0.7175141242937854, 0.5416666666666666, 'x[1] <= 4.5\\nentropy = 2.236\\nsamples = 7\\nvalue = [1, 0, 0, 2, 1, 1, 0, 0, 2, 0, 0, 0, 0, 0\\n0, 0, 0, 0, 0, 0, 0]'),\n",
       " Text(0.7062146892655368, 0.4583333333333333, 'x[0] <= 465177.5\\nentropy = 1.522\\nsamples = 5\\nvalue = [1, 0, 0, 2, 0, 0, 0, 0, 2, 0, 0, 0, 0, 0\\n0, 0, 0, 0, 0, 0, 0]'),\n",
       " Text(0.7005649717514124, 0.375, 'entropy = 0.0\\nsamples = 1\\nvalue = [0, 0, 0, 0, 0, 0, 0, 0, 1, 0, 0, 0, 0, 0\\n0, 0, 0, 0, 0, 0, 0]'),\n",
       " Text(0.711864406779661, 0.375, 'x[0] <= 465285.0\\nentropy = 1.5\\nsamples = 4\\nvalue = [1, 0, 0, 2, 0, 0, 0, 0, 1, 0, 0, 0, 0, 0\\n0, 0, 0, 0, 0, 0, 0]'),\n",
       " Text(0.7062146892655368, 0.2916666666666667, 'x[0] <= 465197.0\\nentropy = 0.918\\nsamples = 3\\nvalue = [1, 0, 0, 2, 0, 0, 0, 0, 0, 0, 0, 0, 0, 0\\n0, 0, 0, 0, 0, 0, 0]'),\n",
       " Text(0.7005649717514124, 0.20833333333333334, 'entropy = 0.0\\nsamples = 1\\nvalue = [0, 0, 0, 1, 0, 0, 0, 0, 0, 0, 0, 0, 0, 0\\n0, 0, 0, 0, 0, 0, 0]'),\n",
       " Text(0.711864406779661, 0.20833333333333334, 'x[0] <= 465242.0\\nentropy = 1.0\\nsamples = 2\\nvalue = [1, 0, 0, 1, 0, 0, 0, 0, 0, 0, 0, 0, 0, 0\\n0, 0, 0, 0, 0, 0, 0]'),\n",
       " Text(0.7062146892655368, 0.125, 'entropy = 0.0\\nsamples = 1\\nvalue = [1, 0, 0, 0, 0, 0, 0, 0, 0, 0, 0, 0, 0, 0\\n0, 0, 0, 0, 0, 0, 0]'),\n",
       " Text(0.7175141242937854, 0.125, 'entropy = 0.0\\nsamples = 1\\nvalue = [0, 0, 0, 1, 0, 0, 0, 0, 0, 0, 0, 0, 0, 0\\n0, 0, 0, 0, 0, 0, 0]'),\n",
       " Text(0.7175141242937854, 0.2916666666666667, 'entropy = 0.0\\nsamples = 1\\nvalue = [0, 0, 0, 0, 0, 0, 0, 0, 1, 0, 0, 0, 0, 0\\n0, 0, 0, 0, 0, 0, 0]'),\n",
       " Text(0.7288135593220338, 0.4583333333333333, 'x[0] <= 465335.0\\nentropy = 1.0\\nsamples = 2\\nvalue = [0, 0, 0, 0, 1, 1, 0, 0, 0, 0, 0, 0, 0, 0\\n0, 0, 0, 0, 0, 0, 0]'),\n",
       " Text(0.7231638418079096, 0.375, 'entropy = 0.0\\nsamples = 1\\nvalue = [0, 0, 0, 0, 1, 0, 0, 0, 0, 0, 0, 0, 0, 0\\n0, 0, 0, 0, 0, 0, 0]'),\n",
       " Text(0.7344632768361582, 0.375, 'entropy = 0.0\\nsamples = 1\\nvalue = [0, 0, 0, 0, 0, 1, 0, 0, 0, 0, 0, 0, 0, 0\\n0, 0, 0, 0, 0, 0, 0]'),\n",
       " Text(0.7627118644067796, 0.5416666666666666, 'x[0] <= 465555.5\\nentropy = 2.25\\nsamples = 8\\nvalue = [2, 2, 0, 2, 0, 0, 0, 0, 1, 0, 0, 0, 0, 0\\n1, 0, 0, 0, 0, 0, 0]'),\n",
       " Text(0.751412429378531, 0.4583333333333333, 'x[1] <= 3.0\\nentropy = 0.918\\nsamples = 3\\nvalue = [0, 2, 0, 0, 0, 0, 0, 0, 0, 0, 0, 0, 0, 0\\n1, 0, 0, 0, 0, 0, 0]'),\n",
       " Text(0.7457627118644068, 0.375, 'entropy = 0.0\\nsamples = 1\\nvalue = [0, 0, 0, 0, 0, 0, 0, 0, 0, 0, 0, 0, 0, 0\\n1, 0, 0, 0, 0, 0, 0]'),\n",
       " Text(0.7570621468926554, 0.375, 'entropy = 0.0\\nsamples = 2\\nvalue = [0, 2, 0, 0, 0, 0, 0, 0, 0, 0, 0, 0, 0, 0\\n0, 0, 0, 0, 0, 0, 0]'),\n",
       " Text(0.7740112994350282, 0.4583333333333333, 'x[0] <= 465612.0\\nentropy = 1.522\\nsamples = 5\\nvalue = [2, 0, 0, 2, 0, 0, 0, 0, 1, 0, 0, 0, 0, 0\\n0, 0, 0, 0, 0, 0, 0]'),\n",
       " Text(0.768361581920904, 0.375, 'entropy = 0.0\\nsamples = 2\\nvalue = [0, 0, 0, 2, 0, 0, 0, 0, 0, 0, 0, 0, 0, 0\\n0, 0, 0, 0, 0, 0, 0]'),\n",
       " Text(0.7796610169491526, 0.375, 'x[0] <= 465645.0\\nentropy = 0.918\\nsamples = 3\\nvalue = [2, 0, 0, 0, 0, 0, 0, 0, 1, 0, 0, 0, 0, 0\\n0, 0, 0, 0, 0, 0, 0]'),\n",
       " Text(0.7740112994350282, 0.2916666666666667, 'entropy = 0.0\\nsamples = 2\\nvalue = [2, 0, 0, 0, 0, 0, 0, 0, 0, 0, 0, 0, 0, 0\\n0, 0, 0, 0, 0, 0, 0]'),\n",
       " Text(0.7853107344632768, 0.2916666666666667, 'entropy = 0.0\\nsamples = 1\\nvalue = [0, 0, 0, 0, 0, 0, 0, 0, 1, 0, 0, 0, 0, 0\\n0, 0, 0, 0, 0, 0, 0]'),\n",
       " Text(0.7853107344632768, 0.625, 'x[0] <= 465698.0\\nentropy = 1.5\\nsamples = 4\\nvalue = [0, 2, 0, 0, 0, 0, 1, 1, 0, 0, 0, 0, 0, 0\\n0, 0, 0, 0, 0, 0, 0]'),\n",
       " Text(0.7796610169491526, 0.5416666666666666, 'entropy = 0.0\\nsamples = 2\\nvalue = [0, 2, 0, 0, 0, 0, 0, 0, 0, 0, 0, 0, 0, 0\\n0, 0, 0, 0, 0, 0, 0]'),\n",
       " Text(0.7909604519774012, 0.5416666666666666, 'x[1] <= 2.5\\nentropy = 1.0\\nsamples = 2\\nvalue = [0, 0, 0, 0, 0, 0, 1, 1, 0, 0, 0, 0, 0, 0\\n0, 0, 0, 0, 0, 0, 0]'),\n",
       " Text(0.7853107344632768, 0.4583333333333333, 'entropy = 0.0\\nsamples = 1\\nvalue = [0, 0, 0, 0, 0, 0, 1, 0, 0, 0, 0, 0, 0, 0\\n0, 0, 0, 0, 0, 0, 0]'),\n",
       " Text(0.7966101694915254, 0.4583333333333333, 'entropy = 0.0\\nsamples = 1\\nvalue = [0, 0, 0, 0, 0, 0, 0, 1, 0, 0, 0, 0, 0, 0\\n0, 0, 0, 0, 0, 0, 0]'),\n",
       " Text(0.9014830508474576, 0.7916666666666666, 'x[0] <= 466759.0\\nentropy = 2.829\\nsamples = 33\\nvalue = [8, 8, 5, 3, 2, 3, 0, 0, 0, 2, 0, 1, 0, 0\\n0, 1, 0, 0, 0, 0, 0]'),\n",
       " Text(0.8651129943502824, 0.7083333333333334, 'x[0] <= 466578.5\\nentropy = 2.55\\nsamples = 14\\nvalue = [2, 5, 2, 0, 1, 1, 0, 0, 0, 2, 0, 1, 0, 0\\n0, 0, 0, 0, 0, 0, 0]'),\n",
       " Text(0.8432203389830508, 0.625, 'x[0] <= 466480.5\\nentropy = 2.446\\nsamples = 10\\nvalue = [1, 3, 2, 0, 1, 1, 0, 0, 0, 2, 0, 0, 0, 0\\n0, 0, 0, 0, 0, 0, 0]'),\n",
       " Text(0.827683615819209, 0.5416666666666666, 'x[0] <= 466189.5\\nentropy = 2.156\\nsamples = 8\\nvalue = [1, 3, 2, 0, 0, 1, 0, 0, 0, 1, 0, 0, 0, 0\\n0, 0, 0, 0, 0, 0, 0]'),\n",
       " Text(0.8135593220338984, 0.4583333333333333, 'x[0] <= 466037.0\\nentropy = 1.918\\nsamples = 6\\nvalue = [1, 2, 2, 0, 0, 0, 0, 0, 0, 1, 0, 0, 0, 0\\n0, 0, 0, 0, 0, 0, 0]'),\n",
       " Text(0.8022598870056498, 0.375, 'x[0] <= 465859.5\\nentropy = 1.5\\nsamples = 4\\nvalue = [1, 2, 1, 0, 0, 0, 0, 0, 0, 0, 0, 0, 0, 0\\n0, 0, 0, 0, 0, 0, 0]'),\n",
       " Text(0.7966101694915254, 0.2916666666666667, 'entropy = 0.0\\nsamples = 1\\nvalue = [0, 0, 1, 0, 0, 0, 0, 0, 0, 0, 0, 0, 0, 0\\n0, 0, 0, 0, 0, 0, 0]'),\n",
       " Text(0.807909604519774, 0.2916666666666667, 'x[0] <= 465886.5\\nentropy = 0.918\\nsamples = 3\\nvalue = [1, 2, 0, 0, 0, 0, 0, 0, 0, 0, 0, 0, 0, 0\\n0, 0, 0, 0, 0, 0, 0]'),\n",
       " Text(0.8022598870056498, 0.20833333333333334, 'entropy = 0.0\\nsamples = 1\\nvalue = [0, 1, 0, 0, 0, 0, 0, 0, 0, 0, 0, 0, 0, 0\\n0, 0, 0, 0, 0, 0, 0]'),\n",
       " Text(0.8135593220338984, 0.20833333333333334, 'x[0] <= 465948.5\\nentropy = 1.0\\nsamples = 2\\nvalue = [1, 1, 0, 0, 0, 0, 0, 0, 0, 0, 0, 0, 0, 0\\n0, 0, 0, 0, 0, 0, 0]'),\n",
       " Text(0.807909604519774, 0.125, 'entropy = 0.0\\nsamples = 1\\nvalue = [1, 0, 0, 0, 0, 0, 0, 0, 0, 0, 0, 0, 0, 0\\n0, 0, 0, 0, 0, 0, 0]'),\n",
       " Text(0.8192090395480226, 0.125, 'entropy = 0.0\\nsamples = 1\\nvalue = [0, 1, 0, 0, 0, 0, 0, 0, 0, 0, 0, 0, 0, 0\\n0, 0, 0, 0, 0, 0, 0]'),\n",
       " Text(0.8248587570621468, 0.375, 'x[1] <= 3.0\\nentropy = 1.0\\nsamples = 2\\nvalue = [0, 0, 1, 0, 0, 0, 0, 0, 0, 1, 0, 0, 0, 0\\n0, 0, 0, 0, 0, 0, 0]'),\n",
       " Text(0.8192090395480226, 0.2916666666666667, 'entropy = 0.0\\nsamples = 1\\nvalue = [0, 0, 1, 0, 0, 0, 0, 0, 0, 0, 0, 0, 0, 0\\n0, 0, 0, 0, 0, 0, 0]'),\n",
       " Text(0.8305084745762712, 0.2916666666666667, 'entropy = 0.0\\nsamples = 1\\nvalue = [0, 0, 0, 0, 0, 0, 0, 0, 0, 1, 0, 0, 0, 0\\n0, 0, 0, 0, 0, 0, 0]'),\n",
       " Text(0.8418079096045198, 0.4583333333333333, 'x[1] <= 3.0\\nentropy = 1.0\\nsamples = 2\\nvalue = [0, 1, 0, 0, 0, 1, 0, 0, 0, 0, 0, 0, 0, 0\\n0, 0, 0, 0, 0, 0, 0]'),\n",
       " Text(0.8361581920903954, 0.375, 'entropy = 0.0\\nsamples = 1\\nvalue = [0, 0, 0, 0, 0, 1, 0, 0, 0, 0, 0, 0, 0, 0\\n0, 0, 0, 0, 0, 0, 0]'),\n",
       " Text(0.847457627118644, 0.375, 'entropy = 0.0\\nsamples = 1\\nvalue = [0, 1, 0, 0, 0, 0, 0, 0, 0, 0, 0, 0, 0, 0\\n0, 0, 0, 0, 0, 0, 0]'),\n",
       " Text(0.8587570621468926, 0.5416666666666666, 'x[1] <= 3.0\\nentropy = 1.0\\nsamples = 2\\nvalue = [0, 0, 0, 0, 1, 0, 0, 0, 0, 1, 0, 0, 0, 0\\n0, 0, 0, 0, 0, 0, 0]'),\n",
       " Text(0.8531073446327684, 0.4583333333333333, 'entropy = 0.0\\nsamples = 1\\nvalue = [0, 0, 0, 0, 0, 0, 0, 0, 0, 1, 0, 0, 0, 0\\n0, 0, 0, 0, 0, 0, 0]'),\n",
       " Text(0.864406779661017, 0.4583333333333333, 'entropy = 0.0\\nsamples = 1\\nvalue = [0, 0, 0, 0, 1, 0, 0, 0, 0, 0, 0, 0, 0, 0\\n0, 0, 0, 0, 0, 0, 0]'),\n",
       " Text(0.8870056497175142, 0.625, 'x[0] <= 466616.5\\nentropy = 1.5\\nsamples = 4\\nvalue = [1, 2, 0, 0, 0, 0, 0, 0, 0, 0, 0, 1, 0, 0\\n0, 0, 0, 0, 0, 0, 0]'),\n",
       " Text(0.8813559322033898, 0.5416666666666666, 'x[1] <= 3.0\\nentropy = 1.0\\nsamples = 2\\nvalue = [1, 0, 0, 0, 0, 0, 0, 0, 0, 0, 0, 1, 0, 0\\n0, 0, 0, 0, 0, 0, 0]'),\n",
       " Text(0.8757062146892656, 0.4583333333333333, 'entropy = 0.0\\nsamples = 1\\nvalue = [1, 0, 0, 0, 0, 0, 0, 0, 0, 0, 0, 0, 0, 0\\n0, 0, 0, 0, 0, 0, 0]'),\n",
       " Text(0.8870056497175142, 0.4583333333333333, 'entropy = 0.0\\nsamples = 1\\nvalue = [0, 0, 0, 0, 0, 0, 0, 0, 0, 0, 0, 1, 0, 0\\n0, 0, 0, 0, 0, 0, 0]'),\n",
       " Text(0.8926553672316384, 0.5416666666666666, 'entropy = 0.0\\nsamples = 2\\nvalue = [0, 2, 0, 0, 0, 0, 0, 0, 0, 0, 0, 0, 0, 0\\n0, 0, 0, 0, 0, 0, 0]'),\n",
       " Text(0.9378531073446328, 0.7083333333333334, 'x[0] <= 467239.5\\nentropy = 2.576\\nsamples = 19\\nvalue = [6, 3, 3, 3, 1, 2, 0, 0, 0, 0, 0, 0, 0, 0\\n0, 1, 0, 0, 0, 0, 0]'),\n",
       " Text(0.9096045197740112, 0.625, 'x[0] <= 466888.0\\nentropy = 2.25\\nsamples = 8\\nvalue = [2, 0, 2, 1, 0, 2, 0, 0, 0, 0, 0, 0, 0, 0\\n0, 1, 0, 0, 0, 0, 0]'),\n",
       " Text(0.903954802259887, 0.5416666666666666, 'entropy = 0.0\\nsamples = 2\\nvalue = [2, 0, 0, 0, 0, 0, 0, 0, 0, 0, 0, 0, 0, 0\\n0, 0, 0, 0, 0, 0, 0]'),\n",
       " Text(0.9152542372881356, 0.5416666666666666, 'x[0] <= 466974.0\\nentropy = 1.918\\nsamples = 6\\nvalue = [0, 0, 2, 1, 0, 2, 0, 0, 0, 0, 0, 0, 0, 0\\n0, 1, 0, 0, 0, 0, 0]'),\n",
       " Text(0.903954802259887, 0.4583333333333333, 'x[1] <= 4.5\\nentropy = 0.918\\nsamples = 3\\nvalue = [0, 0, 2, 0, 0, 1, 0, 0, 0, 0, 0, 0, 0, 0\\n0, 0, 0, 0, 0, 0, 0]'),\n",
       " Text(0.8983050847457628, 0.375, 'entropy = 0.0\\nsamples = 1\\nvalue = [0, 0, 0, 0, 0, 1, 0, 0, 0, 0, 0, 0, 0, 0\\n0, 0, 0, 0, 0, 0, 0]'),\n",
       " Text(0.9096045197740112, 0.375, 'entropy = 0.0\\nsamples = 2\\nvalue = [0, 0, 2, 0, 0, 0, 0, 0, 0, 0, 0, 0, 0, 0\\n0, 0, 0, 0, 0, 0, 0]'),\n",
       " Text(0.9265536723163842, 0.4583333333333333, 'x[0] <= 467038.0\\nentropy = 1.585\\nsamples = 3\\nvalue = [0, 0, 0, 1, 0, 1, 0, 0, 0, 0, 0, 0, 0, 0\\n0, 1, 0, 0, 0, 0, 0]'),\n",
       " Text(0.9209039548022598, 0.375, 'entropy = 0.0\\nsamples = 1\\nvalue = [0, 0, 0, 0, 0, 0, 0, 0, 0, 0, 0, 0, 0, 0\\n0, 1, 0, 0, 0, 0, 0]'),\n",
       " Text(0.9322033898305084, 0.375, 'x[0] <= 467137.0\\nentropy = 1.0\\nsamples = 2\\nvalue = [0, 0, 0, 1, 0, 1, 0, 0, 0, 0, 0, 0, 0, 0\\n0, 0, 0, 0, 0, 0, 0]'),\n",
       " Text(0.9265536723163842, 0.2916666666666667, 'entropy = 0.0\\nsamples = 1\\nvalue = [0, 0, 0, 1, 0, 0, 0, 0, 0, 0, 0, 0, 0, 0\\n0, 0, 0, 0, 0, 0, 0]'),\n",
       " Text(0.9378531073446328, 0.2916666666666667, 'entropy = 0.0\\nsamples = 1\\nvalue = [0, 0, 0, 0, 0, 1, 0, 0, 0, 0, 0, 0, 0, 0\\n0, 0, 0, 0, 0, 0, 0]'),\n",
       " Text(0.9661016949152542, 0.625, 'x[1] <= 4.5\\nentropy = 2.118\\nsamples = 11\\nvalue = [4, 3, 1, 2, 1, 0, 0, 0, 0, 0, 0, 0, 0, 0\\n0, 0, 0, 0, 0, 0, 0]'),\n",
       " Text(0.9548022598870056, 0.5416666666666666, 'x[0] <= 467820.5\\nentropy = 1.5\\nsamples = 4\\nvalue = [2, 0, 1, 0, 1, 0, 0, 0, 0, 0, 0, 0, 0, 0\\n0, 0, 0, 0, 0, 0, 0]'),\n",
       " Text(0.9491525423728814, 0.4583333333333333, 'x[0] <= 467605.0\\nentropy = 1.0\\nsamples = 2\\nvalue = [0, 0, 1, 0, 1, 0, 0, 0, 0, 0, 0, 0, 0, 0\\n0, 0, 0, 0, 0, 0, 0]'),\n",
       " Text(0.943502824858757, 0.375, 'entropy = 0.0\\nsamples = 1\\nvalue = [0, 0, 1, 0, 0, 0, 0, 0, 0, 0, 0, 0, 0, 0\\n0, 0, 0, 0, 0, 0, 0]'),\n",
       " Text(0.9548022598870056, 0.375, 'entropy = 0.0\\nsamples = 1\\nvalue = [0, 0, 0, 0, 1, 0, 0, 0, 0, 0, 0, 0, 0, 0\\n0, 0, 0, 0, 0, 0, 0]'),\n",
       " Text(0.96045197740113, 0.4583333333333333, 'entropy = 0.0\\nsamples = 2\\nvalue = [2, 0, 0, 0, 0, 0, 0, 0, 0, 0, 0, 0, 0, 0\\n0, 0, 0, 0, 0, 0, 0]'),\n",
       " Text(0.9774011299435028, 0.5416666666666666, 'x[0] <= 467807.5\\nentropy = 1.557\\nsamples = 7\\nvalue = [2, 3, 0, 2, 0, 0, 0, 0, 0, 0, 0, 0, 0, 0\\n0, 0, 0, 0, 0, 0, 0]'),\n",
       " Text(0.9717514124293786, 0.4583333333333333, 'x[0] <= 467352.5\\nentropy = 1.522\\nsamples = 5\\nvalue = [2, 1, 0, 2, 0, 0, 0, 0, 0, 0, 0, 0, 0, 0\\n0, 0, 0, 0, 0, 0, 0]'),\n",
       " Text(0.9661016949152542, 0.375, 'entropy = 0.0\\nsamples = 1\\nvalue = [0, 1, 0, 0, 0, 0, 0, 0, 0, 0, 0, 0, 0, 0\\n0, 0, 0, 0, 0, 0, 0]'),\n",
       " Text(0.9774011299435028, 0.375, 'x[0] <= 467474.5\\nentropy = 1.0\\nsamples = 4\\nvalue = [2, 0, 0, 2, 0, 0, 0, 0, 0, 0, 0, 0, 0, 0\\n0, 0, 0, 0, 0, 0, 0]'),\n",
       " Text(0.9717514124293786, 0.2916666666666667, 'entropy = 0.0\\nsamples = 1\\nvalue = [1, 0, 0, 0, 0, 0, 0, 0, 0, 0, 0, 0, 0, 0\\n0, 0, 0, 0, 0, 0, 0]'),\n",
       " Text(0.9830508474576272, 0.2916666666666667, 'x[0] <= 467601.5\\nentropy = 0.918\\nsamples = 3\\nvalue = [1, 0, 0, 2, 0, 0, 0, 0, 0, 0, 0, 0, 0, 0\\n0, 0, 0, 0, 0, 0, 0]'),\n",
       " Text(0.9774011299435028, 0.20833333333333334, 'entropy = 0.0\\nsamples = 1\\nvalue = [0, 0, 0, 1, 0, 0, 0, 0, 0, 0, 0, 0, 0, 0\\n0, 0, 0, 0, 0, 0, 0]'),\n",
       " Text(0.9887005649717514, 0.20833333333333334, 'x[0] <= 467723.0\\nentropy = 1.0\\nsamples = 2\\nvalue = [1, 0, 0, 1, 0, 0, 0, 0, 0, 0, 0, 0, 0, 0\\n0, 0, 0, 0, 0, 0, 0]'),\n",
       " Text(0.9830508474576272, 0.125, 'entropy = 0.0\\nsamples = 1\\nvalue = [1, 0, 0, 0, 0, 0, 0, 0, 0, 0, 0, 0, 0, 0\\n0, 0, 0, 0, 0, 0, 0]'),\n",
       " Text(0.9943502824858758, 0.125, 'entropy = 0.0\\nsamples = 1\\nvalue = [0, 0, 0, 1, 0, 0, 0, 0, 0, 0, 0, 0, 0, 0\\n0, 0, 0, 0, 0, 0, 0]'),\n",
       " Text(0.9830508474576272, 0.4583333333333333, 'entropy = 0.0\\nsamples = 2\\nvalue = [0, 2, 0, 0, 0, 0, 0, 0, 0, 0, 0, 0, 0, 0\\n0, 0, 0, 0, 0, 0, 0]')]"
      ]
     },
     "execution_count": 38,
     "metadata": {},
     "output_type": "execute_result"
    },
    {
     "data": {
      "image/png": "[encoded data removed]",
      "text/plain": [
       "<Figure size 640x480 with 1 Axes>"
      ]
     },
     "metadata": {},
     "output_type": "display_data"
    }
   ],
   "source": [
    "from sklearn import tree\n",
    "tree.plot_tree(dt_clf)\n"
   ]
  },
  {
   "cell_type": "markdown",
   "id": "47f61bff",
   "metadata": {},
   "source": [
    "# Classification Model"
   ]
  },
  {
   "cell_type": "code",
   "execution_count": 39,
   "id": "46a7eea0",
   "metadata": {},
   "outputs": [
    {
     "name": "stdout",
     "output_type": "stream",
     "text": [
      "****************************************************************************************************\n",
      "Decison Tree Model\n",
      "****************************************************************************************************\n",
      "\n",
      " Training Phase\n",
      "Hyperparameter:\n",
      " {'ccp_alpha': 0.0, 'class_weight': None, 'criterion': 'entropy', 'max_depth': 2, 'max_features': None, 'max_leaf_nodes': None, 'min_impurity_decrease': 0.0, 'min_samples_leaf': 1, 'min_samples_split': 2, 'min_weight_fraction_leaf': 0.0, 'random_state': None, 'splitter': 'best'}\n",
      "Training Completed\n",
      "====================================================================================================\n",
      "\n",
      " Test Phase\n",
      "Predicted class labels for the test samples:\n",
      " [1 1 2 1 1 2 1 1 1 1 2 1 1 1 1 1 2 1 1 1 1 2 1 1 1 1 1 1 1 1 1 1 1 1 1 2 1\n",
      " 1 2 1 2 1 1 1 1 1 1 1 2 1 2 1]\n",
      "\n",
      "Testing completed\n",
      "====================================================================================================\n"
     ]
    }
   ],
   "source": [
    "from sklearn.tree import DecisionTreeClassifier\n",
    "dt_clf=DecisionTreeClassifier(criterion='entropy',max_depth=2)\n",
    "print('*'*100)\n",
    "print('Decison Tree Model')\n",
    "print('*'*100)\n",
    "print('\\n Training Phase')\n",
    "dt_clf.fit(xtrain,ytrain)\n",
    "print('Hyperparameter:\\n',dt_clf.get_params())\n",
    "print('Training Completed')\n",
    "print('='*100)\n",
    "print('\\n Test Phase')\n",
    "ypred=dt_clf.predict(xtest)\n",
    "print('Predicted class labels for the test samples:\\n',ypred)\n",
    "print()\n",
    "print('Testing completed')\n",
    "print('='*100)"
   ]
  },
  {
   "cell_type": "code",
   "execution_count": 40,
   "id": "d83bf562",
   "metadata": {},
   "outputs": [
    {
     "name": "stdout",
     "output_type": "stream",
     "text": [
      "****************************************************************************************************\n",
      "Decison Tree - Performance Measures\n",
      "****************************************************************************************************\n",
      "Accuracy Score:\t 0.23076923076923078\n",
      "====================================================================================================\n",
      "Confusion Matric:\n",
      " [[11  3  0  0  0  0  0  0  0  0  0  0  0]\n",
      " [12  1  0  0  0  0  0  0  0  0  0  0  0]\n",
      " [ 5  3  0  0  0  0  0  0  0  0  0  0  0]\n",
      " [ 4  0  0  0  0  0  0  0  0  0  0  0  0]\n",
      " [ 4  0  0  0  0  0  0  0  0  0  0  0  0]\n",
      " [ 0  1  0  0  0  0  0  0  0  0  0  0  0]\n",
      " [ 0  1  0  0  0  0  0  0  0  0  0  0  0]\n",
      " [ 1  0  0  0  0  0  0  0  0  0  0  0  0]\n",
      " [ 0  1  0  0  0  0  0  0  0  0  0  0  0]\n",
      " [ 1  0  0  0  0  0  0  0  0  0  0  0  0]\n",
      " [ 2  0  0  0  0  0  0  0  0  0  0  0  0]\n",
      " [ 1  0  0  0  0  0  0  0  0  0  0  0  0]\n",
      " [ 1  0  0  0  0  0  0  0  0  0  0  0  0]]\n",
      "====================================================================================================\n",
      "Classification Report\n",
      "               precision    recall  f1-score   support\n",
      "\n",
      "           1       0.26      0.79      0.39        14\n",
      "           2       0.10      0.08      0.09        13\n",
      "           3       0.00      0.00      0.00         8\n",
      "           4       0.00      0.00      0.00         4\n",
      "           5       0.00      0.00      0.00         4\n",
      "           7       0.00      0.00      0.00         1\n",
      "           8       0.00      0.00      0.00         1\n",
      "          12       0.00      0.00      0.00         1\n",
      "          18       0.00      0.00      0.00         1\n",
      "          19       0.00      0.00      0.00         1\n",
      "          23       0.00      0.00      0.00         2\n",
      "          40       0.00      0.00      0.00         1\n",
      "          50       0.00      0.00      0.00         1\n",
      "\n",
      "    accuracy                           0.23        52\n",
      "   macro avg       0.03      0.07      0.04        52\n",
      "weighted avg       0.10      0.23      0.13        52\n",
      "\n",
      "====================================================================================================\n"
     ]
    },
    {
     "name": "stderr",
     "output_type": "stream",
     "text": [
      "C:\\Users\\MEGHA\\anaconda3\\Lib\\site-packages\\sklearn\\metrics\\_classification.py:1469: UndefinedMetricWarning: Precision and F-score are ill-defined and being set to 0.0 in labels with no predicted samples. Use `zero_division` parameter to control this behavior.\n",
      "  _warn_prf(average, modifier, msg_start, len(result))\n",
      "C:\\Users\\MEGHA\\anaconda3\\Lib\\site-packages\\sklearn\\metrics\\_classification.py:1469: UndefinedMetricWarning: Precision and F-score are ill-defined and being set to 0.0 in labels with no predicted samples. Use `zero_division` parameter to control this behavior.\n",
      "  _warn_prf(average, modifier, msg_start, len(result))\n",
      "C:\\Users\\MEGHA\\anaconda3\\Lib\\site-packages\\sklearn\\metrics\\_classification.py:1469: UndefinedMetricWarning: Precision and F-score are ill-defined and being set to 0.0 in labels with no predicted samples. Use `zero_division` parameter to control this behavior.\n",
      "  _warn_prf(average, modifier, msg_start, len(result))\n"
     ]
    }
   ],
   "source": [
    "#import metrics\n",
    "from sklearn.metrics import accuracy_score\n",
    "from sklearn.metrics import confusion_matrix\n",
    "from sklearn.metrics import classification_report\n",
    "print('*'*100)\n",
    "print('Decison Tree - Performance Measures')\n",
    "print('*'*100)\n",
    "print('Accuracy Score:\\t',accuracy_score(ytest,ypred))\n",
    "print('='*100)\n",
    "print('Confusion Matric:\\n',confusion_matrix(ytest,ypred))\n",
    "print('='*100)\n",
    "print('Classification Report\\n',classification_report(ytest,ypred))\n",
    "print('='*100)"
   ]
  },
  {
   "cell_type": "code",
   "execution_count": 41,
   "id": "d1b08344",
   "metadata": {},
   "outputs": [
    {
     "data": {
      "text/plain": [
       "[Text(0.5, 0.8333333333333334, 'x[0] <= 463382.0\\nentropy = 3.373\\nsamples = 153\\nvalue = [35, 31, 22, 15, 10, 9, 4, 3, 5, 5, 1, 3, 2\\n1, 1, 1, 1, 1, 1, 1, 1]'),\n",
       " Text(0.25, 0.5, 'x[0] <= 461839.0\\nentropy = 3.4\\nsamples = 70\\nvalue = [13, 14, 13, 4, 6, 4, 1, 2, 2, 2, 1, 2, 2, 1\\n0, 0, 0, 0, 1, 1, 1]'),\n",
       " Text(0.125, 0.16666666666666666, 'entropy = 3.198\\nsamples = 45\\nvalue = [11, 7, 8, 3, 3, 4, 1, 1, 1, 2, 1, 0, 2, 1\\n0, 0, 0, 0, 0, 0, 0]'),\n",
       " Text(0.375, 0.16666666666666666, 'entropy = 3.043\\nsamples = 25\\nvalue = [2, 7, 5, 1, 3, 0, 0, 1, 1, 0, 0, 2, 0, 0\\n0, 0, 0, 0, 1, 1, 1]'),\n",
       " Text(0.75, 0.5, 'x[0] <= 465832.0\\nentropy = 3.146\\nsamples = 83\\nvalue = [22, 17, 9, 11, 4, 5, 3, 1, 3, 3, 0, 1, 0, 0\\n1, 1, 1, 1, 0, 0, 0]'),\n",
       " Text(0.625, 0.16666666666666666, 'entropy = 3.097\\nsamples = 50\\nvalue = [14, 9, 4, 8, 2, 2, 3, 1, 3, 1, 0, 0, 0, 0\\n1, 0, 1, 1, 0, 0, 0]'),\n",
       " Text(0.875, 0.16666666666666666, 'entropy = 2.829\\nsamples = 33\\nvalue = [8, 8, 5, 3, 2, 3, 0, 0, 0, 2, 0, 1, 0, 0\\n0, 1, 0, 0, 0, 0, 0]')]"
      ]
     },
     "execution_count": 41,
     "metadata": {},
     "output_type": "execute_result"
    },
    {
     "data": {
      "image/png": "[encoded data removed]",
      "text/plain": [
       "<Figure size 640x480 with 1 Axes>"
      ]
     },
     "metadata": {},
     "output_type": "display_data"
    }
   ],
   "source": [
    "tree.plot_tree(dt_clf)"
   ]
  },
  {
   "cell_type": "code",
   "execution_count": null,
   "id": "2ced428b",
   "metadata": {},
   "outputs": [],
   "source": []
  }
 ],
 "metadata": {
  "kernelspec": {
   "display_name": "Python 3 (ipykernel)",
   "language": "python",
   "name": "python3"
  },
  "language_info": {
   "codemirror_mode": {
    "name": "ipython",
    "version": 3
   },
   "file_extension": ".py",
   "mimetype": "text/x-python",
   "name": "python",
   "nbconvert_exporter": "python",
   "pygments_lexer": "ipython3",
   "version": "3.11.4"
  }
 },
 "nbformat": 4,
 "nbformat_minor": 5
}
