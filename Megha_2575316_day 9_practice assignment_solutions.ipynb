{
 "cells": [
  {
   "cell_type": "markdown",
   "id": "297364d0",
   "metadata": {},
   "source": [
    "# 1.Create a 3x3x3 array with random values"
   ]
  },
  {
   "cell_type": "code",
   "execution_count": 6,
   "id": "3d619e89",
   "metadata": {},
   "outputs": [
    {
     "name": "stdout",
     "output_type": "stream",
     "text": [
      "[[[0.93080889 0.09793034 0.51715472]\n",
      "  [0.08042211 0.1975002  0.23146289]\n",
      "  [0.87425821 0.79553317 0.21180515]]\n",
      "\n",
      " [[0.0672507  0.32865345 0.11730862]\n",
      "  [0.42227324 0.3954187  0.71172767]\n",
      "  [0.87666582 0.35462431 0.64217857]]\n",
      "\n",
      " [[0.58379833 0.89226793 0.6922576 ]\n",
      "  [0.43688498 0.06023474 0.11957109]\n",
      "  [0.95289897 0.10754607 0.54604982]]]\n"
     ]
    }
   ],
   "source": [
    "import numpy as np\n",
    "\n",
    "\n",
    "random_array = np.random.rand(3, 3, 3)\n",
    "\n",
    "print(random_array)"
   ]
  },
  {
   "cell_type": "markdown",
   "id": "e919ef70",
   "metadata": {},
   "source": [
    "# 2.Create a 5x5 matrix with values 1, 2, 3, 4 just below the diagonal"
   ]
  },
  {
   "cell_type": "code",
   "execution_count": 7,
   "id": "dc8c5d44",
   "metadata": {},
   "outputs": [
    {
     "name": "stdout",
     "output_type": "stream",
     "text": [
      "[[0. 0. 0. 0. 0.]\n",
      " [1. 0. 0. 0. 0.]\n",
      " [0. 2. 0. 0. 0.]\n",
      " [0. 0. 3. 0. 0.]\n",
      " [0. 0. 0. 4. 0.]]\n"
     ]
    }
   ],
   "source": [
    "import numpy as np\n",
    "\n",
    "\n",
    "matrix = np.zeros((5, 5))\n",
    "\n",
    "\n",
    "for i in range(1, 5):\n",
    "    matrix[i, i - 1] = i\n",
    "\n",
    "print(matrix)"
   ]
  },
  {
   "cell_type": "markdown",
   "id": "83f0fc0f",
   "metadata": {},
   "source": [
    "# 3.Create a 8x8 matrix and fill it with a checkerboard pattern"
   ]
  },
  {
   "cell_type": "code",
   "execution_count": 8,
   "id": "a88bf259",
   "metadata": {},
   "outputs": [
    {
     "name": "stdout",
     "output_type": "stream",
     "text": [
      "[[0 1 0 1 0 1 0 1]\n",
      " [1 0 1 0 1 0 1 0]\n",
      " [0 1 0 1 0 1 0 1]\n",
      " [1 0 1 0 1 0 1 0]\n",
      " [0 1 0 1 0 1 0 1]\n",
      " [1 0 1 0 1 0 1 0]\n",
      " [0 1 0 1 0 1 0 1]\n",
      " [1 0 1 0 1 0 1 0]]\n"
     ]
    }
   ],
   "source": [
    "import numpy as np\n",
    "\n",
    "\n",
    "matrix = np.zeros((8, 8), dtype=int)\n",
    "\n",
    "\n",
    "matrix[1::2, ::2] = 1\n",
    "matrix[::2, 1::2] = 1\n",
    "\n",
    "print(matrix)"
   ]
  },
  {
   "cell_type": "markdown",
   "id": "cfd42864",
   "metadata": {},
   "source": [
    "# 4.Normalize a 5x5 random matrix"
   ]
  },
  {
   "cell_type": "code",
   "execution_count": 9,
   "id": "1f769248",
   "metadata": {},
   "outputs": [
    {
     "name": "stdout",
     "output_type": "stream",
     "text": [
      "Random Matrix:\n",
      "[[0.51498377 0.60727186 0.70508158 0.48018897 0.09439686]\n",
      " [0.20795773 0.65274469 0.62679036 0.88792274 0.92743997]\n",
      " [0.34366833 0.42642359 0.43705567 0.017069   0.71799983]\n",
      " [0.33645457 0.7897146  0.83651065 0.34829655 0.42330992]\n",
      " [0.26130917 0.7905109  0.52267314 0.34281797 0.98256183]]\n",
      "\n",
      "Normalized Matrix:\n",
      "[[-0.06390434  0.29874872  0.68309944 -0.20063314 -1.71663249]\n",
      " [-1.27038645  0.47743766  0.37544814  1.40158763  1.55687358]\n",
      " [-0.73710134 -0.41190828 -0.37012872 -2.02049821  0.73386267]\n",
      " [-0.76544837  1.01567132  1.19955992 -0.71891441 -0.42414368]\n",
      " [-1.06073793  1.01880042 -0.03368837 -0.74044291  1.77347913]]\n"
     ]
    }
   ],
   "source": [
    "import numpy as np\n",
    "\n",
    "random_matrix = np.random.rand(5, 5)\n",
    "\n",
    "\n",
    "mean_value = np.mean(random_matrix)\n",
    "std_deviation = np.std(random_matrix)\n",
    "\n",
    "\n",
    "normalized_matrix = (random_matrix - mean_value) / std_deviation\n",
    "\n",
    "print(\"Random Matrix:\")\n",
    "print(random_matrix)\n",
    "print(\"\\nNormalized Matrix:\")\n",
    "print(normalized_matrix)"
   ]
  },
  {
   "cell_type": "markdown",
   "id": "59a03201",
   "metadata": {},
   "source": [
    "# 5.How to find common values between two arrays in Numpy in Python?"
   ]
  },
  {
   "cell_type": "code",
   "execution_count": 11,
   "id": "674f1399",
   "metadata": {},
   "outputs": [
    {
     "name": "stdout",
     "output_type": "stream",
     "text": [
      "Common Values: [ 9 10 22]\n"
     ]
    }
   ],
   "source": [
    "import numpy as np\n",
    "\n",
    "\n",
    "array1 = np.array([11, 22, 24, 10, 9])\n",
    "array2 = np.array([22, 9, 10, 6, 7])\n",
    "\n",
    "\n",
    "common_values = np.intersect1d(array1, array2)\n",
    "\n",
    "print(\"Common Values:\", common_values)"
   ]
  },
  {
   "cell_type": "markdown",
   "id": "f9022090",
   "metadata": {},
   "source": [
    "# 6.How to get the dates of yesterday,today and tomorrow?"
   ]
  },
  {
   "cell_type": "code",
   "execution_count": 1,
   "id": "c24d950c",
   "metadata": {},
   "outputs": [
    {
     "name": "stdout",
     "output_type": "stream",
     "text": [
      "Dates as NumPy array: [datetime.date(2023, 9, 20) datetime.date(2023, 9, 21)\n",
      " datetime.date(2023, 9, 22)]\n"
     ]
    }
   ],
   "source": [
    "import numpy as np\n",
    "from datetime import datetime, timedelta\n",
    "\n",
    "\n",
    "today = datetime.today().date()\n",
    "\n",
    "\n",
    "yesterday = today - timedelta(days=1)\n",
    "tomorrow = today + timedelta(days=1)\n",
    "\n",
    "\n",
    "dates = np.array([yesterday, today, tomorrow])\n",
    "\n",
    "print(\"Dates as NumPy array:\", dates)\n"
   ]
  },
  {
   "cell_type": "markdown",
   "id": "ab8f5b01",
   "metadata": {},
   "source": [
    "# 7.Consider two random arrays A and B, check if they are equal"
   ]
  },
  {
   "cell_type": "code",
   "execution_count": 2,
   "id": "b366225a",
   "metadata": {},
   "outputs": [
    {
     "name": "stdout",
     "output_type": "stream",
     "text": [
      "Arrays A and B are equal.\n"
     ]
    }
   ],
   "source": [
    "import numpy as np\n",
    "\n",
    "\n",
    "A = np.array([2, 4, 5])\n",
    "B = np.array([2, 4, 5])\n",
    "\n",
    "\n",
    "if np.array_equal(A, B):\n",
    "    print(\"Arrays A and B are equal.\")\n",
    "else:\n",
    "    print(\"Arrays A and B are not equal.\")"
   ]
  },
  {
   "cell_type": "markdown",
   "id": "9a3820da",
   "metadata": {},
   "source": [
    "# 8.Create a random vector of size 10 and replace the maximum value by 0"
   ]
  },
  {
   "cell_type": "code",
   "execution_count": 3,
   "id": "861e4ca9",
   "metadata": {},
   "outputs": [
    {
     "name": "stdout",
     "output_type": "stream",
     "text": [
      "[0.43803755 0.16014809 0.6357019  0.49598552 0.00315471 0.59134272\n",
      " 0.06119627 0.         0.68451458 0.09021947]\n"
     ]
    }
   ],
   "source": [
    "import numpy as np\n",
    "\n",
    "\n",
    "random_vector = np.random.rand(10)\n",
    "\n",
    "\n",
    "max_index = np.argmax(random_vector)\n",
    "\n",
    "\n",
    "random_vector[max_index] = 0\n",
    "\n",
    "print(random_vector)\n"
   ]
  },
  {
   "cell_type": "markdown",
   "id": "ee38fc67",
   "metadata": {},
   "source": [
    "# 9.How to print all the values of an array"
   ]
  },
  {
   "cell_type": "code",
   "execution_count": 4,
   "id": "68e379de",
   "metadata": {},
   "outputs": [
    {
     "name": "stdout",
     "output_type": "stream",
     "text": [
      "4\n",
      "1\n",
      "8\n",
      "9\n",
      "20\n",
      "11\n",
      "8\n",
      "2\n",
      "3\n"
     ]
    }
   ],
   "source": [
    "import numpy as np\n",
    "\n",
    "\n",
    "arr_2d = np.array([[4, 1, 8],\n",
    "                   [9, 20, 11],\n",
    "                   [8, 2, 3]])\n",
    "\n",
    "\n",
    "for row in arr_2d:\n",
    "    for val in row:\n",
    "        print(val)\n",
    "        "
   ]
  },
  {
   "cell_type": "markdown",
   "id": "adee340a",
   "metadata": {},
   "source": [
    "# 10.Subtract the mean of each row of a matrix"
   ]
  },
  {
   "cell_type": "code",
   "execution_count": 5,
   "id": "64d96e64",
   "metadata": {},
   "outputs": [
    {
     "name": "stdout",
     "output_type": "stream",
     "text": [
      "[[-0.33333333 -3.33333333  3.66666667]\n",
      " [-4.33333333  6.66666667 -2.33333333]\n",
      " [ 3.66666667 -2.33333333 -1.33333333]]\n"
     ]
    }
   ],
   "source": [
    "import numpy as np\n",
    "\n",
    "\n",
    "matrix = np.array([[4, 1, 8],\n",
    "                   [9, 20, 11],\n",
    "                   [8, 2, 3]])\n",
    "\n",
    "# Calculate the mean of each ro\n",
    "row_means = np.mean(matrix, axis=1, keepdims=True)\n",
    "\n",
    "# Subtract the row means from the original matrix using broadcasting\n",
    "matrix_minus_mean = matrix - row_means\n",
    "\n",
    "# Print the result\n",
    "print(matrix_minus_mean)"
   ]
  },
  {
   "cell_type": "markdown",
   "id": "59b1ac35",
   "metadata": {},
   "source": [
    "# 11.Consider a given vector. How to add one to each element indexed by a second vector(be careful with repeated indices)? "
   ]
  },
  {
   "cell_type": "code",
   "execution_count": 12,
   "id": "3ea0c4e0",
   "metadata": {},
   "outputs": [
    {
     "name": "stdout",
     "output_type": "stream",
     "text": [
      "[2 2 4 5 5]\n"
     ]
    }
   ],
   "source": [
    "import numpy as np\n",
    "\n",
    "# Your initial vector\n",
    "initial_vector = np.array([1, 2, 3, 4, 5])\n",
    "\n",
    "# Second vector containing indices\n",
    "indices = np.array([0, 2, 3])\n",
    "\n",
    "# Create a new vector to store the results\n",
    "result_vector = initial_vector.copy()\n",
    "\n",
    "# Add one to each element at the specified indices\n",
    "result_vector[indices] += 1\n",
    "\n",
    "print(result_vector)\n"
   ]
  },
  {
   "cell_type": "markdown",
   "id": "c1e9c963",
   "metadata": {},
   "source": [
    "# 12.How to get the diagonal of a dot product ?"
   ]
  },
  {
   "cell_type": "code",
   "execution_count": 13,
   "id": "d2a59a1f",
   "metadata": {},
   "outputs": [
    {
     "name": "stdout",
     "output_type": "stream",
     "text": [
      "[ 66 194  67]\n"
     ]
    }
   ],
   "source": [
    "import numpy as np\n",
    "\n",
    "# Create two matrices A and B\n",
    "A = np.array([[4, 1, 8],\n",
    "             [9, 20, 11],\n",
    "             [8, 2, 3]])\n",
    "\n",
    "B = np.array([[9, 8, 7],\n",
    "              [6, 5, 4],\n",
    "              [3, 2, 1]])\n",
    "\n",
    "# Calculate the dot product of A and B\n",
    "dot_product = np.dot(A, B)\n",
    "\n",
    "# Get the diagonal elements of the dot product\n",
    "diagonal = np.diagonal(dot_product)\n",
    "\n",
    "print(diagonal)\n"
   ]
  },
  {
   "cell_type": "markdown",
   "id": "737bc8ca",
   "metadata": {},
   "source": [
    "# 13.How to Find the Most Frequent Value in an array?"
   ]
  },
  {
   "cell_type": "code",
   "execution_count": 15,
   "id": "49b353ca",
   "metadata": {},
   "outputs": [
    {
     "name": "stdout",
     "output_type": "stream",
     "text": [
      "The most frequent value is 0 with 1 occurrences.\n"
     ]
    }
   ],
   "source": [
    "import numpy as np\n",
    "\n",
    "# Sample array\n",
    "my_array = np.array([0,10,50])\n",
    "\n",
    "# Use the `unique` function to get unique values and their counts\n",
    "unique_values, counts = np.unique(my_array, return_counts=True)\n",
    "\n",
    "# Find the index of the maximum count, which corresponds to the most frequent value\n",
    "most_frequent_index = np.argmax(counts)\n",
    "\n",
    "# Get the most frequent value\n",
    "most_frequent_value = unique_values[most_frequent_index]\n",
    "\n",
    "print(f\"The most frequent value is {most_frequent_value} with {counts[most_frequent_index]} occurrences.\")"
   ]
  },
  {
   "cell_type": "markdown",
   "id": "85de3871",
   "metadata": {},
   "source": [
    "# 14.How to get the n-largest values of an array?"
   ]
  },
  {
   "cell_type": "code",
   "execution_count": 17,
   "id": "725adfa8",
   "metadata": {},
   "outputs": [
    {
     "name": "stdout",
     "output_type": "stream",
     "text": [
      "[10 22]\n"
     ]
    }
   ],
   "source": [
    "import numpy as np\n",
    "\n",
    "# Create an example array\n",
    "arr = np.array([22, 8, 10, 9, 2, 6])\n",
    "\n",
    "# Set the value of 'n' to get the n-largest values\n",
    "n = 2\n",
    "\n",
    "# Use partition to get the n-largest values\n",
    "n_largest = np.partition(arr, -n)[-n:]\n",
    "\n",
    "print(n_largest)\n"
   ]
  },
  {
   "cell_type": "markdown",
   "id": "63b4fdcb",
   "metadata": {},
   "source": [
    "# 15.How to create a record array from a regular array?"
   ]
  },
  {
   "cell_type": "code",
   "execution_count": 19,
   "id": "b201aaf0",
   "metadata": {},
   "outputs": [
    {
     "name": "stdout",
     "output_type": "stream",
     "text": [
      "Record Array:\n",
      "[(11,) (22,) (33,) (44,) (55,)]\n",
      "Accessing 'my_column': [11 22 33 44 55]\n"
     ]
    }
   ],
   "source": [
    "import numpy as np\n",
    "\n",
    "# Create a regular NumPy array\n",
    "regular_array = np.array([11, 22, 33, 44, 55])\n",
    "\n",
    "# Create a record array from the regular array\n",
    "record_array = np.rec.array(regular_array, dtype=[('my_column', int)])\n",
    "\n",
    "# Access data using column names\n",
    "print(\"Record Array:\")\n",
    "print(record_array)\n",
    "print(\"Accessing 'my_column':\", record_array.my_column)"
   ]
  },
  {
   "cell_type": "markdown",
   "id": "07f925c3",
   "metadata": {},
   "source": [
    "# 16.How to swap two rows of an array ?"
   ]
  },
  {
   "cell_type": "code",
   "execution_count": 22,
   "id": "8ca35e4d",
   "metadata": {},
   "outputs": [
    {
     "name": "stdout",
     "output_type": "stream",
     "text": [
      "[[ 8  2  3]\n",
      " [ 9 20 11]\n",
      " [ 4  1  8]]\n"
     ]
    }
   ],
   "source": [
    "import numpy as np\n",
    "\n",
    "# Create a sample 2D NumPy array\n",
    "array = np.array([[4, 1, 8],\n",
    "                 [9, 20, 11],\n",
    "                 [8, 2, 3]])\n",
    "\n",
    "# Swap rows (for example, swapping rows 0 and 2)\n",
    "array[[0, 2]] = array[[2, 0]]\n",
    "\n",
    "# Now, 'array' will have rows 0 and 2 swapped\n",
    "print(array)"
   ]
  },
  {
   "cell_type": "markdown",
   "id": "55bcd339",
   "metadata": {},
   "source": [
    "# 17. Write a python code to reshape to the next dimension of numpy array"
   ]
  },
  {
   "cell_type": "code",
   "execution_count": 21,
   "id": "98f877bf",
   "metadata": {},
   "outputs": [
    {
     "name": "stdout",
     "output_type": "stream",
     "text": [
      "Original Array:\n",
      "[[2 3]\n",
      " [4 5]\n",
      " [6 7]]\n",
      "\n",
      "Reshaped Array:\n",
      "[[2 3 4]\n",
      " [5 6 7]]\n"
     ]
    }
   ],
   "source": [
    "import numpy as np\n",
    "\n",
    "# Create a NumPy array\n",
    "original_array = np.array([[2, 3], [4, 5], [6, 7]])\n",
    "\n",
    "# Reshape the array to the next dimension\n",
    "reshaped_array = original_array.reshape(-1, original_array.shape[0])\n",
    "\n",
    "# Print the original and reshaped arrays\n",
    "print(\"Original Array:\")\n",
    "print(original_array)\n",
    "\n",
    "print(\"\\nReshaped Array:\")\n",
    "print(reshaped_array)"
   ]
  },
  {
   "cell_type": "code",
   "execution_count": 23,
   "id": "f55eba3c",
   "metadata": {},
   "outputs": [],
   "source": [
    "import numpy as np\n",
    "\n",
    "olympic_country = np.array(['GBR', 'China', 'RUS', 'US', 'KOR', 'JPN', 'GER'])\n",
    "olympic_country_gold = np.array([29, 38, 24, 46, 13, 7, 11])\n",
    "olympic_country_silver = np.array([17, 28, 25, 28, 8, 14, 11])\n",
    "olympic_country_bronze = np.array([19, 22, 32, 29, 7, 17, 14])"
   ]
  },
  {
   "cell_type": "code",
   "execution_count": null,
   "id": "832b929c",
   "metadata": {},
   "outputs": [],
   "source": []
  },
  {
   "cell_type": "code",
   "execution_count": null,
   "id": "dc663e73",
   "metadata": {},
   "outputs": [],
   "source": []
  },
  {
   "cell_type": "markdown",
   "id": "5daa25c0",
   "metadata": {},
   "source": [
    "# 1. Find Country index with max gold"
   ]
  },
  {
   "cell_type": "code",
   "execution_count": 24,
   "id": "62d41191",
   "metadata": {},
   "outputs": [
    {
     "name": "stdout",
     "output_type": "stream",
     "text": [
      "The country with the maximum gold medals is US at index 3.\n"
     ]
    }
   ],
   "source": [
    "import numpy as np\n",
    "\n",
    "# Define the data\n",
    "olympic_country = np.array(['GBR', 'Chine', 'RUS', 'US', 'KOR, JPN', 'GER'])\n",
    "olympic_country_gold = np.array([29, 38, 24, 46, 13, 7, 11])\n",
    "\n",
    "# Find the index of the country with the maximum gold medals\n",
    "max_gold_index = np.argmax(olympic_country_gold)\n",
    "\n",
    "# Get the country with the maximum gold medals\n",
    "country_with_max_gold = olympic_country[max_gold_index]\n",
    "\n",
    "print(f\"The country with the maximum gold medals is {country_with_max_gold} at index {max_gold_index}.\")"
   ]
  },
  {
   "cell_type": "markdown",
   "id": "3cae5860",
   "metadata": {},
   "source": [
    "# 2. Country with Max Gold"
   ]
  },
  {
   "cell_type": "code",
   "execution_count": 25,
   "id": "d6a573d2",
   "metadata": {},
   "outputs": [
    {
     "name": "stdout",
     "output_type": "stream",
     "text": [
      "Country with the most gold medals: US\n"
     ]
    }
   ],
   "source": [
    "import numpy as np\n",
    "\n",
    "# Assuming you have the data stored in the following arrays\n",
    "olympic_country = np.array(['GBR', 'China', 'RUS', 'US', 'KOR', 'JPN', 'GER'])\n",
    "olympic_country_gold = np.array([29, 38, 24, 46, 13, 7, 11])\n",
    "\n",
    "# Find the index of the country with the max gold medals\n",
    "max_gold_index = np.argmax(olympic_country_gold)\n",
    "\n",
    "# Get the country with the max gold medals\n",
    "country_with_max_gold = olympic_country[max_gold_index]\n",
    "\n",
    "print(\"Country with the most gold medals:\", country_with_max_gold)"
   ]
  },
  {
   "cell_type": "markdown",
   "id": "75a9eed7",
   "metadata": {},
   "source": [
    "# 3. Find Countries with More than 20 Gold"
   ]
  },
  {
   "cell_type": "code",
   "execution_count": 26,
   "id": "feae09b9",
   "metadata": {},
   "outputs": [
    {
     "name": "stdout",
     "output_type": "stream",
     "text": [
      "Countries with more than 20 gold medals: ['GBR' 'China' 'RUS' 'US']\n"
     ]
    }
   ],
   "source": [
    "import numpy as np\n",
    "\n",
    "# Assuming you have the data stored in the following arrays\n",
    "olympic_country = np.array(['GBR', 'China', 'RUS', 'US', 'KOR', 'JPN', 'GER'])\n",
    "olympic_country_gold = np.array([29, 38, 24, 46, 13, 7, 11])\n",
    "\n",
    "# Create a boolean mask for countries with more than 20 gold medals\n",
    "mask = olympic_country_gold > 20\n",
    "\n",
    "# Use the mask to filter the countries\n",
    "countries_with_more_than_20_gold = olympic_country[mask]\n",
    "\n",
    "print(\"Countries with more than 20 gold medals:\", countries_with_more_than_20_gold)"
   ]
  },
  {
   "cell_type": "markdown",
   "id": "7a75110e",
   "metadata": {},
   "source": [
    "# 4. Evaluate the dataset and print the medal:\n",
    "\n",
    "1. print each country name with number of gold medals\n",
    "\n",
    "2. print each country nale with total number of medals"
   ]
  },
  {
   "cell_type": "code",
   "execution_count": 27,
   "id": "da018326",
   "metadata": {},
   "outputs": [
    {
     "name": "stdout",
     "output_type": "stream",
     "text": [
      "Country: GBR, Gold Medals: 29, Total Medals: 65\n",
      "Country: China, Gold Medals: 38, Total Medals: 88\n",
      "Country: RUS, Gold Medals: 24, Total Medals: 81\n",
      "Country: US, Gold Medals: 46, Total Medals: 103\n",
      "Country: KOR, Gold Medals: 13, Total Medals: 28\n",
      "Country: JPN, Gold Medals: 7, Total Medals: 38\n",
      "Country: GER, Gold Medals: 11, Total Medals: 36\n"
     ]
    }
   ],
   "source": [
    "import numpy as np\n",
    "\n",
    "# Assuming you have the data stored in the following arrays\n",
    "olympic_country = np.array(['GBR', 'China', 'RUS', 'US', 'KOR', 'JPN', 'GER'])\n",
    "olympic_country_gold = np.array([29, 38, 24, 46, 13, 7, 11])\n",
    "olympic_country_silver = np.array([17, 28, 25, 28, 8, 14, 11])\n",
    "olympic_country_bronze = np.array([19, 22, 32, 29, 7, 17, 14])\n",
    "\n",
    "# Calculate and print each country's name with the number of gold medals and total medals\n",
    "for i in range(len(olympic_country)):\n",
    "    country = olympic_country[i]\n",
    "    gold = olympic_country_gold[i]\n",
    "    silver = olympic_country_silver[i]\n",
    "    bronze = olympic_country_bronze[i]\n",
    "    total_medals = gold + silver + bronze\n",
    "    print(f\"Country: {country}, Gold Medals: {gold}, Total Medals: {total_medals}\")"
   ]
  }
 ],
 "metadata": {
  "kernelspec": {
   "display_name": "Python 3 (ipykernel)",
   "language": "python",
   "name": "python3"
  },
  "language_info": {
   "codemirror_mode": {
    "name": "ipython",
    "version": 3
   },
   "file_extension": ".py",
   "mimetype": "text/x-python",
   "name": "python",
   "nbconvert_exporter": "python",
   "pygments_lexer": "ipython3",
   "version": "3.11.4"
  }
 },
 "nbformat": 4,
 "nbformat_minor": 5
}
