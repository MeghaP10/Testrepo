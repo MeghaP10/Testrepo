{
 "cells": [
  {
   "cell_type": "markdown",
   "id": "789309ed",
   "metadata": {},
   "source": [
    "# Customer Segmentation with K-Nearest Neighbors (KNN)"
   ]
  },
  {
   "cell_type": "code",
   "execution_count": 1,
   "id": "4068f459",
   "metadata": {},
   "outputs": [],
   "source": [
    "import pandas as pd\n",
    "import numpy as np\n",
    "import matplotlib.pyplot as plt\n",
    "import seaborn as sns"
   ]
  },
  {
   "cell_type": "code",
   "execution_count": 7,
   "id": "904a4db9",
   "metadata": {},
   "outputs": [
    {
     "data": {
      "text/html": [
       "<div>\n",
       "<style scoped>\n",
       "    .dataframe tbody tr th:only-of-type {\n",
       "        vertical-align: middle;\n",
       "    }\n",
       "\n",
       "    .dataframe tbody tr th {\n",
       "        vertical-align: top;\n",
       "    }\n",
       "\n",
       "    .dataframe thead th {\n",
       "        text-align: right;\n",
       "    }\n",
       "</style>\n",
       "<table border=\"1\" class=\"dataframe\">\n",
       "  <thead>\n",
       "    <tr style=\"text-align: right;\">\n",
       "      <th></th>\n",
       "      <th>Customer ID</th>\n",
       "      <th>Gender</th>\n",
       "      <th>Work Experience</th>\n",
       "      <th>Annual Income($)</th>\n",
       "      <th>Spending</th>\n",
       "    </tr>\n",
       "  </thead>\n",
       "  <tbody>\n",
       "    <tr>\n",
       "      <th>0</th>\n",
       "      <td>458989</td>\n",
       "      <td>Female</td>\n",
       "      <td>0</td>\n",
       "      <td>20</td>\n",
       "      <td>0</td>\n",
       "    </tr>\n",
       "    <tr>\n",
       "      <th>1</th>\n",
       "      <td>458994</td>\n",
       "      <td>Male</td>\n",
       "      <td>8</td>\n",
       "      <td>20</td>\n",
       "      <td>1</td>\n",
       "    </tr>\n",
       "    <tr>\n",
       "      <th>2</th>\n",
       "      <td>458996</td>\n",
       "      <td>Female</td>\n",
       "      <td>0</td>\n",
       "      <td>20</td>\n",
       "      <td>0</td>\n",
       "    </tr>\n",
       "    <tr>\n",
       "      <th>3</th>\n",
       "      <td>459000</td>\n",
       "      <td>Male</td>\n",
       "      <td>11</td>\n",
       "      <td>20</td>\n",
       "      <td>2</td>\n",
       "    </tr>\n",
       "    <tr>\n",
       "      <th>4</th>\n",
       "      <td>459001</td>\n",
       "      <td>Female</td>\n",
       "      <td>12</td>\n",
       "      <td>21</td>\n",
       "      <td>0</td>\n",
       "    </tr>\n",
       "  </tbody>\n",
       "</table>\n",
       "</div>"
      ],
      "text/plain": [
       "   Customer ID  Gender  Work Experience  Annual Income($)  Spending  \n",
       "0       458989  Female                0                20           0\n",
       "1       458994    Male                8                20           1\n",
       "2       458996  Female                0                20           0\n",
       "3       459000    Male               11                20           2\n",
       "4       459001  Female               12                21           0"
      ]
     },
     "execution_count": 7,
     "metadata": {},
     "output_type": "execute_result"
    }
   ],
   "source": [
    "#Load the dataset\n",
    "data=pd.read_csv('customer_segment.csv')\n",
    "data.head()"
   ]
  },
  {
   "cell_type": "code",
   "execution_count": null,
   "id": "4f64d3c0",
   "metadata": {},
   "outputs": [],
   "source": [
    "data=pd.read_csv('customer_segment.csv')\n",
    "data.head()  "
   ]
  },
  {
   "cell_type": "code",
   "execution_count": 8,
   "id": "aa63581e",
   "metadata": {},
   "outputs": [
    {
     "data": {
      "text/html": [
       "<div>\n",
       "<style scoped>\n",
       "    .dataframe tbody tr th:only-of-type {\n",
       "        vertical-align: middle;\n",
       "    }\n",
       "\n",
       "    .dataframe tbody tr th {\n",
       "        vertical-align: top;\n",
       "    }\n",
       "\n",
       "    .dataframe thead th {\n",
       "        text-align: right;\n",
       "    }\n",
       "</style>\n",
       "<table border=\"1\" class=\"dataframe\">\n",
       "  <thead>\n",
       "    <tr style=\"text-align: right;\">\n",
       "      <th></th>\n",
       "      <th>Customer ID</th>\n",
       "      <th>Gender</th>\n",
       "      <th>Work Experience</th>\n",
       "      <th>Annual Income($)</th>\n",
       "      <th>Spending</th>\n",
       "    </tr>\n",
       "  </thead>\n",
       "  <tbody>\n",
       "    <tr>\n",
       "      <th>0</th>\n",
       "      <td>458989</td>\n",
       "      <td>0</td>\n",
       "      <td>0</td>\n",
       "      <td>20</td>\n",
       "      <td>0</td>\n",
       "    </tr>\n",
       "    <tr>\n",
       "      <th>1</th>\n",
       "      <td>458994</td>\n",
       "      <td>1</td>\n",
       "      <td>8</td>\n",
       "      <td>20</td>\n",
       "      <td>1</td>\n",
       "    </tr>\n",
       "    <tr>\n",
       "      <th>2</th>\n",
       "      <td>458996</td>\n",
       "      <td>0</td>\n",
       "      <td>0</td>\n",
       "      <td>20</td>\n",
       "      <td>0</td>\n",
       "    </tr>\n",
       "    <tr>\n",
       "      <th>3</th>\n",
       "      <td>459000</td>\n",
       "      <td>1</td>\n",
       "      <td>11</td>\n",
       "      <td>20</td>\n",
       "      <td>2</td>\n",
       "    </tr>\n",
       "    <tr>\n",
       "      <th>4</th>\n",
       "      <td>459001</td>\n",
       "      <td>0</td>\n",
       "      <td>12</td>\n",
       "      <td>21</td>\n",
       "      <td>0</td>\n",
       "    </tr>\n",
       "  </tbody>\n",
       "</table>\n",
       "</div>"
      ],
      "text/plain": [
       "   Customer ID  Gender  Work Experience  Annual Income($)  Spending  \n",
       "0       458989       0                0                20           0\n",
       "1       458994       1                8                20           1\n",
       "2       458996       0                0                20           0\n",
       "3       459000       1               11                20           2\n",
       "4       459001       0               12                21           0"
      ]
     },
     "execution_count": 8,
     "metadata": {},
     "output_type": "execute_result"
    }
   ],
   "source": [
    "from sklearn.preprocessing import LabelEncoder\n",
    "le=LabelEncoder()\n",
    "data['Gender']=le.fit_transform(data['Gender'])\n",
    "data.head()"
   ]
  },
  {
   "cell_type": "code",
   "execution_count": 10,
   "id": "6b872e3b",
   "metadata": {},
   "outputs": [
    {
     "data": {
      "text/html": [
       "<div>\n",
       "<style scoped>\n",
       "    .dataframe tbody tr th:only-of-type {\n",
       "        vertical-align: middle;\n",
       "    }\n",
       "\n",
       "    .dataframe tbody tr th {\n",
       "        vertical-align: top;\n",
       "    }\n",
       "\n",
       "    .dataframe thead th {\n",
       "        text-align: right;\n",
       "    }\n",
       "</style>\n",
       "<table border=\"1\" class=\"dataframe\">\n",
       "  <thead>\n",
       "    <tr style=\"text-align: right;\">\n",
       "      <th></th>\n",
       "      <th>Customer ID</th>\n",
       "      <th>Gender</th>\n",
       "      <th>Work Experience</th>\n",
       "      <th>Annual Income($)</th>\n",
       "    </tr>\n",
       "  </thead>\n",
       "  <tbody>\n",
       "    <tr>\n",
       "      <th>0</th>\n",
       "      <td>458989</td>\n",
       "      <td>0</td>\n",
       "      <td>0</td>\n",
       "      <td>20</td>\n",
       "    </tr>\n",
       "    <tr>\n",
       "      <th>1</th>\n",
       "      <td>458994</td>\n",
       "      <td>1</td>\n",
       "      <td>8</td>\n",
       "      <td>20</td>\n",
       "    </tr>\n",
       "    <tr>\n",
       "      <th>2</th>\n",
       "      <td>458996</td>\n",
       "      <td>0</td>\n",
       "      <td>0</td>\n",
       "      <td>20</td>\n",
       "    </tr>\n",
       "  </tbody>\n",
       "</table>\n",
       "</div>"
      ],
      "text/plain": [
       "   Customer ID  Gender  Work Experience  Annual Income($)\n",
       "0       458989       0                0                20\n",
       "1       458994       1                8                20\n",
       "2       458996       0                0                20"
      ]
     },
     "execution_count": 10,
     "metadata": {},
     "output_type": "execute_result"
    }
   ],
   "source": [
    "x=data.iloc[:,:-1]\n",
    "x.head(3)"
   ]
  },
  {
   "cell_type": "code",
   "execution_count": 11,
   "id": "60590c4b",
   "metadata": {},
   "outputs": [
    {
     "data": {
      "text/html": [
       "<div>\n",
       "<style scoped>\n",
       "    .dataframe tbody tr th:only-of-type {\n",
       "        vertical-align: middle;\n",
       "    }\n",
       "\n",
       "    .dataframe tbody tr th {\n",
       "        vertical-align: top;\n",
       "    }\n",
       "\n",
       "    .dataframe thead th {\n",
       "        text-align: right;\n",
       "    }\n",
       "</style>\n",
       "<table border=\"1\" class=\"dataframe\">\n",
       "  <thead>\n",
       "    <tr style=\"text-align: right;\">\n",
       "      <th></th>\n",
       "      <th>Spending</th>\n",
       "    </tr>\n",
       "  </thead>\n",
       "  <tbody>\n",
       "    <tr>\n",
       "      <th>0</th>\n",
       "      <td>0</td>\n",
       "    </tr>\n",
       "    <tr>\n",
       "      <th>1</th>\n",
       "      <td>1</td>\n",
       "    </tr>\n",
       "    <tr>\n",
       "      <th>2</th>\n",
       "      <td>0</td>\n",
       "    </tr>\n",
       "  </tbody>\n",
       "</table>\n",
       "</div>"
      ],
      "text/plain": [
       "   Spending  \n",
       "0           0\n",
       "1           1\n",
       "2           0"
      ]
     },
     "execution_count": 11,
     "metadata": {},
     "output_type": "execute_result"
    }
   ],
   "source": [
    "y=data.iloc[:,-1:]\n",
    "y.head(3)\n"
   ]
  },
  {
   "cell_type": "code",
   "execution_count": 12,
   "id": "35d3cace",
   "metadata": {},
   "outputs": [
    {
     "data": {
      "text/plain": [
       "Customer ID         0\n",
       "Gender              0\n",
       "Work Experience     0\n",
       "Annual Income($)    0\n",
       "Spending            0\n",
       "dtype: int64"
      ]
     },
     "execution_count": 12,
     "metadata": {},
     "output_type": "execute_result"
    }
   ],
   "source": [
    "data.isna().sum()"
   ]
  },
  {
   "cell_type": "code",
   "execution_count": 13,
   "id": "023e6212",
   "metadata": {},
   "outputs": [],
   "source": [
    "from sklearn.preprocessing import StandardScaler\n",
    "sc=StandardScaler()\n",
    "sc_x=sc.fit_transform(x)"
   ]
  },
  {
   "cell_type": "code",
   "execution_count": 14,
   "id": "9ae0343e",
   "metadata": {},
   "outputs": [
    {
     "data": {
      "text/plain": [
       "(220, 4)"
      ]
     },
     "execution_count": 14,
     "metadata": {},
     "output_type": "execute_result"
    }
   ],
   "source": [
    "sc_x.shape"
   ]
  },
  {
   "cell_type": "code",
   "execution_count": 28,
   "id": "a49d32b1",
   "metadata": {},
   "outputs": [
    {
     "data": {
      "text/plain": [
       "array([[<Axes: title={'center': 'Customer ID'}>,\n",
       "        <Axes: title={'center': 'Gender'}>],\n",
       "       [<Axes: title={'center': 'Work Experience'}>,\n",
       "        <Axes: title={'center': 'Annual Income($)'}>],\n",
       "       [<Axes: title={'center': 'Spending  '}>, <Axes: >]], dtype=object)"
      ]
     },
     "execution_count": 28,
     "metadata": {},
     "output_type": "execute_result"
    },
    {
     "data": {
      "image/png": "[encoded data removed]",
      "text/plain": [
       "<Figure size 800x600 with 6 Axes>"
      ]
     },
     "metadata": {},
     "output_type": "display_data"
    }
   ],
   "source": [
    "data.hist(figsize=(8,6))"
   ]
  },
  {
   "cell_type": "code",
   "execution_count": 21,
   "id": "6f82c743",
   "metadata": {},
   "outputs": [],
   "source": [
    "from sklearn.neighbors import KNeighborsClassifier\n",
    "from sklearn.model_selection import train_test_split\n",
    "from sklearn.metrics import accuracy_score\n",
    "from sklearn.metrics import confusion_matrix\n",
    "from sklearn.metrics import classification_report"
   ]
  },
  {
   "cell_type": "code",
   "execution_count": 22,
   "id": "3cae36de",
   "metadata": {},
   "outputs": [
    {
     "name": "stdout",
     "output_type": "stream",
     "text": [
      "Training Data Shape\n",
      "\n",
      "Training data-X- shape:\t (176, 4)\n",
      "\n",
      "Training data-Y- shape:\t (176, 1)\n",
      "Testing Data Shape\n",
      "\n",
      "Testing data(X-Input) shape:\t (44, 4)\n",
      "\n",
      "Testing data(Y-Input) shape:\t (44, 1)\n"
     ]
    }
   ],
   "source": [
    "xtrain,xtest,ytrain,ytest=train_test_split(sc_x,y,test_size=0.2,random_state=42)\n",
    "print('Training Data Shape')\n",
    "print()\n",
    "print('Training data-X- shape:\\t',xtrain.shape)\n",
    "print()\n",
    "print('Training data-Y- shape:\\t',ytrain.shape)\n",
    "print('Testing Data Shape')\n",
    "print()\n",
    "print('Testing data(X-Input) shape:\\t',xtest.shape)\n",
    "print()\n",
    "print('Testing data(Y-Input) shape:\\t',ytest.shape)"
   ]
  },
  {
   "cell_type": "code",
   "execution_count": 24,
   "id": "9b7f6474",
   "metadata": {},
   "outputs": [
    {
     "name": "stdout",
     "output_type": "stream",
     "text": [
      "***KNN Classifier Model********\n",
      "Training Phase\n",
      "\n",
      "Training is completed\n",
      "====================================================================================================\n",
      "\n",
      "Testing Phase\n",
      "\n",
      "Predicted Class Labels are: \n",
      " [0 1 1 0 0 0 0 1 1 0 0 1 0 0 0 0 1 1 0 1 0 1 1 0 0 0 0 1 0 0 0 0 0 0 1 0 1\n",
      " 0 2 0 1 0 1 0]\n",
      "Test is also done\n",
      "\n",
      "====================================================================================================\n"
     ]
    },
    {
     "name": "stderr",
     "output_type": "stream",
     "text": [
      "C:\\Users\\MEGHA\\anaconda3\\Lib\\site-packages\\sklearn\\neighbors\\_classification.py:228: DataConversionWarning: A column-vector y was passed when a 1d array was expected. Please change the shape of y to (n_samples,), for example using ravel().\n",
      "  return self._fit(X, y)\n"
     ]
    }
   ],
   "source": [
    "knn_model=KNeighborsClassifier(n_neighbors=3)\n",
    "print('***KNN Classifier Model********')\n",
    "print('Training Phase\\n')\n",
    "knn_model. fit (xtrain, ytrain)\n",
    "print('Training is completed')\n",
    "print('='*100)\n",
    "print()\n",
    "print('Testing Phase\\n')\n",
    "ypred=knn_model.predict(xtest)\n",
    "print('Predicted Class Labels are: \\n',ypred)\n",
    "print('Test is also done')\n",
    "print()\n",
    "print('='*100)"
   ]
  },
  {
   "cell_type": "code",
   "execution_count": 25,
   "id": "49039bce",
   "metadata": {},
   "outputs": [
    {
     "name": "stdout",
     "output_type": "stream",
     "text": [
      "Accuracy Score:\t 0.3181818181818182\n",
      "\n",
      "Confusion Matrix:\n",
      " [[ 9  7  1]\n",
      " [13  5  0]\n",
      " [ 6  3  0]]\n",
      "\n",
      "Classification report :\n",
      "               precision    recall  f1-score   support\n",
      "\n",
      "           0       0.32      0.53      0.40        17\n",
      "           1       0.33      0.28      0.30        18\n",
      "           2       0.00      0.00      0.00         9\n",
      "\n",
      "    accuracy                           0.32        44\n",
      "   macro avg       0.22      0.27      0.23        44\n",
      "weighted avg       0.26      0.32      0.28        44\n",
      "\n"
     ]
    }
   ],
   "source": [
    "print('Accuracy Score:\\t',accuracy_score(ytest,ypred))\n",
    "print()\n",
    "print('Confusion Matrix:\\n',confusion_matrix(ytest,ypred))\n",
    "print()\n",
    "print('Classification report :\\n',classification_report(ytest,ypred))"
   ]
  },
  {
   "cell_type": "code",
   "execution_count": 26,
   "id": "1b0fe4cb",
   "metadata": {},
   "outputs": [
    {
     "name": "stdout",
     "output_type": "stream",
     "text": [
      "Predicted Class Labels for K-value 3: [0 1 1 0 0 0 0 1 1 0 0 1 0 0 0 0 1 1 0 1 0 1 1 0 0 0 0 1 0 0 0 0 0 0 1 0 1\n",
      " 0 2 0 1 0 1 0]\n",
      "\n",
      "Predicted Class Labels for K-value 5: [0 1 1 0 0 0 0 1 1 0 0 1 0 0 0 0 1 1 0 1 0 1 1 0 0 0 0 1 0 0 0 0 0 0 1 0 1\n",
      " 0 2 0 1 0 1 0]\n",
      "\n",
      "Predicted Class Labels for K-value 7: [0 1 1 0 0 0 0 1 1 0 0 1 0 0 0 0 1 1 0 1 0 1 1 0 0 0 0 1 0 0 0 0 0 0 1 0 1\n",
      " 0 2 0 1 0 1 0]\n",
      "\n",
      "Predicted Class Labels for K-value 9: [0 1 1 0 0 0 0 1 1 0 0 1 0 0 0 0 1 1 0 1 0 1 1 0 0 0 0 1 0 0 0 0 0 0 1 0 1\n",
      " 0 2 0 1 0 1 0]\n",
      "\n",
      "K=3: Accuracy = 0.3181818181818182\n",
      "K=5: Accuracy = 0.4090909090909091\n",
      "K=7: Accuracy = 0.36363636363636365\n",
      "K=9: Accuracy = 0.45454545454545453\n"
     ]
    },
    {
     "name": "stderr",
     "output_type": "stream",
     "text": [
      "C:\\Users\\MEGHA\\anaconda3\\Lib\\site-packages\\sklearn\\neighbors\\_classification.py:228: DataConversionWarning: A column-vector y was passed when a 1d array was expected. Please change the shape of y to (n_samples,), for example using ravel().\n",
      "  return self._fit(X, y)\n",
      "C:\\Users\\MEGHA\\anaconda3\\Lib\\site-packages\\sklearn\\neighbors\\_classification.py:228: DataConversionWarning: A column-vector y was passed when a 1d array was expected. Please change the shape of y to (n_samples,), for example using ravel().\n",
      "  return self._fit(X, y)\n",
      "C:\\Users\\MEGHA\\anaconda3\\Lib\\site-packages\\sklearn\\neighbors\\_classification.py:228: DataConversionWarning: A column-vector y was passed when a 1d array was expected. Please change the shape of y to (n_samples,), for example using ravel().\n",
      "  return self._fit(X, y)\n",
      "C:\\Users\\MEGHA\\anaconda3\\Lib\\site-packages\\sklearn\\neighbors\\_classification.py:228: DataConversionWarning: A column-vector y was passed when a 1d array was expected. Please change the shape of y to (n_samples,), for example using ravel().\n",
      "  return self._fit(X, y)\n"
     ]
    }
   ],
   "source": [
    "from sklearn.model_selection import train_test_split\n",
    "from sklearn.neighbors import KNeighborsClassifier\n",
    "from sklearn.metrics import accuracy_score\n",
    "\n",
    "k_values = [3, 5, 7, 9]\n",
    "results = {}\n",
    "\n",
    "for k in k_values:\n",
    "    knn_model = KNeighborsClassifier(n_neighbors=k)\n",
    "    knn_model.fit(xtrain, ytrain)\n",
    "    y_pred = knn_model.predict(xtest)\n",
    "    print(f\"Predicted Class Labels for K-value {k}: {ypred}\")\n",
    "    print()\n",
    "    accuracy = accuracy_score(ytest, y_pred)\n",
    "    results[k] = accuracy\n",
    "\n",
    "for k, accuracy in results.items():\n",
    "    print(f\"K={k}: Accuracy = {accuracy}\")"
   ]
  },
  {
   "cell_type": "markdown",
   "id": "5aafacdb",
   "metadata": {},
   "source": [
    "# Medical Diagnosis with Naive Bayes"
   ]
  },
  {
   "cell_type": "code",
   "execution_count": 29,
   "id": "35d434e8",
   "metadata": {},
   "outputs": [],
   "source": [
    "import numpy as np \n",
    "import pandas as pd\n",
    "import matplotlib.pyplot as plt\n",
    "import seaborn as sns"
   ]
  },
  {
   "cell_type": "code",
   "execution_count": 30,
   "id": "da4def3f",
   "metadata": {},
   "outputs": [
    {
     "data": {
      "text/html": [
       "<div>\n",
       "<style scoped>\n",
       "    .dataframe tbody tr th:only-of-type {\n",
       "        vertical-align: middle;\n",
       "    }\n",
       "\n",
       "    .dataframe tbody tr th {\n",
       "        vertical-align: top;\n",
       "    }\n",
       "\n",
       "    .dataframe thead th {\n",
       "        text-align: right;\n",
       "    }\n",
       "</style>\n",
       "<table border=\"1\" class=\"dataframe\">\n",
       "  <thead>\n",
       "    <tr style=\"text-align: right;\">\n",
       "      <th></th>\n",
       "      <th>Tiredness</th>\n",
       "      <th>Dry-Cough</th>\n",
       "      <th>Difficulty-in-Breathing</th>\n",
       "      <th>Sore-Throat</th>\n",
       "      <th>None_Sympton</th>\n",
       "      <th>Pains</th>\n",
       "      <th>Nasal-Congestion</th>\n",
       "      <th>Runny-Nose</th>\n",
       "      <th>None_Experiencing</th>\n",
       "      <th>Age_0-9</th>\n",
       "      <th>Age_10-19</th>\n",
       "      <th>Age_20-24</th>\n",
       "      <th>Age_25-59</th>\n",
       "      <th>Age_60+</th>\n",
       "      <th>Gender_Female</th>\n",
       "      <th>Gender_Male</th>\n",
       "      <th>Severity_Mild</th>\n",
       "      <th>Severity_Moderate</th>\n",
       "      <th>Severity_None</th>\n",
       "    </tr>\n",
       "  </thead>\n",
       "  <tbody>\n",
       "    <tr>\n",
       "      <th>0</th>\n",
       "      <td>1</td>\n",
       "      <td>1</td>\n",
       "      <td>1</td>\n",
       "      <td>1</td>\n",
       "      <td>0</td>\n",
       "      <td>1</td>\n",
       "      <td>1</td>\n",
       "      <td>1</td>\n",
       "      <td>0</td>\n",
       "      <td>1</td>\n",
       "      <td>0</td>\n",
       "      <td>0</td>\n",
       "      <td>0</td>\n",
       "      <td>0</td>\n",
       "      <td>0</td>\n",
       "      <td>1</td>\n",
       "      <td>1</td>\n",
       "      <td>0</td>\n",
       "      <td>0</td>\n",
       "    </tr>\n",
       "    <tr>\n",
       "      <th>1</th>\n",
       "      <td>1</td>\n",
       "      <td>1</td>\n",
       "      <td>1</td>\n",
       "      <td>1</td>\n",
       "      <td>0</td>\n",
       "      <td>1</td>\n",
       "      <td>1</td>\n",
       "      <td>1</td>\n",
       "      <td>0</td>\n",
       "      <td>1</td>\n",
       "      <td>0</td>\n",
       "      <td>0</td>\n",
       "      <td>0</td>\n",
       "      <td>0</td>\n",
       "      <td>0</td>\n",
       "      <td>1</td>\n",
       "      <td>1</td>\n",
       "      <td>0</td>\n",
       "      <td>0</td>\n",
       "    </tr>\n",
       "    <tr>\n",
       "      <th>2</th>\n",
       "      <td>1</td>\n",
       "      <td>1</td>\n",
       "      <td>1</td>\n",
       "      <td>1</td>\n",
       "      <td>0</td>\n",
       "      <td>1</td>\n",
       "      <td>1</td>\n",
       "      <td>1</td>\n",
       "      <td>0</td>\n",
       "      <td>1</td>\n",
       "      <td>0</td>\n",
       "      <td>0</td>\n",
       "      <td>0</td>\n",
       "      <td>0</td>\n",
       "      <td>0</td>\n",
       "      <td>1</td>\n",
       "      <td>1</td>\n",
       "      <td>0</td>\n",
       "      <td>0</td>\n",
       "    </tr>\n",
       "    <tr>\n",
       "      <th>3</th>\n",
       "      <td>1</td>\n",
       "      <td>1</td>\n",
       "      <td>1</td>\n",
       "      <td>1</td>\n",
       "      <td>0</td>\n",
       "      <td>1</td>\n",
       "      <td>1</td>\n",
       "      <td>1</td>\n",
       "      <td>0</td>\n",
       "      <td>1</td>\n",
       "      <td>0</td>\n",
       "      <td>0</td>\n",
       "      <td>0</td>\n",
       "      <td>0</td>\n",
       "      <td>0</td>\n",
       "      <td>1</td>\n",
       "      <td>0</td>\n",
       "      <td>1</td>\n",
       "      <td>0</td>\n",
       "    </tr>\n",
       "    <tr>\n",
       "      <th>4</th>\n",
       "      <td>1</td>\n",
       "      <td>1</td>\n",
       "      <td>1</td>\n",
       "      <td>1</td>\n",
       "      <td>0</td>\n",
       "      <td>1</td>\n",
       "      <td>1</td>\n",
       "      <td>1</td>\n",
       "      <td>0</td>\n",
       "      <td>1</td>\n",
       "      <td>0</td>\n",
       "      <td>0</td>\n",
       "      <td>0</td>\n",
       "      <td>0</td>\n",
       "      <td>0</td>\n",
       "      <td>1</td>\n",
       "      <td>0</td>\n",
       "      <td>1</td>\n",
       "      <td>0</td>\n",
       "    </tr>\n",
       "  </tbody>\n",
       "</table>\n",
       "</div>"
      ],
      "text/plain": [
       "   Tiredness  Dry-Cough  Difficulty-in-Breathing  Sore-Throat  None_Sympton  \\\n",
       "0          1          1                        1            1             0   \n",
       "1          1          1                        1            1             0   \n",
       "2          1          1                        1            1             0   \n",
       "3          1          1                        1            1             0   \n",
       "4          1          1                        1            1             0   \n",
       "\n",
       "   Pains  Nasal-Congestion  Runny-Nose  None_Experiencing  Age_0-9  Age_10-19  \\\n",
       "0      1                 1           1                  0        1          0   \n",
       "1      1                 1           1                  0        1          0   \n",
       "2      1                 1           1                  0        1          0   \n",
       "3      1                 1           1                  0        1          0   \n",
       "4      1                 1           1                  0        1          0   \n",
       "\n",
       "   Age_20-24  Age_25-59  Age_60+  Gender_Female  Gender_Male  Severity_Mild  \\\n",
       "0          0          0        0              0            1              1   \n",
       "1          0          0        0              0            1              1   \n",
       "2          0          0        0              0            1              1   \n",
       "3          0          0        0              0            1              0   \n",
       "4          0          0        0              0            1              0   \n",
       "\n",
       "   Severity_Moderate  Severity_None  \n",
       "0                  0              0  \n",
       "1                  0              0  \n",
       "2                  0              0  \n",
       "3                  1              0  \n",
       "4                  1              0  "
      ]
     },
     "execution_count": 30,
     "metadata": {},
     "output_type": "execute_result"
    }
   ],
   "source": [
    "#Load the dataset\n",
    "data=pd.read_csv('processed-data.csv')\n",
    "data.head()"
   ]
  },
  {
   "cell_type": "code",
   "execution_count": 32,
   "id": "d7905ee2",
   "metadata": {},
   "outputs": [
    {
     "data": {
      "text/plain": [
       "array([[<Axes: title={'center': 'Tiredness'}>,\n",
       "        <Axes: title={'center': 'Dry-Cough'}>,\n",
       "        <Axes: title={'center': 'Difficulty-in-Breathing'}>,\n",
       "        <Axes: title={'center': 'Sore-Throat'}>],\n",
       "       [<Axes: title={'center': 'None_Sympton'}>,\n",
       "        <Axes: title={'center': 'Pains'}>,\n",
       "        <Axes: title={'center': 'Nasal-Congestion'}>,\n",
       "        <Axes: title={'center': 'Runny-Nose'}>],\n",
       "       [<Axes: title={'center': 'None_Experiencing'}>,\n",
       "        <Axes: title={'center': 'Age_0-9'}>,\n",
       "        <Axes: title={'center': 'Age_10-19'}>,\n",
       "        <Axes: title={'center': 'Age_20-24'}>],\n",
       "       [<Axes: title={'center': 'Age_25-59'}>,\n",
       "        <Axes: title={'center': 'Age_60+'}>,\n",
       "        <Axes: title={'center': 'Gender_Female'}>,\n",
       "        <Axes: title={'center': 'Gender_Male'}>],\n",
       "       [<Axes: title={'center': 'Severity_Mild'}>,\n",
       "        <Axes: title={'center': 'Severity_Moderate'}>,\n",
       "        <Axes: title={'center': 'Severity_None'}>, <Axes: >]],\n",
       "      dtype=object)"
      ]
     },
     "execution_count": 32,
     "metadata": {},
     "output_type": "execute_result"
    },
    {
     "data": {
      "image/png": "[encoded data removed]",
      "text/plain": [
       "<Figure size 900x600 with 20 Axes>"
      ]
     },
     "metadata": {},
     "output_type": "display_data"
    }
   ],
   "source": [
    "data.hist(figsize=(9,6))"
   ]
  },
  {
   "cell_type": "code",
   "execution_count": 33,
   "id": "23c58744",
   "metadata": {},
   "outputs": [
    {
     "data": {
      "text/html": [
       "<div>\n",
       "<style scoped>\n",
       "    .dataframe tbody tr th:only-of-type {\n",
       "        vertical-align: middle;\n",
       "    }\n",
       "\n",
       "    .dataframe tbody tr th {\n",
       "        vertical-align: top;\n",
       "    }\n",
       "\n",
       "    .dataframe thead th {\n",
       "        text-align: right;\n",
       "    }\n",
       "</style>\n",
       "<table border=\"1\" class=\"dataframe\">\n",
       "  <thead>\n",
       "    <tr style=\"text-align: right;\">\n",
       "      <th></th>\n",
       "      <th>Tiredness</th>\n",
       "      <th>Dry-Cough</th>\n",
       "      <th>Difficulty-in-Breathing</th>\n",
       "      <th>Sore-Throat</th>\n",
       "      <th>None_Sympton</th>\n",
       "      <th>Pains</th>\n",
       "      <th>Nasal-Congestion</th>\n",
       "      <th>Runny-Nose</th>\n",
       "      <th>None_Experiencing</th>\n",
       "      <th>Age_0-9</th>\n",
       "      <th>Age_10-19</th>\n",
       "      <th>Age_20-24</th>\n",
       "      <th>Age_25-59</th>\n",
       "      <th>Age_60+</th>\n",
       "      <th>Gender_Female</th>\n",
       "      <th>Gender_Male</th>\n",
       "      <th>Severity_Mild</th>\n",
       "      <th>Severity_Moderate</th>\n",
       "    </tr>\n",
       "  </thead>\n",
       "  <tbody>\n",
       "    <tr>\n",
       "      <th>0</th>\n",
       "      <td>1</td>\n",
       "      <td>1</td>\n",
       "      <td>1</td>\n",
       "      <td>1</td>\n",
       "      <td>0</td>\n",
       "      <td>1</td>\n",
       "      <td>1</td>\n",
       "      <td>1</td>\n",
       "      <td>0</td>\n",
       "      <td>1</td>\n",
       "      <td>0</td>\n",
       "      <td>0</td>\n",
       "      <td>0</td>\n",
       "      <td>0</td>\n",
       "      <td>0</td>\n",
       "      <td>1</td>\n",
       "      <td>1</td>\n",
       "      <td>0</td>\n",
       "    </tr>\n",
       "    <tr>\n",
       "      <th>1</th>\n",
       "      <td>1</td>\n",
       "      <td>1</td>\n",
       "      <td>1</td>\n",
       "      <td>1</td>\n",
       "      <td>0</td>\n",
       "      <td>1</td>\n",
       "      <td>1</td>\n",
       "      <td>1</td>\n",
       "      <td>0</td>\n",
       "      <td>1</td>\n",
       "      <td>0</td>\n",
       "      <td>0</td>\n",
       "      <td>0</td>\n",
       "      <td>0</td>\n",
       "      <td>0</td>\n",
       "      <td>1</td>\n",
       "      <td>1</td>\n",
       "      <td>0</td>\n",
       "    </tr>\n",
       "  </tbody>\n",
       "</table>\n",
       "</div>"
      ],
      "text/plain": [
       "   Tiredness  Dry-Cough  Difficulty-in-Breathing  Sore-Throat  None_Sympton  \\\n",
       "0          1          1                        1            1             0   \n",
       "1          1          1                        1            1             0   \n",
       "\n",
       "   Pains  Nasal-Congestion  Runny-Nose  None_Experiencing  Age_0-9  Age_10-19  \\\n",
       "0      1                 1           1                  0        1          0   \n",
       "1      1                 1           1                  0        1          0   \n",
       "\n",
       "   Age_20-24  Age_25-59  Age_60+  Gender_Female  Gender_Male  Severity_Mild  \\\n",
       "0          0          0        0              0            1              1   \n",
       "1          0          0        0              0            1              1   \n",
       "\n",
       "   Severity_Moderate  \n",
       "0                  0  \n",
       "1                  0  "
      ]
     },
     "execution_count": 33,
     "metadata": {},
     "output_type": "execute_result"
    }
   ],
   "source": [
    "x=data.iloc[:,:-1]\n",
    "x.head(2)"
   ]
  },
  {
   "cell_type": "code",
   "execution_count": 34,
   "id": "48361dcc",
   "metadata": {},
   "outputs": [
    {
     "data": {
      "text/html": [
       "<div>\n",
       "<style scoped>\n",
       "    .dataframe tbody tr th:only-of-type {\n",
       "        vertical-align: middle;\n",
       "    }\n",
       "\n",
       "    .dataframe tbody tr th {\n",
       "        vertical-align: top;\n",
       "    }\n",
       "\n",
       "    .dataframe thead th {\n",
       "        text-align: right;\n",
       "    }\n",
       "</style>\n",
       "<table border=\"1\" class=\"dataframe\">\n",
       "  <thead>\n",
       "    <tr style=\"text-align: right;\">\n",
       "      <th></th>\n",
       "      <th>Severity_None</th>\n",
       "    </tr>\n",
       "  </thead>\n",
       "  <tbody>\n",
       "    <tr>\n",
       "      <th>0</th>\n",
       "      <td>0</td>\n",
       "    </tr>\n",
       "    <tr>\n",
       "      <th>1</th>\n",
       "      <td>0</td>\n",
       "    </tr>\n",
       "  </tbody>\n",
       "</table>\n",
       "</div>"
      ],
      "text/plain": [
       "   Severity_None\n",
       "0              0\n",
       "1              0"
      ]
     },
     "execution_count": 34,
     "metadata": {},
     "output_type": "execute_result"
    }
   ],
   "source": [
    "y=data.iloc[:,-1:]\n",
    "y.head(2)"
   ]
  },
  {
   "cell_type": "code",
   "execution_count": 35,
   "id": "f0a3897f",
   "metadata": {},
   "outputs": [],
   "source": [
    "from sklearn.model_selection import train_test_split \n",
    "xtrain, xtest,ytrain,ytest=train_test_split(x,y,test_size=.2,random_state=2)"
   ]
  },
  {
   "cell_type": "code",
   "execution_count": 36,
   "id": "1c552403",
   "metadata": {},
   "outputs": [
    {
     "data": {
      "text/plain": [
       "(253440, 18)"
      ]
     },
     "execution_count": 36,
     "metadata": {},
     "output_type": "execute_result"
    }
   ],
   "source": [
    "xtrain. shape"
   ]
  },
  {
   "cell_type": "code",
   "execution_count": 37,
   "id": "b6ccd348",
   "metadata": {},
   "outputs": [
    {
     "data": {
      "text/plain": [
       "(253440, 1)"
      ]
     },
     "execution_count": 37,
     "metadata": {},
     "output_type": "execute_result"
    }
   ],
   "source": [
    "ytrain. shape"
   ]
  },
  {
   "cell_type": "code",
   "execution_count": 38,
   "id": "67173c72",
   "metadata": {},
   "outputs": [
    {
     "name": "stderr",
     "output_type": "stream",
     "text": [
      "C:\\Users\\MEGHA\\anaconda3\\Lib\\site-packages\\sklearn\\utils\\validation.py:1184: DataConversionWarning: A column-vector y was passed when a 1d array was expected. Please change the shape of y to (n_samples, ), for example using ravel().\n",
      "  y = column_or_1d(y, warn=True)\n"
     ]
    },
    {
     "name": "stdout",
     "output_type": "stream",
     "text": [
      "Training completed....\n",
      "\n",
      "Testing is done\n",
      "============================================================\n",
      "Accuracy Score:\t\n",
      " 0.7496527777777777\n",
      "\n",
      "============================================================\n",
      "\n",
      "Confusion Matrix:\n",
      " [[31686 15862]\n",
      " [    0 15812]]\n",
      "\n",
      "============================================================\n",
      "\n",
      "Classification Report: \n",
      "               precision    recall  f1-score   support\n",
      "\n",
      "           0       1.00      0.67      0.80     47548\n",
      "           1       0.50      1.00      0.67     15812\n",
      "\n",
      "    accuracy                           0.75     63360\n",
      "   macro avg       0.75      0.83      0.73     63360\n",
      "weighted avg       0.88      0.75      0.77     63360\n",
      "\n",
      "============================================================\n"
     ]
    }
   ],
   "source": [
    "from sklearn.naive_bayes import GaussianNB\n",
    "gauss_nb=GaussianNB()\n",
    "gauss_nb.fit(xtrain, ytrain)\n",
    "\n",
    "print('Training completed....')\n",
    "print()\n",
    "\n",
    "ypred=gauss_nb.predict(xtest)\n",
    "print('Testing is done')\n",
    "\n",
    " \n",
    "from sklearn.metrics import accuracy_score\n",
    "from sklearn.metrics import confusion_matrix\n",
    "from sklearn.metrics import classification_report\n",
    "\n",
    "print('='*60)\n",
    "print('Accuracy Score:\\t\\n',accuracy_score(ytest,ypred))\n",
    "print()\n",
    "print('='*60)\n",
    "print()     \n",
    "print('Confusion Matrix:\\n',confusion_matrix(ytest,ypred))\n",
    "print()\n",
    "print('='*60)\n",
    "print()     \n",
    "print('Classification Report: \\n',classification_report (ytest,ypred))\n",
    "print('='*60)"
   ]
  },
  {
   "cell_type": "code",
   "execution_count": null,
   "id": "55c559f3",
   "metadata": {},
   "outputs": [],
   "source": []
  }
 ],
 "metadata": {
  "kernelspec": {
   "display_name": "Python 3 (ipykernel)",
   "language": "python",
   "name": "python3"
  },
  "language_info": {
   "codemirror_mode": {
    "name": "ipython",
    "version": 3
   },
   "file_extension": ".py",
   "mimetype": "text/x-python",
   "name": "python",
   "nbconvert_exporter": "python",
   "pygments_lexer": "ipython3",
   "version": "3.11.4"
  }
 },
 "nbformat": 4,
 "nbformat_minor": 5
}
