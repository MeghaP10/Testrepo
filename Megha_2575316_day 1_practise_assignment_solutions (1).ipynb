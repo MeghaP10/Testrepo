{
 "cells": [
  {
   "cell_type": "markdown",
   "id": "e9530ccd",
   "metadata": {},
   "source": [
    "# 1. Manipulate using a list.\n",
    "\n",
    "i) To add new elements to the end of the list\n",
    "ii)To reverse elements in the list\n",
    "iii)To display the same list of elements multiple times\n",
    "iv)To concatenate two list.\n",
    "v)To sort the elements in the list in ascending order\n",
    "\n",
    "\n",
    "\n",
    "\n",
    "\n",
    "\n",
    "\n",
    "\n",
    "\n",
    "\n",
    "\n",
    "\n",
    "\n",
    "\n",
    "\n",
    "\n",
    "\n"
   ]
  },
  {
   "cell_type": "code",
   "execution_count": 1,
   "id": "6dc2d1ca",
   "metadata": {},
   "outputs": [],
   "source": [
    "lst=[10,20,'john']"
   ]
  },
  {
   "cell_type": "code",
   "execution_count": 2,
   "id": "1e1e0a3b",
   "metadata": {},
   "outputs": [
    {
     "data": {
      "text/plain": [
       "[10, 20, 'john']"
      ]
     },
     "execution_count": 2,
     "metadata": {},
     "output_type": "execute_result"
    }
   ],
   "source": [
    "\n",
    "lst"
   ]
  },
  {
   "cell_type": "code",
   "execution_count": 3,
   "id": "599c90a3",
   "metadata": {},
   "outputs": [],
   "source": [
    "#i) To add new elements to the end of the list \n",
    "\n",
    "lst.append(30) #append is used to add single element at the end of the list"
   ]
  },
  {
   "cell_type": "code",
   "execution_count": 4,
   "id": "5bfdbdf8",
   "metadata": {},
   "outputs": [
    {
     "data": {
      "text/plain": [
       "[10, 20, 'john', 30]"
      ]
     },
     "execution_count": 4,
     "metadata": {},
     "output_type": "execute_result"
    }
   ],
   "source": [
    "lst"
   ]
  },
  {
   "cell_type": "code",
   "execution_count": 6,
   "id": "17840716",
   "metadata": {},
   "outputs": [
    {
     "data": {
      "text/plain": [
       "[30, 'john', 20, 10]"
      ]
     },
     "execution_count": 6,
     "metadata": {},
     "output_type": "execute_result"
    }
   ],
   "source": [
    "# ii)To reverse elements in the list \n",
    "\n",
    "lst.reverse()\n",
    "lst"
   ]
  },
  {
   "cell_type": "code",
   "execution_count": 7,
   "id": "fbc82738",
   "metadata": {},
   "outputs": [
    {
     "data": {
      "text/plain": [
       "[30,\n",
       " 'john',\n",
       " 20,\n",
       " 10,\n",
       " 30,\n",
       " 'john',\n",
       " 20,\n",
       " 10,\n",
       " 30,\n",
       " 'john',\n",
       " 20,\n",
       " 10,\n",
       " 30,\n",
       " 'john',\n",
       " 20,\n",
       " 10,\n",
       " 30,\n",
       " 'john',\n",
       " 20,\n",
       " 10]"
      ]
     },
     "execution_count": 7,
     "metadata": {},
     "output_type": "execute_result"
    }
   ],
   "source": [
    "# iii)To display the same list of elements multiple times\n",
    "lst*5\n"
   ]
  },
  {
   "cell_type": "code",
   "execution_count": 33,
   "id": "54a7f342",
   "metadata": {},
   "outputs": [
    {
     "data": {
      "text/plain": [
       "[11, 12, 13, 14, 15, 16]"
      ]
     },
     "execution_count": 33,
     "metadata": {},
     "output_type": "execute_result"
    }
   ],
   "source": [
    "# iv)To concatenate two list.\n",
    "lst1=[11,12,13]\n",
    "lst2=[14,15,16]\n",
    "r=lst1+lst2\n",
    "r\n",
    "\n",
    "\n",
    "\n"
   ]
  },
  {
   "cell_type": "code",
   "execution_count": null,
   "id": "bde40e12",
   "metadata": {},
   "outputs": [],
   "source": []
  },
  {
   "cell_type": "code",
   "execution_count": 11,
   "id": "25a8177a",
   "metadata": {},
   "outputs": [],
   "source": [
    "# v)To sort the elements in the list in ascending order\n",
    "lst=[50,100,16,20,11]"
   ]
  },
  {
   "cell_type": "code",
   "execution_count": 12,
   "id": "bb1938cd",
   "metadata": {},
   "outputs": [
    {
     "data": {
      "text/plain": [
       "[50, 100, 16, 20, 11]"
      ]
     },
     "execution_count": 12,
     "metadata": {},
     "output_type": "execute_result"
    }
   ],
   "source": [
    "lst\n"
   ]
  },
  {
   "cell_type": "code",
   "execution_count": 13,
   "id": "e8b73b33",
   "metadata": {},
   "outputs": [],
   "source": [
    "lst.sort()"
   ]
  },
  {
   "cell_type": "code",
   "execution_count": 14,
   "id": "60ba8861",
   "metadata": {},
   "outputs": [
    {
     "data": {
      "text/plain": [
       "[11, 16, 20, 50, 100]"
      ]
     },
     "execution_count": 14,
     "metadata": {},
     "output_type": "execute_result"
    }
   ],
   "source": [
    "lst"
   ]
  },
  {
   "cell_type": "markdown",
   "id": "7f11e848",
   "metadata": {},
   "source": [
    "# 2.Write a Python program to do in the tuples\n",
    "\n",
    "i)Manipulate using tuples\n",
    "ii)To add new elements to the end of the tuples\n",
    "iii)To reverse elements in the tuple\n",
    "iv)To display the elements of the same tuple multiple times\n",
    "v)To concatenate two tuples\n",
    "vi)To sort the elements in the tuple in ascending order\n"
   ]
  },
  {
   "cell_type": "code",
   "execution_count": 15,
   "id": "aaf4e1cb",
   "metadata": {},
   "outputs": [],
   "source": [
    "# i)Manipulate using tuples\n",
    "\n",
    "tup=(11, 12.34,'david')\n",
    "\n"
   ]
  },
  {
   "cell_type": "code",
   "execution_count": 16,
   "id": "651d40b5",
   "metadata": {},
   "outputs": [
    {
     "data": {
      "text/plain": [
       "(11, 12.34, 'david')"
      ]
     },
     "execution_count": 16,
     "metadata": {},
     "output_type": "execute_result"
    }
   ],
   "source": [
    "tup\n"
   ]
  },
  {
   "cell_type": "code",
   "execution_count": 21,
   "id": "5faf41ee",
   "metadata": {},
   "outputs": [],
   "source": [
    "# ii)To add new elements to the end of the tuples \n",
    "\n",
    "#You cant add new elements to a tuple because of their immutable property.\n",
    "\n",
    "\n",
    "\n",
    "\n",
    "\n"
   ]
  },
  {
   "cell_type": "code",
   "execution_count": 22,
   "id": "a77e0883",
   "metadata": {},
   "outputs": [
    {
     "name": "stdout",
     "output_type": "stream",
     "text": [
      "(4, 3, 2, 1)\n"
     ]
    }
   ],
   "source": [
    "# iii)To reverse elements in the tuple\n",
    "\n",
    "tup=(1,2,3,4)\n",
    "reversed_tup=tup[::-1]\n",
    "print(reversed_tup)\n",
    "\n"
   ]
  },
  {
   "cell_type": "code",
   "execution_count": 23,
   "id": "d2051de9",
   "metadata": {},
   "outputs": [],
   "source": [
    "# iv)To display the elements of the same tuple multiple times \n",
    "tup=(20,30)\n",
    "\n"
   ]
  },
  {
   "cell_type": "code",
   "execution_count": 24,
   "id": "0da25944",
   "metadata": {},
   "outputs": [
    {
     "data": {
      "text/plain": [
       "(20, 30)"
      ]
     },
     "execution_count": 24,
     "metadata": {},
     "output_type": "execute_result"
    }
   ],
   "source": [
    "tup\n"
   ]
  },
  {
   "cell_type": "code",
   "execution_count": 25,
   "id": "ab8ff43c",
   "metadata": {},
   "outputs": [
    {
     "data": {
      "text/plain": [
       "(20, 30, 20, 30, 20, 30, 20, 30)"
      ]
     },
     "execution_count": 25,
     "metadata": {},
     "output_type": "execute_result"
    }
   ],
   "source": [
    "tup*4\n",
    "\n"
   ]
  },
  {
   "cell_type": "code",
   "execution_count": 32,
   "id": "bec8734f",
   "metadata": {},
   "outputs": [
    {
     "data": {
      "text/plain": [
       "(1, 2, 3, 7, 8, 9)"
      ]
     },
     "execution_count": 32,
     "metadata": {},
     "output_type": "execute_result"
    }
   ],
   "source": [
    "# v)To concatenate two tuples\n",
    "tup1=(1,2,3)\n",
    "tup2=(7,8,9)\n",
    "r=tup1+tup2\n",
    "r\n",
    "\n",
    "\n",
    "\n",
    "\n",
    "\n"
   ]
  },
  {
   "cell_type": "code",
   "execution_count": 37,
   "id": "eb98788b",
   "metadata": {},
   "outputs": [],
   "source": [
    "# vi)To sort the elements in the tuple in ascending order\n",
    "\n",
    "#You cant sort the elements in the tuple in ascending order because it is immutable.\n",
    "\n"
   ]
  },
  {
   "cell_type": "markdown",
   "id": "061db5f9",
   "metadata": {},
   "source": [
    "# 3.Write a Python program to implement the following list\n",
    "\n",
    "i)Create a list with integers(minimum 10 numbers)\n",
    "ii)How to display the last number in the list\n",
    "iii)Command for displaying the values from the list[0:4]\n",
    "iv)Command for displaying the values from the list[2:]\n",
    "v)Command for displaying the values from the list[:6]\n",
    "\n",
    "\n"
   ]
  },
  {
   "cell_type": "code",
   "execution_count": null,
   "id": "43ef6b77",
   "metadata": {},
   "outputs": [],
   "source": [
    "# i)Create a list with integers(minimum 10 numbers)\n",
    "\n",
    "lst=[2,4,6,8,10,12,14,16,18,20]"
   ]
  },
  {
   "cell_type": "code",
   "execution_count": 40,
   "id": "a62ab71b",
   "metadata": {},
   "outputs": [
    {
     "data": {
      "text/plain": [
       "[2, 4, 6, 8, 10, 12, 14, 16, 18, 20]"
      ]
     },
     "execution_count": 40,
     "metadata": {},
     "output_type": "execute_result"
    }
   ],
   "source": [
    "lst\n"
   ]
  },
  {
   "cell_type": "code",
   "execution_count": 41,
   "id": "7dca929e",
   "metadata": {},
   "outputs": [
    {
     "data": {
      "text/plain": [
       "[20]"
      ]
     },
     "execution_count": 41,
     "metadata": {},
     "output_type": "execute_result"
    }
   ],
   "source": [
    "# ii)How to display the last number in the list\n",
    "lst[9:]\n"
   ]
  },
  {
   "cell_type": "code",
   "execution_count": 42,
   "id": "dd1a7fda",
   "metadata": {},
   "outputs": [
    {
     "data": {
      "text/plain": [
       "[2, 4, 6, 8]"
      ]
     },
     "execution_count": 42,
     "metadata": {},
     "output_type": "execute_result"
    }
   ],
   "source": [
    "# iii)Command for displaying the values from the list[0:4]\n",
    "lst[0:4]\n"
   ]
  },
  {
   "cell_type": "code",
   "execution_count": 43,
   "id": "690ec2c1",
   "metadata": {},
   "outputs": [
    {
     "data": {
      "text/plain": [
       "[6, 8, 10, 12, 14, 16, 18, 20]"
      ]
     },
     "execution_count": 43,
     "metadata": {},
     "output_type": "execute_result"
    }
   ],
   "source": [
    "# iv)Command for displaying the values from the list[2:]\n",
    "\n",
    "lst[2:]\n"
   ]
  },
  {
   "cell_type": "code",
   "execution_count": 44,
   "id": "4dc3e558",
   "metadata": {},
   "outputs": [
    {
     "data": {
      "text/plain": [
       "[2, 4, 6, 8, 10, 12]"
      ]
     },
     "execution_count": 44,
     "metadata": {},
     "output_type": "execute_result"
    }
   ],
   "source": [
    "# v)Command for displaying the values from the list[:6]\n",
    "\n",
    "lst[:6]\n",
    "\n"
   ]
  },
  {
   "cell_type": "markdown",
   "id": "f326cd87",
   "metadata": {},
   "source": [
    "# 4.Write a python program : tuple1 =(10,50,20,40,30)\n",
    "  \n",
    " i)To display the elements 10 and 50 from tuple1\n",
    " ii)To display the length of tuple1\n",
    " iii)To find the minimum element from tuple1\n",
    " iv)To add all elements in the tuple1\n",
    " v)To display the same tuple1 multiple times\n",
    "  \n",
    "    "
   ]
  },
  {
   "cell_type": "code",
   "execution_count": 46,
   "id": "f005ea7f",
   "metadata": {},
   "outputs": [],
   "source": [
    "tuple1=(10,50,20,40,30)\n",
    "\n",
    "\n"
   ]
  },
  {
   "cell_type": "code",
   "execution_count": 47,
   "id": "06250054",
   "metadata": {},
   "outputs": [
    {
     "data": {
      "text/plain": [
       "(10, 50, 20, 40, 30)"
      ]
     },
     "execution_count": 47,
     "metadata": {},
     "output_type": "execute_result"
    }
   ],
   "source": [
    "tuple1\n"
   ]
  },
  {
   "cell_type": "code",
   "execution_count": 53,
   "id": "d78e44b7",
   "metadata": {},
   "outputs": [
    {
     "data": {
      "text/plain": [
       "(10, 50)"
      ]
     },
     "execution_count": 53,
     "metadata": {},
     "output_type": "execute_result"
    }
   ],
   "source": [
    "# i)To display the elements 10 and 50 from tuple1\n",
    "\n",
    "tuple1[0:2]\n",
    "\n",
    "\n"
   ]
  },
  {
   "cell_type": "code",
   "execution_count": 54,
   "id": "322e680d",
   "metadata": {},
   "outputs": [
    {
     "data": {
      "text/plain": [
       "5"
      ]
     },
     "execution_count": 54,
     "metadata": {},
     "output_type": "execute_result"
    }
   ],
   "source": [
    "# ii)To display the length of tuple1\n",
    "\n",
    "len(tuple1)"
   ]
  },
  {
   "cell_type": "code",
   "execution_count": 56,
   "id": "db018a04",
   "metadata": {},
   "outputs": [
    {
     "data": {
      "text/plain": [
       "10"
      ]
     },
     "execution_count": 56,
     "metadata": {},
     "output_type": "execute_result"
    }
   ],
   "source": [
    "# iii)To find the minimum element from tuple1\n",
    "\n",
    "min(tuple1)\n",
    "\n",
    "\n"
   ]
  },
  {
   "cell_type": "code",
   "execution_count": 58,
   "id": "06a2f12d",
   "metadata": {},
   "outputs": [
    {
     "data": {
      "text/plain": [
       "150"
      ]
     },
     "execution_count": 58,
     "metadata": {},
     "output_type": "execute_result"
    }
   ],
   "source": [
    "# iv)To add all elements in the tuple1\n",
    "\n",
    "sum(tuple1)\n",
    "\n"
   ]
  },
  {
   "cell_type": "code",
   "execution_count": 60,
   "id": "17144ca4",
   "metadata": {},
   "outputs": [
    {
     "data": {
      "text/plain": [
       "(10,\n",
       " 50,\n",
       " 20,\n",
       " 40,\n",
       " 30,\n",
       " 10,\n",
       " 50,\n",
       " 20,\n",
       " 40,\n",
       " 30,\n",
       " 10,\n",
       " 50,\n",
       " 20,\n",
       " 40,\n",
       " 30,\n",
       " 10,\n",
       " 50,\n",
       " 20,\n",
       " 40,\n",
       " 30)"
      ]
     },
     "execution_count": 60,
     "metadata": {},
     "output_type": "execute_result"
    }
   ],
   "source": [
    "# v)To display the same tuple1 multiple times\n",
    "\n",
    "tuple1*4\n"
   ]
  },
  {
   "cell_type": "markdown",
   "id": "c37da2e4",
   "metadata": {},
   "source": [
    "# 5.Write a Python program\n",
    "\n",
    "i)To calculate the length of a string\n",
    "ii)To reverse words in a string\n",
    "iii)To display the same string multiple times\n",
    "iv)To concatenate two strings\n",
    "v)Str1=\"South India\",using string slicing to display \"India\""
   ]
  },
  {
   "cell_type": "code",
   "execution_count": 61,
   "id": "f3874d34",
   "metadata": {},
   "outputs": [],
   "source": [
    "# i)To calculate the length of a string \n",
    "\n",
    "Str1=\"South India\"\n"
   ]
  },
  {
   "cell_type": "code",
   "execution_count": 62,
   "id": "3f2a6017",
   "metadata": {},
   "outputs": [
    {
     "data": {
      "text/plain": [
       "'South India'"
      ]
     },
     "execution_count": 62,
     "metadata": {},
     "output_type": "execute_result"
    }
   ],
   "source": [
    "Str1\n"
   ]
  },
  {
   "cell_type": "code",
   "execution_count": 63,
   "id": "02b75782",
   "metadata": {},
   "outputs": [
    {
     "data": {
      "text/plain": [
       "11"
      ]
     },
     "execution_count": 63,
     "metadata": {},
     "output_type": "execute_result"
    }
   ],
   "source": [
    "len(Str1)"
   ]
  },
  {
   "cell_type": "code",
   "execution_count": 66,
   "id": "6882c9dc",
   "metadata": {},
   "outputs": [
    {
     "data": {
      "text/plain": [
       "'aidnI htuoS'"
      ]
     },
     "execution_count": 66,
     "metadata": {},
     "output_type": "execute_result"
    }
   ],
   "source": [
    "#  ii)To reverse words in a string\n",
    "\n",
    "Str1[::-1]\n"
   ]
  },
  {
   "cell_type": "code",
   "execution_count": 68,
   "id": "0462badd",
   "metadata": {},
   "outputs": [
    {
     "data": {
      "text/plain": [
       "'South IndiaSouth IndiaSouth India'"
      ]
     },
     "execution_count": 68,
     "metadata": {},
     "output_type": "execute_result"
    }
   ],
   "source": [
    "# iii)To display the same string multiple time\n",
    "\n",
    "Str1 * 3\n",
    "\n"
   ]
  },
  {
   "cell_type": "code",
   "execution_count": 70,
   "id": "8233485a",
   "metadata": {},
   "outputs": [
    {
     "data": {
      "text/plain": [
       "'South IndiaIndia'"
      ]
     },
     "execution_count": 70,
     "metadata": {},
     "output_type": "execute_result"
    }
   ],
   "source": [
    "# iv)To concatenate two strings\n",
    "\n",
    "Str1=\"South India\"\n",
    "Str2=\"India\"\n",
    "r= Str1 + Str2\n",
    "r\n"
   ]
  },
  {
   "cell_type": "code",
   "execution_count": null,
   "id": "28da5d11",
   "metadata": {},
   "outputs": [],
   "source": [
    "# v)Str1=\"South India\",using string slicing to display \"India\""
   ]
  },
  {
   "cell_type": "code",
   "execution_count": 71,
   "id": "f90d714b",
   "metadata": {},
   "outputs": [
    {
     "data": {
      "text/plain": [
       "'India'"
      ]
     },
     "execution_count": 71,
     "metadata": {},
     "output_type": "execute_result"
    }
   ],
   "source": [
    "Str1[6:]\n"
   ]
  },
  {
   "cell_type": "markdown",
   "id": "4f6431d5",
   "metadata": {},
   "source": [
    "# 6.Perform the following\n",
    "i)Creating the Dictionary\n",
    "ii)Accessing values and keys in the Dictionary\n",
    "iii)Updating the dictionary using a function\n",
    "iv)Clear and delete the dictionary values."
   ]
  },
  {
   "cell_type": "code",
   "execution_count": 72,
   "id": "bc633997",
   "metadata": {},
   "outputs": [],
   "source": [
    "# i)Creating the Dictionary\n",
    "\n",
    "student={'f_name':'Aditya','l_name':'Patil','city':'Belgaum'}\n"
   ]
  },
  {
   "cell_type": "code",
   "execution_count": 73,
   "id": "e68655f9",
   "metadata": {},
   "outputs": [
    {
     "data": {
      "text/plain": [
       "{'f_name': 'Aditya', 'l_name': 'Patil', 'city': 'Belgaum'}"
      ]
     },
     "execution_count": 73,
     "metadata": {},
     "output_type": "execute_result"
    }
   ],
   "source": [
    "student\n"
   ]
  },
  {
   "cell_type": "code",
   "execution_count": 75,
   "id": "fabb2dfe",
   "metadata": {},
   "outputs": [
    {
     "data": {
      "text/plain": [
       "dict_values(['Aditya', 'Patil', 'Belgaum'])"
      ]
     },
     "execution_count": 75,
     "metadata": {},
     "output_type": "execute_result"
    }
   ],
   "source": [
    "# ii)Accessing values and keys in the Dictionary\n",
    "\n",
    "student.values()\n",
    "\n",
    "\n"
   ]
  },
  {
   "cell_type": "code",
   "execution_count": 76,
   "id": "3187f2fe",
   "metadata": {},
   "outputs": [
    {
     "data": {
      "text/plain": [
       "dict_keys(['f_name', 'l_name', 'city'])"
      ]
     },
     "execution_count": 76,
     "metadata": {},
     "output_type": "execute_result"
    }
   ],
   "source": [
    "student.keys()\n"
   ]
  },
  {
   "cell_type": "code",
   "execution_count": 77,
   "id": "c001ff03",
   "metadata": {},
   "outputs": [],
   "source": [
    "# iii)Updating the dictionary using a function\n",
    "\n",
    "student.update({'class': '5'})\n",
    "\n"
   ]
  },
  {
   "cell_type": "code",
   "execution_count": 78,
   "id": "639d6ddc",
   "metadata": {},
   "outputs": [
    {
     "data": {
      "text/plain": [
       "{'f_name': 'Aditya', 'l_name': 'Patil', 'city': 'Belgaum', 'class': '5'}"
      ]
     },
     "execution_count": 78,
     "metadata": {},
     "output_type": "execute_result"
    }
   ],
   "source": [
    "student\n"
   ]
  },
  {
   "cell_type": "code",
   "execution_count": 81,
   "id": "8fb935a7",
   "metadata": {},
   "outputs": [
    {
     "data": {
      "text/plain": [
       "'Belgaum'"
      ]
     },
     "execution_count": 81,
     "metadata": {},
     "output_type": "execute_result"
    }
   ],
   "source": [
    "# iv)Clear and delete the dictionary values.\n",
    "\n",
    "student.pop('city')\n",
    "\n",
    "\n"
   ]
  },
  {
   "cell_type": "code",
   "execution_count": 82,
   "id": "3864fad0",
   "metadata": {},
   "outputs": [
    {
     "data": {
      "text/plain": [
       "{'f_name': 'Aditya', 'l_name': 'Patil'}"
      ]
     },
     "execution_count": 82,
     "metadata": {},
     "output_type": "execute_result"
    }
   ],
   "source": [
    "student\n"
   ]
  },
  {
   "cell_type": "markdown",
   "id": "2555a257",
   "metadata": {},
   "source": [
    "# 7.Python program to insert a number to any position in a list"
   ]
  },
  {
   "cell_type": "code",
   "execution_count": 83,
   "id": "ed1e9749",
   "metadata": {},
   "outputs": [],
   "source": [
    "lst=[10,20,30,40,50]\n"
   ]
  },
  {
   "cell_type": "code",
   "execution_count": 84,
   "id": "8d6db653",
   "metadata": {},
   "outputs": [
    {
     "data": {
      "text/plain": [
       "[10, 20, 30, 40, 50]"
      ]
     },
     "execution_count": 84,
     "metadata": {},
     "output_type": "execute_result"
    }
   ],
   "source": [
    "lst\n"
   ]
  },
  {
   "cell_type": "code",
   "execution_count": 85,
   "id": "d17b765f",
   "metadata": {},
   "outputs": [],
   "source": [
    "lst.insert(4,'15')\n"
   ]
  },
  {
   "cell_type": "code",
   "execution_count": 86,
   "id": "f172beb5",
   "metadata": {},
   "outputs": [
    {
     "data": {
      "text/plain": [
       "[10, 20, 30, 40, '15', 50]"
      ]
     },
     "execution_count": 86,
     "metadata": {},
     "output_type": "execute_result"
    }
   ],
   "source": [
    "lst\n",
    "\n"
   ]
  },
  {
   "cell_type": "markdown",
   "id": "4646c779",
   "metadata": {},
   "source": [
    "# 8.Python program to delete an element from a list by index"
   ]
  },
  {
   "cell_type": "code",
   "execution_count": 87,
   "id": "c3c96e22",
   "metadata": {},
   "outputs": [],
   "source": [
    "lst=[11,12,13,14,15]\n"
   ]
  },
  {
   "cell_type": "code",
   "execution_count": 88,
   "id": "80042176",
   "metadata": {},
   "outputs": [
    {
     "data": {
      "text/plain": [
       "[11, 12, 13, 14, 15]"
      ]
     },
     "execution_count": 88,
     "metadata": {},
     "output_type": "execute_result"
    }
   ],
   "source": [
    "lst\n"
   ]
  },
  {
   "cell_type": "code",
   "execution_count": 93,
   "id": "211bab4d",
   "metadata": {},
   "outputs": [
    {
     "data": {
      "text/plain": [
       "13"
      ]
     },
     "execution_count": 93,
     "metadata": {},
     "output_type": "execute_result"
    }
   ],
   "source": [
    "lst.pop(2)\n",
    "\n",
    "\n"
   ]
  },
  {
   "cell_type": "code",
   "execution_count": 94,
   "id": "5b1507f8",
   "metadata": {},
   "outputs": [
    {
     "data": {
      "text/plain": [
       "[11, 12, 14, 15]"
      ]
     },
     "execution_count": 94,
     "metadata": {},
     "output_type": "execute_result"
    }
   ],
   "source": [
    "lst\n"
   ]
  },
  {
   "cell_type": "markdown",
   "id": "46efe524",
   "metadata": {},
   "source": [
    "# 9.Write a program to display a number from 1 to 100"
   ]
  },
  {
   "cell_type": "code",
   "execution_count": 96,
   "id": "b7cfe6c1",
   "metadata": {},
   "outputs": [
    {
     "name": "stdout",
     "output_type": "stream",
     "text": [
      "1 2 3 4 5 6 7 8 9 10 11 12 13 14 15 16 17 18 19 20 21 22 23 24 25 26 27 28 29 30 31 32 33 34 35 36 37 38 39 40 41 42 43 44 45 46 47 48 49 50 51 52 53 54 55 56 57 58 59 60 61 62 63 64 65 66 67 68 69 70 71 72 73 74 75 76 77 78 79 80 81 82 83 84 85 86 87 88 89 90 91 92 93 94 95 96 97 98 99 100 "
     ]
    }
   ],
   "source": [
    "for i in range(1,101):\n",
    "    print(i, end=\" \")\n",
    "    \n",
    "    "
   ]
  },
  {
   "cell_type": "markdown",
   "id": "88f3cb19",
   "metadata": {},
   "source": [
    "# 10.Write a python program to find the sum of all items in a tuple"
   ]
  },
  {
   "cell_type": "code",
   "execution_count": 97,
   "id": "5315e4a3",
   "metadata": {},
   "outputs": [],
   "source": [
    "tup=(1,2,3,4,5)\n",
    "\n",
    "    "
   ]
  },
  {
   "cell_type": "code",
   "execution_count": 98,
   "id": "802b02c7",
   "metadata": {},
   "outputs": [
    {
     "data": {
      "text/plain": [
       "(1, 2, 3, 4, 5)"
      ]
     },
     "execution_count": 98,
     "metadata": {},
     "output_type": "execute_result"
    }
   ],
   "source": [
    "tup\n"
   ]
  },
  {
   "cell_type": "code",
   "execution_count": 103,
   "id": "ae0b4aa3",
   "metadata": {},
   "outputs": [
    {
     "name": "stdout",
     "output_type": "stream",
     "text": [
      "The sum of tuple elements is 15.0\n"
     ]
    }
   ],
   "source": [
    "import math\n",
    "r = math.fsum(tup)\n",
    "print(\"The sum of tuple elements is \" + str(r))\n",
    "\n"
   ]
  },
  {
   "cell_type": "markdown",
   "id": "baf6b31a",
   "metadata": {},
   "source": [
    "# 12.A list of words is given .Find the words from the list that have their second character in uppercase.\n",
    "ls=['hello','Dear','hOw','ARe','You']"
   ]
  },
  {
   "cell_type": "code",
   "execution_count": 105,
   "id": "c6d314ed",
   "metadata": {
    "scrolled": true
   },
   "outputs": [
    {
     "name": "stdout",
     "output_type": "stream",
     "text": [
      "['hOw', 'ARe']\n"
     ]
    }
   ],
   "source": [
    "ls=['hello','Dear','hOw','ARe','You']\n",
    "result =[word for word in ls\n",
    "        if len(word)>=2 and word[1].isupper()]\n",
    "print(result)\n"
   ]
  },
  {
   "cell_type": "code",
   "execution_count": null,
   "id": "6b08fa36",
   "metadata": {},
   "outputs": [],
   "source": []
  }
 ],
 "metadata": {
  "kernelspec": {
   "display_name": "Python 3 (ipykernel)",
   "language": "python",
   "name": "python3"
  },
  "language_info": {
   "codemirror_mode": {
    "name": "ipython",
    "version": 3
   },
   "file_extension": ".py",
   "mimetype": "text/x-python",
   "name": "python",
   "nbconvert_exporter": "python",
   "pygments_lexer": "ipython3",
   "version": "3.11.4"
  }
 },
 "nbformat": 4,
 "nbformat_minor": 5
}
