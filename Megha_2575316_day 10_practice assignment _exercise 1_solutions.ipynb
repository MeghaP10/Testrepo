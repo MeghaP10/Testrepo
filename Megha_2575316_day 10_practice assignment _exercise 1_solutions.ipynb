{
 "cells": [
  {
   "cell_type": "code",
   "execution_count": null,
   "id": "d78b2f42",
   "metadata": {},
   "outputs": [],
   "source": [
    "%matplotlib inline \n",
    "import pandas as pd"
   ]
  },
  {
   "cell_type": "code",
   "execution_count": 27,
   "id": "48c734fc",
   "metadata": {},
   "outputs": [
    {
     "data": {
      "text/html": [
       "<div>\n",
       "<style scoped>\n",
       "    .dataframe tbody tr th:only-of-type {\n",
       "        vertical-align: middle;\n",
       "    }\n",
       "\n",
       "    .dataframe tbody tr th {\n",
       "        vertical-align: top;\n",
       "    }\n",
       "\n",
       "    .dataframe thead th {\n",
       "        text-align: right;\n",
       "    }\n",
       "</style>\n",
       "<table border=\"1\" class=\"dataframe\">\n",
       "  <thead>\n",
       "    <tr style=\"text-align: right;\">\n",
       "      <th></th>\n",
       "      <th>title</th>\n",
       "      <th>year</th>\n",
       "    </tr>\n",
       "  </thead>\n",
       "  <tbody>\n",
       "    <tr>\n",
       "      <th>0</th>\n",
       "      <td>Tasveer Mere Sanam</td>\n",
       "      <td>1996</td>\n",
       "    </tr>\n",
       "    <tr>\n",
       "      <th>1</th>\n",
       "      <td>Only You</td>\n",
       "      <td>1994</td>\n",
       "    </tr>\n",
       "    <tr>\n",
       "      <th>2</th>\n",
       "      <td>El pueblo del terror</td>\n",
       "      <td>1970</td>\n",
       "    </tr>\n",
       "    <tr>\n",
       "      <th>3</th>\n",
       "      <td>Machine</td>\n",
       "      <td>2007</td>\n",
       "    </tr>\n",
       "    <tr>\n",
       "      <th>4</th>\n",
       "      <td>MARy</td>\n",
       "      <td>2008</td>\n",
       "    </tr>\n",
       "  </tbody>\n",
       "</table>\n",
       "</div>"
      ],
      "text/plain": [
       "                  title  year\n",
       "0    Tasveer Mere Sanam  1996\n",
       "1              Only You  1994\n",
       "2  El pueblo del terror  1970\n",
       "3               Machine  2007\n",
       "4                  MARy  2008"
      ]
     },
     "execution_count": 27,
     "metadata": {},
     "output_type": "execute_result"
    }
   ],
   "source": [
    "titles= pd.read_csv('titles.csv')\n",
    "\n",
    "titles.head()"
   ]
  },
  {
   "cell_type": "markdown",
   "id": "76b64d8c",
   "metadata": {},
   "source": [
    "# 1. How many movies are listed in the titles dataframe?\n"
   ]
  },
  {
   "cell_type": "code",
   "execution_count": 28,
   "id": "1549e956",
   "metadata": {},
   "outputs": [
    {
     "name": "stdout",
     "output_type": "stream",
     "text": [
      "Total number of movies listed: 244914\n"
     ]
    }
   ],
   "source": [
    "import pandas as pd\n",
    "\n",
    "df = pd.read_csv(\"titles.csv\")\n",
    "\n",
    "num_movies = len(df)\n",
    "\n",
    "print(f'Total number of movies listed: {num_movies}')"
   ]
  },
  {
   "cell_type": "markdown",
   "id": "63692e7c",
   "metadata": {},
   "source": [
    "# 2.What are the earliest two films listed in the titles dataframe?"
   ]
  },
  {
   "cell_type": "code",
   "execution_count": 33,
   "id": "0782a044",
   "metadata": {},
   "outputs": [
    {
     "name": "stdout",
     "output_type": "stream",
     "text": [
      "The earliest two films listed:\n",
      "                     title  year\n",
      "193222          Miss Jerry  1894\n",
      "51388   The Startled Lover  1898\n"
     ]
    }
   ],
   "source": [
    "import pandas as pd\n",
    "\n",
    "df = pd.read_csv(\"titles.csv\")\n",
    "\n",
    "df_sorted = df.sort_values(by='year')\n",
    "\n",
    "earliest_films = df_sorted.head(2)\n",
    "\n",
    "print(\"The earliest two films listed:\")\n",
    "print(earliest_films[['title', 'year']])"
   ]
  },
  {
   "cell_type": "markdown",
   "id": "e6b201f3",
   "metadata": {},
   "source": [
    "# 3.How many movies have the title \"Hamlet\"?"
   ]
  },
  {
   "cell_type": "code",
   "execution_count": 32,
   "id": "9776a2ea",
   "metadata": {},
   "outputs": [
    {
     "name": "stdout",
     "output_type": "stream",
     "text": [
      "The number of movies with the title \"Hamlet\" is: 20\n"
     ]
    }
   ],
   "source": [
    "import pandas as pd\n",
    "\n",
    "csv_file = \"titles.csv\"\n",
    "\n",
    "df = pd.read_csv(csv_file)\n",
    "\n",
    "hamlet_movies = df[df['title'] == 'Hamlet']\n",
    "\n",
    "num_hamlet_movies = hamlet_movies.shape[0]\n",
    "\n",
    "print(f'The number of movies with the title \"Hamlet\" is: {num_hamlet_movies}')"
   ]
  },
  {
   "cell_type": "markdown",
   "id": "e33d8189",
   "metadata": {},
   "source": [
    "# 4. How many movies are titled \"North by Northwest\"?\n"
   ]
  },
  {
   "cell_type": "code",
   "execution_count": 35,
   "id": "19368c69",
   "metadata": {},
   "outputs": [
    {
     "name": "stdout",
     "output_type": "stream",
     "text": [
      "The number of movies titled \"North by Northwest\" is: 1\n"
     ]
    }
   ],
   "source": [
    "import pandas as pd\n",
    "\n",
    "csv_file = \"titles.csv\"\n",
    "\n",
    "df = pd.read_csv(csv_file)\n",
    "\n",
    "north_by_northwest_movies = df[df['title'] == 'North by Northwest']\n",
    "\n",
    "num_north_by_northwest_movies = north_by_northwest_movies.shape[0]\n",
    "\n",
    "print(f'The number of movies titled \"North by Northwest\" is: {num_north_by_northwest_movies}')"
   ]
  },
  {
   "cell_type": "markdown",
   "id": "65caa628",
   "metadata": {},
   "source": [
    "# 5.When was the first movie titled \"Hamlet\" made?"
   ]
  },
  {
   "cell_type": "code",
   "execution_count": 37,
   "id": "e10d9fb7",
   "metadata": {},
   "outputs": [
    {
     "name": "stdout",
     "output_type": "stream",
     "text": [
      "The first movie titled \"Hamlet\" was made in the year: 1910\n"
     ]
    }
   ],
   "source": [
    "import pandas as pd\n",
    "\n",
    "csv_file = \"titles.csv\"\n",
    "\n",
    "df = pd.read_csv(csv_file)\n",
    "\n",
    "hamlet_movies = df[df['title'] == 'Hamlet']\n",
    "\n",
    "hamlet_movies = hamlet_movies.sort_values(by='year')\n",
    "\n",
    "first_hamlet_movie_year = hamlet_movies.iloc[0]['year']\n",
    "\n",
    "print(f'The first movie titled \"Hamlet\" was made in the year: {first_hamlet_movie_year}')"
   ]
  },
  {
   "cell_type": "markdown",
   "id": "572b7676",
   "metadata": {},
   "source": [
    "# 6. How many movies were made in the year 1950?"
   ]
  },
  {
   "cell_type": "code",
   "execution_count": 38,
   "id": "c6d02ead",
   "metadata": {},
   "outputs": [
    {
     "name": "stdout",
     "output_type": "stream",
     "text": [
      "The number of movies made in the year 1950 is: 1113\n"
     ]
    }
   ],
   "source": [
    "import pandas as pd\n",
    "\n",
    "csv_file = \"titles.csv\"\n",
    "\n",
    "df = pd.read_csv(csv_file)\n",
    "\n",
    "movies_1950 = df[df['year'] == 1950]\n",
    "\n",
    "num_movies_1950 = movies_1950.shape[0]\n",
    "\n",
    "print(f'The number of movies made in the year 1950 is: {num_movies_1950}')"
   ]
  },
  {
   "cell_type": "markdown",
   "id": "b2b29ecf",
   "metadata": {},
   "source": [
    "# 7. How many movies were made in the year 1960?"
   ]
  },
  {
   "cell_type": "code",
   "execution_count": 39,
   "id": "b2b99e3c",
   "metadata": {},
   "outputs": [
    {
     "name": "stdout",
     "output_type": "stream",
     "text": [
      "The number of movies made in the year 1960 is: 1549\n"
     ]
    }
   ],
   "source": [
    "import pandas as pd\n",
    "\n",
    "csv_file = \"titles.csv\"\n",
    "\n",
    "df = pd.read_csv(csv_file)\n",
    "\n",
    "movies_1960 = df[df['year'] == 1960]\n",
    "\n",
    "num_movies_1960 = movies_1960.shape[0]\n",
    "\n",
    "print(f'The number of movies made in the year 1960 is: {num_movies_1960}')"
   ]
  },
  {
   "cell_type": "markdown",
   "id": "64b22aee",
   "metadata": {},
   "source": [
    "# 8. How many movies were made from 1950 through 1959?"
   ]
  },
  {
   "cell_type": "code",
   "execution_count": 40,
   "id": "24083d8e",
   "metadata": {},
   "outputs": [
    {
     "name": "stdout",
     "output_type": "stream",
     "text": [
      "The number of movies made from 1950 through 1959 is: 12934\n"
     ]
    }
   ],
   "source": [
    "\n",
    "\n",
    "import pandas as pd\n",
    "\n",
    "csv_file = \"titles.csv\"\n",
    "\n",
    "df = pd.read_csv(csv_file)\n",
    "\n",
    "movies_1950s = df[(df['year'] >= 1950) & (df['year'] <= 1959)]\n",
    "\n",
    "num_movies_1950s = movies_1950s.shape[0]\n",
    "\n",
    "print(f'The number of movies made from 1950 through 1959 is: {num_movies_1950s}')"
   ]
  },
  {
   "cell_type": "markdown",
   "id": "7734140b",
   "metadata": {},
   "source": [
    "# 9. In what years has a movie titled \"Batman\" been released?"
   ]
  },
  {
   "cell_type": "code",
   "execution_count": 41,
   "id": "6f5c7d82",
   "metadata": {},
   "outputs": [
    {
     "name": "stdout",
     "output_type": "stream",
     "text": [
      "Years in which a movie titled \"Batman\" has been released: [1943 1989]\n"
     ]
    }
   ],
   "source": [
    "\n",
    "import pandas as pd\n",
    "\n",
    "csv_file = \"titles.csv\"\n",
    "\n",
    "df = pd.read_csv(csv_file)\n",
    "\n",
    "batman_movies = df[df['title'] == 'Batman']\n",
    "\n",
    "unique_years = batman_movies['year'].unique()\n",
    "\n",
    "print(f'Years in which a movie titled \"Batman\" has been released: {unique_years}')"
   ]
  },
  {
   "cell_type": "markdown",
   "id": "bd4af1ec",
   "metadata": {},
   "source": [
    "# 10. How many roles were there in the movie \"Inception\"?"
   ]
  },
  {
   "cell_type": "code",
   "execution_count": 42,
   "id": "24a7ce37",
   "metadata": {},
   "outputs": [
    {
     "name": "stdout",
     "output_type": "stream",
     "text": [
      "The number of roles in the movie \"Inception\" is: 56\n"
     ]
    }
   ],
   "source": [
    "\n",
    "import pandas as pd\n",
    "\n",
    "csv_file = \"cast.csv\"\n",
    "\n",
    "df = pd.read_csv(csv_file)\n",
    "\n",
    "inception_roles = df[df['title'] == 'Inception']\n",
    "\n",
    "num_roles_inception = inception_roles['character'].nunique()\n",
    "\n",
    "print(f'The number of roles in the movie \"Inception\" is: {num_roles_inception}')"
   ]
  },
  {
   "cell_type": "markdown",
   "id": "dd9e17a1",
   "metadata": {},
   "source": [
    "# 11. How many roles in the movie \"Inception\" are NOT ranked by an \"n\" value?"
   ]
  },
  {
   "cell_type": "code",
   "execution_count": 44,
   "id": "2dd3f2bc",
   "metadata": {},
   "outputs": [
    {
     "name": "stdout",
     "output_type": "stream",
     "text": [
      "The number of roles in the movie \"Inception\" that are not ranked by an \"n\" value is: 27\n"
     ]
    }
   ],
   "source": [
    "\n",
    "import pandas as pd\n",
    "\n",
    "csv_file = \"cast.csv\"\n",
    "\n",
    "df = pd.read_csv(csv_file)\n",
    "\n",
    "inception_roles = df[df['title'] == 'Inception']\n",
    "\n",
    "num_unranked_roles = inception_roles['n'].isna().sum()\n",
    "\n",
    "print(f'The number of roles in the movie \"Inception\" that are not ranked by an \"n\" value is: {num_unranked_roles}')"
   ]
  },
  {
   "cell_type": "markdown",
   "id": "4ea1711e",
   "metadata": {},
   "source": [
    "# 12. But how many roles in the movie \"Inception\" did receive an \"n\" value?"
   ]
  },
  {
   "cell_type": "code",
   "execution_count": 21,
   "id": "a0da91ff",
   "metadata": {},
   "outputs": [
    {
     "name": "stdout",
     "output_type": "stream",
     "text": [
      "The number of roles in the movie \"Inception\" that received an \"n\" value is: 51\n"
     ]
    }
   ],
   "source": [
    "\n",
    "import pandas as pd\n",
    "\n",
    "csv_file = \"cast.csv\"\n",
    "\n",
    "df = pd.read_csv(csv_file)\n",
    "\n",
    "inception_roles = df[df['title'] == 'Inception']\n",
    "\n",
    "num_ranked_roles = inception_roles['n'].notna().sum()\n",
    "\n",
    "print(f'The number of roles in the movie \"Inception\" that received an \"n\" value is: {num_ranked_roles}')"
   ]
  },
  {
   "cell_type": "markdown",
   "id": "28489451",
   "metadata": {},
   "source": [
    "# 13. Display the cast of \"North by Northwest\" in their correct \"n\"-value order, ignoring roles that did not earn a numeric \"n\" value.\n"
   ]
  },
  {
   "cell_type": "code",
   "execution_count": 2,
   "id": "296828a3",
   "metadata": {},
   "outputs": [
    {
     "name": "stdout",
     "output_type": "stream",
     "text": [
      "                         name                    character     n\n",
      "871426             Cary Grant           Roger O. Thornhill   1.0\n",
      "3518333       Eva Marie Saint                  Eve Kendall   2.0\n",
      "1457165           James Mason              Phillip Vandamm   3.0\n",
      "3157232   Jessie Royce Landis              Clara Thornhill   4.0\n",
      "356707         Leo G. Carroll                The Professor   5.0\n",
      "3048272  Josephine Hutchinson                Mrs. Townsend   6.0\n",
      "1695173           Philip Ober              Lester Townsend   7.0\n",
      "1275337         Martin Landau                      Leonard   8.0\n",
      "2447081         Adam Williams                     Valerian   9.0\n",
      "1811387          Edward Platt              Victor Larrabee  10.0\n",
      "665768      Robert Ellenstein                        Licht  11.0\n",
      "2295714          Les Tremayne                   Auctioneer  12.0\n",
      "464736        Philip Coolidge                    Dr. Cross  13.0\n",
      "1508344         Patrick McVey               Sergeant Flamm  14.0\n",
      "206471           Edward Binns               Captain Junket  15.0\n",
      "1384780             Ken Lynch  Charley - Chicago Policeman  16.0\n"
     ]
    },
    {
     "name": "stderr",
     "output_type": "stream",
     "text": [
      "C:\\Users\\MEGHA\\AppData\\Local\\Temp\\ipykernel_2784\\2283023261.py:9: SettingWithCopyWarning: \n",
      "A value is trying to be set on a copy of a slice from a DataFrame.\n",
      "Try using .loc[row_indexer,col_indexer] = value instead\n",
      "\n",
      "See the caveats in the documentation: https://pandas.pydata.org/pandas-docs/stable/user_guide/indexing.html#returning-a-view-versus-a-copy\n",
      "  north_by_northwest_cast['n'] = pd.to_numeric(north_by_northwest_cast['n'])\n"
     ]
    }
   ],
   "source": [
    "import pandas as pd\n",
    "\n",
    "csv_file = \"cast.csv\"\n",
    "\n",
    "df = pd.read_csv(csv_file)\n",
    "\n",
    "north_by_northwest_cast = df[(df['title'] == 'North by Northwest') & df['n'].notna()]\n",
    "\n",
    "north_by_northwest_cast['n'] = pd.to_numeric(north_by_northwest_cast['n'])\n",
    "\n",
    "north_by_northwest_cast = north_by_northwest_cast.sort_values(by='n')\n",
    "\n",
    "print(north_by_northwest_cast[['name', 'character', 'n']])"
   ]
  },
  {
   "cell_type": "markdown",
   "id": "a4416cc9",
   "metadata": {},
   "source": [
    "# 14. Display the entire cast, in \"n\"-order, of the 1972 film \"Sleuth\""
   ]
  },
  {
   "cell_type": "code",
   "execution_count": 3,
   "id": "f94946bb",
   "metadata": {},
   "outputs": [
    {
     "name": "stdout",
     "output_type": "stream",
     "text": [
      "                       name                   character    n\n",
      "1705394    Laurence Olivier                 Andrew Wyke  1.0\n",
      "326773        Michael Caine                 Milo Tindle  2.0\n",
      "373876       Alec Cawthorne           Inspector Doppler  3.0\n",
      "1465483  John (II) Matthews  Detective Sergeant Tarrant  4.0\n",
      "2724553  Eve (III) Channing             Marguerite Wyke  5.0\n",
      "1448690        Teddy Martin      Police Constable Higgs  6.0\n"
     ]
    }
   ],
   "source": [
    "import pandas as pd\n",
    "\n",
    "csv_file = \"cast.csv\"\n",
    "\n",
    "df = pd.read_csv(csv_file)\n",
    "\n",
    "sleuth_1972_cast = df[(df['title'] == 'Sleuth') & (df['year'] == 1972)]\n",
    "\n",
    "sleuth_1972_cast = sleuth_1972_cast.sort_values(by='n')\n",
    "\n",
    "print(sleuth_1972_cast[['name', 'character', 'n']])"
   ]
  },
  {
   "cell_type": "markdown",
   "id": "04c04a73",
   "metadata": {},
   "source": [
    "# 15. Now display the entire cast, in \"n\"-order, of the 2007 version of \"Sleuth\"."
   ]
  },
  {
   "cell_type": "code",
   "execution_count": 4,
   "id": "5e572f95",
   "metadata": {},
   "outputs": [
    {
     "name": "stdout",
     "output_type": "stream",
     "text": [
      "                        name          character    n\n",
      "326774         Michael Caine             Andrew  1.0\n",
      "1293634             Jude Law               Milo  2.0\n",
      "1805907        Harold Pinter        Man on T.V.  3.0\n",
      "260242       Kenneth Branagh  Other Man on T.V.  NaN\n",
      "373877   Alec (II) Cawthorne  Inspector Doppler  NaN\n",
      "2724552    Eve (II) Channing    Marguerite Wyke  NaN\n",
      "3370424    Carmel O'Sullivan             Maggie  NaN\n"
     ]
    }
   ],
   "source": [
    "import pandas as pd\n",
    "\n",
    "csv_file = \"cast.csv\"\n",
    "\n",
    "df = pd.read_csv(csv_file)\n",
    "\n",
    "sleuth_2007_cast = df[(df['title'] == 'Sleuth') & (df['year'] == 2007)]\n",
    "\n",
    "sleuth_2007_cast = sleuth_2007_cast.sort_values(by='n')\n",
    "\n",
    "print(sleuth_2007_cast[['name', 'character', 'n']])"
   ]
  },
  {
   "cell_type": "markdown",
   "id": "a8e24a68",
   "metadata": {},
   "source": [
    "# 16. How many roles were credited in the silent 1921 version of Hamlet?"
   ]
  },
  {
   "cell_type": "code",
   "execution_count": 5,
   "id": "d8c39b18",
   "metadata": {},
   "outputs": [
    {
     "name": "stdout",
     "output_type": "stream",
     "text": [
      "The number of roles credited in the silent 1921 version of \"Hamlet\" is: 9\n"
     ]
    }
   ],
   "source": [
    "\n",
    "import pandas as pd\n",
    "\n",
    "csv_file = \"cast.csv\"\n",
    "\n",
    "df = pd.read_csv(csv_file)\n",
    "\n",
    "hamlet_1921_cast = df[(df['title'] == 'Hamlet') & (df['year'] == 1921)]\n",
    "\n",
    "num_credited_roles = hamlet_1921_cast.shape[0]\n",
    "\n",
    "print(f'The number of roles credited in the silent 1921 version of \"Hamlet\" is: {num_credited_roles}')"
   ]
  },
  {
   "cell_type": "markdown",
   "id": "9a018a91",
   "metadata": {},
   "source": [
    "# 17. How many roles were credited in Branagh's 1996 Hamlet?"
   ]
  },
  {
   "cell_type": "code",
   "execution_count": 6,
   "id": "d3f1d457",
   "metadata": {},
   "outputs": [
    {
     "name": "stdout",
     "output_type": "stream",
     "text": [
      "The number of credited roles in Kenneth Branagh's 1996 version of \"Hamlet\" is: 54\n"
     ]
    }
   ],
   "source": [
    "\n",
    "import pandas as pd\n",
    "\n",
    "csv_file = \"cast.csv\"\n",
    "\n",
    "df = pd.read_csv(csv_file)\n",
    "\n",
    "branagh_hamlet_1996_cast = df[(df['title'] == 'Hamlet') & (df['year'] == 1996)]\n",
    "\n",
    "num_credited_roles = branagh_hamlet_1996_cast.shape[0]\n",
    "\n",
    "print(f'The number of credited roles in Kenneth Branagh\\'s 1996 version of \"Hamlet\" is: {num_credited_roles}')"
   ]
  },
  {
   "cell_type": "markdown",
   "id": "302520a1",
   "metadata": {},
   "source": [
    "# 18. How many \"Hamlet\" roles have been listed in all film credits through history?"
   ]
  },
  {
   "cell_type": "code",
   "execution_count": 7,
   "id": "f8382431",
   "metadata": {},
   "outputs": [
    {
     "name": "stdout",
     "output_type": "stream",
     "text": [
      "The number of \"Hamlet\" roles listed in all film credits through history is: 112\n"
     ]
    }
   ],
   "source": [
    "\n",
    "import pandas as pd\n",
    "\n",
    "csv_file = \"cast.csv\"\n",
    "\n",
    "df = pd.read_csv(csv_file)\n",
    "\n",
    "hamlet_roles = df[df['title'] == 'Hamlet']\n",
    "\n",
    "num_hamlet_roles = hamlet_roles['character'].nunique()\n",
    "\n",
    "print(f'The number of \"Hamlet\" roles listed in all film credits through history is: {num_hamlet_roles}')"
   ]
  },
  {
   "cell_type": "markdown",
   "id": "57b5b23b",
   "metadata": {},
   "source": [
    "# 19. How many people have played an \"Ophelia\"?"
   ]
  },
  {
   "cell_type": "code",
   "execution_count": 8,
   "id": "a73df1ec",
   "metadata": {},
   "outputs": [
    {
     "name": "stdout",
     "output_type": "stream",
     "text": [
      "The number of people who have played the role of \"Ophelia\" is: 115\n"
     ]
    }
   ],
   "source": [
    "\n",
    "import pandas as pd\n",
    "csv_file = \"cast.csv\"\n",
    "\n",
    "df = pd.read_csv(csv_file)\n",
    "\n",
    "ophelia_roles = df[df['character'] == 'Ophelia']\n",
    "\n",
    "num_ophelia_actors = ophelia_roles['name'].nunique()\n",
    "\n",
    "print(f'The number of people who have played the role of \"Ophelia\" is: {num_ophelia_actors}')"
   ]
  },
  {
   "cell_type": "markdown",
   "id": "042bb9a4",
   "metadata": {},
   "source": [
    "# 20. How many people have played a role called \"The Dude\"?"
   ]
  },
  {
   "cell_type": "code",
   "execution_count": 9,
   "id": "41c10835",
   "metadata": {},
   "outputs": [
    {
     "name": "stdout",
     "output_type": "stream",
     "text": [
      "The number of people who have played a role called \"The Dude\" is: 19\n"
     ]
    }
   ],
   "source": [
    "\n",
    "import pandas as pd\n",
    "\n",
    "csv_file = \"cast.csv\"\n",
    "\n",
    "df = pd.read_csv(csv_file)\n",
    "\n",
    "the_dude_roles = df[df['character'] == 'The Dude']\n",
    "\n",
    "num_the_dude_actors = the_dude_roles['name'].nunique()\n",
    "\n",
    "print(f'The number of people who have played a role called \"The Dude\" is: {num_the_dude_actors}')"
   ]
  },
  {
   "cell_type": "markdown",
   "id": "6185b3fd",
   "metadata": {},
   "source": [
    "# 21 How many people have played a role called \"The Stranger\"?"
   ]
  },
  {
   "cell_type": "code",
   "execution_count": 10,
   "id": "cbc5896c",
   "metadata": {},
   "outputs": [
    {
     "name": "stdout",
     "output_type": "stream",
     "text": [
      "The number of people who have played a role called \"The Stranger\" is: 202\n"
     ]
    }
   ],
   "source": [
    "\n",
    "import pandas as pd\n",
    "csv_file = \"cast.csv\"\n",
    "\n",
    "df = pd.read_csv(csv_file)\n",
    "\n",
    "the_stranger_roles = df[df['character'] == 'The Stranger']\n",
    "\n",
    "num_the_stranger_actors = the_stranger_roles['name'].nunique()\n",
    "\n",
    "print(f'The number of people who have played a role called \"The Stranger\" is: {num_the_stranger_actors}')"
   ]
  },
  {
   "cell_type": "markdown",
   "id": "d4dabe43",
   "metadata": {},
   "source": [
    "# 22 How many roles has Sidney Poitier played throughout his career?"
   ]
  },
  {
   "cell_type": "code",
   "execution_count": 11,
   "id": "ea3d7844",
   "metadata": {},
   "outputs": [
    {
     "name": "stdout",
     "output_type": "stream",
     "text": [
      "Sidney Poitier has played 41 roles throughout his career.\n"
     ]
    }
   ],
   "source": [
    "\n",
    "import pandas as pd\n",
    "\n",
    "csv_file = \"cast.csv\"\n",
    "\n",
    "df = pd.read_csv(csv_file)\n",
    "\n",
    "sidney_poitier_roles = df[df['name'] == 'Sidney Poitier']\n",
    "\n",
    "num_sidney_poitier_roles = sidney_poitier_roles['character'].nunique()\n",
    "\n",
    "print(f'Sidney Poitier has played {num_sidney_poitier_roles} roles throughout his career.')\n"
   ]
  },
  {
   "cell_type": "markdown",
   "id": "cb9ccd1d",
   "metadata": {},
   "source": [
    "# 23.How many roles has Judi Dench played?"
   ]
  },
  {
   "cell_type": "code",
   "execution_count": 12,
   "id": "fa1ba60b",
   "metadata": {},
   "outputs": [
    {
     "name": "stdout",
     "output_type": "stream",
     "text": [
      "Judi Dench has played 46 roles throughout her career.\n"
     ]
    }
   ],
   "source": [
    "\n",
    "import pandas as pd\n",
    "\n",
    "csv_file = \"cast.csv\"\n",
    "\n",
    "df = pd.read_csv(csv_file)\n",
    "\n",
    "judi_dench_roles = df[df['name'] == 'Judi Dench']\n",
    "\n",
    "num_judi_dench_roles = judi_dench_roles['character'].nunique()\n",
    "\n",
    "print(f'Judi Dench has played {num_judi_dench_roles} roles throughout her career.')"
   ]
  },
  {
   "cell_type": "markdown",
   "id": "22fff5ff",
   "metadata": {},
   "source": [
    "# 24. List the supporting roles (having n=2) played by Cary Grant in the 1940s, in order by year."
   ]
  },
  {
   "cell_type": "code",
   "execution_count": 13,
   "id": "856344e5",
   "metadata": {},
   "outputs": [
    {
     "name": "stdout",
     "output_type": "stream",
     "text": [
      "        year    character\n",
      "871423  1940   Nick Arden\n",
      "871433  1941  Roger Adams\n"
     ]
    }
   ],
   "source": [
    "\n",
    "import pandas as pd\n",
    "\n",
    "csv_file = \"cast.csv\"\n",
    "\n",
    "df = pd.read_csv(csv_file)\n",
    "\n",
    "cary_grant_supporting_roles_1940s = df[(df['name'] == 'Cary Grant') & (df['n'] == 2) & (df['year'] >= 1940) & (df['year'] <= 1949)]\n",
    "\n",
    "cary_grant_supporting_roles_1940s = cary_grant_supporting_roles_1940s.sort_values(by='year')\n",
    "\n",
    "print(cary_grant_supporting_roles_1940s[['year', 'character']])"
   ]
  },
  {
   "cell_type": "markdown",
   "id": "4a5eb143",
   "metadata": {},
   "source": [
    "# 25. List the leading roles that Cary Grant played in the 1940s in order by year"
   ]
  },
  {
   "cell_type": "code",
   "execution_count": 14,
   "id": "33facf57",
   "metadata": {},
   "outputs": [
    {
     "name": "stdout",
     "output_type": "stream",
     "text": [
      "        year                             character\n",
      "871448  1940                           Matt Howard\n",
      "871407  1940                          Walter Burns\n",
      "871450  1940                    C. K. Dexter Haven\n",
      "871438  1941                      Johnnie Aysgarth\n",
      "871452  1942                          Leopold Dilg\n",
      "871429  1942                 Patrick 'Pat' O'Toole\n",
      "871398  1943                         Capt. Cassidy\n",
      "871422  1943  Joe Adams -posing as Joe Bascopolous\n",
      "871430  1944                           Jerry Flynn\n",
      "871390  1944                     Mortimer Brewster\n",
      "871425  1944                            Ernie Mott\n",
      "871424  1946                           Cole Porter\n",
      "871427  1946                                Devlin\n",
      "871444  1947                           Dick Nugent\n",
      "871445  1947                                Dudley\n",
      "871421  1948                         Jim Blandings\n",
      "871402  1948                     Dr. Madison Brown\n",
      "871411  1949                 Captain Henri Rochard\n"
     ]
    }
   ],
   "source": [
    "\n",
    "import pandas as pd\n",
    "\n",
    "csv_file = \"cast.csv\"\n",
    "\n",
    "df = pd.read_csv(csv_file)\n",
    "\n",
    "cary_grant_leading_roles_1940s = df[(df['name'] == 'Cary Grant') & (df['n'] == 1) & (df['year'] >= 1940) & (df['year'] <= 1949)]\n",
    "\n",
    "cary_grant_leading_roles_1940s = cary_grant_leading_roles_1940s.sort_values(by='year')\n",
    "\n",
    "print(cary_grant_leading_roles_1940s[['year', 'character']])"
   ]
  },
  {
   "cell_type": "markdown",
   "id": "ecb58bca",
   "metadata": {},
   "source": [
    "# 26. How many roles were available for actors in the 1950s?"
   ]
  },
  {
   "cell_type": "code",
   "execution_count": 15,
   "id": "01b7d979",
   "metadata": {},
   "outputs": [
    {
     "name": "stdout",
     "output_type": "stream",
     "text": [
      "The number of roles available for actors in the 1950s is: 215471\n"
     ]
    }
   ],
   "source": [
    "\n",
    "import pandas as pd\n",
    "\n",
    "csv_file = \"cast.csv\"\n",
    "\n",
    "df = pd.read_csv(csv_file)\n",
    "\n",
    "roles_1950s = df[(df['year'] >= 1950) & (df['year'] <= 1959)]\n",
    "\n",
    "num_roles_1950s = roles_1950s.shape[0]\n",
    "\n",
    "print(f'The number of roles available for actors in the 1950s is: {num_roles_1950s}')"
   ]
  },
  {
   "cell_type": "markdown",
   "id": "587893c2",
   "metadata": {},
   "source": [
    "# 27. How many roles were available for actresses in the 1950s?"
   ]
  },
  {
   "cell_type": "code",
   "execution_count": 16,
   "id": "02d63176",
   "metadata": {},
   "outputs": [
    {
     "name": "stdout",
     "output_type": "stream",
     "text": [
      "The number of roles available for actresses in the 1950s is: 57733\n"
     ]
    }
   ],
   "source": [
    "\n",
    "import pandas as pd\n",
    "\n",
    "csv_file = \"cast.csv\"\n",
    "\n",
    "df = pd.read_csv(csv_file)\n",
    "\n",
    "actress_roles_1950s = df[(df['year'] >= 1950) & (df['year'] <= 1959) & (df['type'] == 'actress')]\n",
    "\n",
    "num_actress_roles_1950s = actress_roles_1950s.shape[0]\n",
    "\n",
    "print(f'The number of roles available for actresses in the 1950s is: {num_actress_roles_1950s}')"
   ]
  },
  {
   "cell_type": "markdown",
   "id": "6186505d",
   "metadata": {},
   "source": [
    "# 28. How many leading roles (n=1) were available from the beginning of film history through 1980?"
   ]
  },
  {
   "cell_type": "code",
   "execution_count": 17,
   "id": "2b0b78f5",
   "metadata": {},
   "outputs": [
    {
     "name": "stdout",
     "output_type": "stream",
     "text": [
      "The number of leading roles (n=1) available from the beginning of film history through 1980 is: 65140\n"
     ]
    }
   ],
   "source": [
    "\n",
    "import pandas as pd\n",
    "\n",
    "csv_file = \"cast.csv\"\n",
    "\n",
    "df = pd.read_csv(csv_file)\n",
    "\n",
    "leading_roles_until_1980 = df[(df['year'] <= 1980) & (df['n'] == 1)]\n",
    "\n",
    "num_leading_roles_until_1980 = leading_roles_until_1980.shape[0]\n",
    "\n",
    "print(f'The number of leading roles (n=1) available from the beginning of film history through 1980 is: {num_leading_roles_until_1980}')"
   ]
  },
  {
   "cell_type": "markdown",
   "id": "47f2addf",
   "metadata": {},
   "source": [
    "# 29. How many non-leading roles were available through from the beginning of film history through 1980?"
   ]
  },
  {
   "cell_type": "code",
   "execution_count": 19,
   "id": "564bb6a0",
   "metadata": {},
   "outputs": [
    {
     "name": "stdout",
     "output_type": "stream",
     "text": [
      "The number of non-leading roles (n values other than 1) available from the beginning of film history through 1980 is: 1117667\n"
     ]
    }
   ],
   "source": [
    "\n",
    "import pandas as pd\n",
    "\n",
    "csv_file = \"cast.csv\"\n",
    "\n",
    "df = pd.read_csv(csv_file)\n",
    "\n",
    "non_leading_roles_until_1980 = df[(df['year'] <= 1980) & (df['n'] != 1)]\n",
    "\n",
    "num_non_leading_roles_until_1980 = non_leading_roles_until_1980.shape[0]\n",
    "\n",
    "print(f'The number of non-leading roles (n values other than 1) available from the beginning of film history through 1980 is: {num_non_leading_roles_until_1980}')"
   ]
  },
  {
   "cell_type": "markdown",
   "id": "04e2066a",
   "metadata": {},
   "source": [
    "# 30. How many roles through 1980 were minor enough that they did not warrant a numeric \"n\" rank?"
   ]
  },
  {
   "cell_type": "code",
   "execution_count": 20,
   "id": "c1543606",
   "metadata": {},
   "outputs": [
    {
     "name": "stdout",
     "output_type": "stream",
     "text": [
      "The number of roles through 1980 that did not warrant a numeric \"n\" rank is: 448347\n"
     ]
    }
   ],
   "source": [
    "\n",
    "import pandas as pd\n",
    "\n",
    "csv_file = \"cast.csv\"\n",
    "\n",
    "df = pd.read_csv(csv_file)\n",
    "\n",
    "roles_without_n_rank_until_1980 = df[(df['year'] <= 1980) & df['n'].isna()]\n",
    "\n",
    "num_roles_without_n_rank_until_1980 = roles_without_n_rank_until_1980.shape[0]\n",
    "\n",
    "print(f'The number of roles through 1980 that did not warrant a numeric \"n\" rank is: {num_roles_without_n_rank_until_1980}')"
   ]
  },
  {
   "cell_type": "code",
   "execution_count": null,
   "id": "35b8496c",
   "metadata": {},
   "outputs": [],
   "source": []
  }
 ],
 "metadata": {
  "kernelspec": {
   "display_name": "Python 3 (ipykernel)",
   "language": "python",
   "name": "python3"
  },
  "language_info": {
   "codemirror_mode": {
    "name": "ipython",
    "version": 3
   },
   "file_extension": ".py",
   "mimetype": "text/x-python",
   "name": "python",
   "nbconvert_exporter": "python",
   "pygments_lexer": "ipython3",
   "version": "3.11.4"
  }
 },
 "nbformat": 4,
 "nbformat_minor": 5
}
