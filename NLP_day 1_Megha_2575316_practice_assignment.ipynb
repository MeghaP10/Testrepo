{
 "cells": [
  {
   "cell_type": "code",
   "execution_count": 1,
   "id": "f8983ccd",
   "metadata": {},
   "outputs": [],
   "source": [
    "import nltk\n"
   ]
  },
  {
   "cell_type": "code",
   "execution_count": 2,
   "id": "be03f5cc",
   "metadata": {},
   "outputs": [
    {
     "name": "stderr",
     "output_type": "stream",
     "text": [
      "[nltk_data] Downloading package punkt to\n",
      "[nltk_data]     C:\\Users\\MEGHA\\AppData\\Roaming\\nltk_data...\n",
      "[nltk_data]   Package punkt is already up-to-date!\n"
     ]
    },
    {
     "data": {
      "text/plain": [
       "True"
      ]
     },
     "execution_count": 2,
     "metadata": {},
     "output_type": "execute_result"
    }
   ],
   "source": [
    "nltk.download('punkt')"
   ]
  },
  {
   "cell_type": "markdown",
   "id": "e721126f",
   "metadata": {},
   "source": [
    "# 1. What is the purpose of text preprocessing in NLP, and why is it essential before analysis?"
   ]
  },
  {
   "cell_type": "code",
   "execution_count": null,
   "id": "f2c23653",
   "metadata": {},
   "outputs": [],
   "source": [
    "Natural Language Processing (NLP) is a branch of Data Science which deals with Text data. Apart from numerical data, \n",
    "Text data is available to a great extent which is used to analyze and solve business problems. But before using the data \n",
    "for analysis or prediction, processing the data is important.\n",
    "\n",
    "To prepare the text data for the model building we perform text preprocessing. It is the very first step of NLP projects. \n",
    "Some of the preprocessing steps are:\n",
    "\n",
    "Removing punctuations like . , ! $( ) * % @\n",
    "Removing URLs\n",
    "Removing Stop words\n",
    "Lower casing\n",
    "Tokenization\n",
    "Stemming\n",
    "Lemmatization\n",
    "Text preprocessing is essential before analysis in Natural Language Processing (NLP) for several reasons:\n",
    "    1.Noise Reduction\n",
    "    2.Consistency\n",
    "    3.Normalization\n",
    "    4.Vectorization\n",
    "    In summary, text preprocessing is a crucial step before analysis in NLP as it prepares the raw text data for \n",
    "    effective modeling, reduces noise, and ensures that the language is represented in a consistent and meaningful way, \n",
    "    ultimately leading to more accurate and interpretable results."
   ]
  },
  {
   "cell_type": "markdown",
   "id": "0e8415f8",
   "metadata": {},
   "source": [
    "# 2. Describe tokenization in NLP and explain its significance in text processing."
   ]
  },
  {
   "cell_type": "code",
   "execution_count": null,
   "id": "b0c431f3",
   "metadata": {},
   "outputs": [],
   "source": [
    "Tokenization in Natural Language Processing (NLP) is the process of breaking down a text\n",
    "into individual units called tokens. These tokens can be words, phrases, or other meaningful\n",
    "elements, depending on the level of granularity required.\n",
    "Significance:\n",
    "1. Text Preprocessing: Tokenization is a crucial step in text preprocessing. It helps convert raw \n",
    "    text into a format that can be easily fed into NLP models for analysis.\n",
    "2. Feature Extraction: Tokens serve as the features for NLP models. Analyzing and understanding\n",
    "    the relationships between tokens enables the extraction of meaningful features from the text.\n",
    "3. Language Understanding: Breaking text into tokens aids in understanding the structure and \n",
    "    semantics of a language. It allows for the examination of word order, context, and relationships \n",
    "    between different elements in the text.\n",
    "4. Text Analysis: Tokenization facilitates various text analysis tasks such as sentiment analysis,\n",
    "    part-of-speech tagging, named entity recognition, and more. By isolating individual units, NLP\n",
    "    models can better grasp the meaning of the text.\n",
    "5. Reducing Dimensionality: It helps in reducing the dimensionality of the data by representing \n",
    "    text as a sequence of tokens. This is important for efficient processing and model training.\n",
    "    \n",
    "    Overall, tokenization plays a fundamental role in preparing textual data for NLP applications,\n",
    "    enabling machines to understand, interpret, and derive insights from human language."
   ]
  },
  {
   "cell_type": "markdown",
   "id": "689104a5",
   "metadata": {},
   "source": [
    "# Sentence Tokenization - spliting as a sentences"
   ]
  },
  {
   "cell_type": "code",
   "execution_count": 3,
   "id": "a774b0fa",
   "metadata": {},
   "outputs": [
    {
     "name": "stdout",
     "output_type": "stream",
     "text": [
      "Original text:\n",
      "====================================================================================================\n",
      "There are all kinds of courage, said Dumbledore, smiling. \n",
      "It takes a great deal of bravery to stand up to our enemies, but just as much to stand up to our friends.\n",
      "====================================================================================================\n",
      "\n",
      "After Sentence Tokenization:\n",
      " ['There are all kinds of courage, said Dumbledore, smiling.', 'It takes a great deal of bravery to stand up to our enemies, but just as much to stand up to our friends.']\n",
      "====================================================================================================\n",
      "No.of Sentences:\t 2\n"
     ]
    }
   ],
   "source": [
    "from nltk.tokenize import sent_tokenize\n",
    "text=\"\"\"There are all kinds of courage, said Dumbledore, smiling. \n",
    "It takes a great deal of bravery to stand up to our enemies, but just as much to stand up to our friends.\"\"\"\n",
    "print('Original text:')\n",
    "print('='*100)\n",
    "print(text)\n",
    "print('='*100)\n",
    "print()\n",
    "tokenised_sent=sent_tokenize(text)\n",
    "print('After Sentence Tokenization:\\n',tokenised_sent)\n",
    "print('='*100)\n",
    "print('No.of Sentences:\\t',len(tokenised_sent))\n"
   ]
  },
  {
   "cell_type": "markdown",
   "id": "35d2c3a2",
   "metadata": {},
   "source": [
    "# Word Tokenization - Spliting as a words\n"
   ]
  },
  {
   "cell_type": "code",
   "execution_count": 4,
   "id": "74b1b0df",
   "metadata": {},
   "outputs": [
    {
     "name": "stdout",
     "output_type": "stream",
     "text": [
      "Original text:\n",
      "====================================================================================================\n",
      "There are all kinds of courage, said Dumbledore, smiling. \n",
      "It takes a great deal of bravery to stand up to our enemies, but just as much to stand up to our friends.\n",
      "====================================================================================================\n",
      "\n",
      "After word Tokenization:\n",
      " ['There', 'are', 'all', 'kinds', 'of', 'courage', ',', 'said', 'Dumbledore', ',', 'smiling', '.', 'It', 'takes', 'a', 'great', 'deal', 'of', 'bravery', 'to', 'stand', 'up', 'to', 'our', 'enemies', ',', 'but', 'just', 'as', 'much', 'to', 'stand', 'up', 'to', 'our', 'friends', '.']\n",
      "====================================================================================================\n",
      "No.of words:\t 37\n",
      "====================================================================================================\n",
      "word :  There & Length : 5\n",
      "word :  are & Length : 3\n",
      "word :  all & Length : 3\n",
      "word :  kinds & Length : 5\n",
      "word :  of & Length : 2\n",
      "word :  courage & Length : 7\n",
      "word :  , & Length : 1\n",
      "word :  said & Length : 4\n",
      "word :  Dumbledore & Length : 10\n",
      "word :  , & Length : 1\n",
      "word :  smiling & Length : 7\n",
      "word :  . & Length : 1\n",
      "word :  It & Length : 2\n",
      "word :  takes & Length : 5\n",
      "word :  a & Length : 1\n",
      "word :  great & Length : 5\n",
      "word :  deal & Length : 4\n",
      "word :  of & Length : 2\n",
      "word :  bravery & Length : 7\n",
      "word :  to & Length : 2\n",
      "word :  stand & Length : 5\n",
      "word :  up & Length : 2\n",
      "word :  to & Length : 2\n",
      "word :  our & Length : 3\n",
      "word :  enemies & Length : 7\n",
      "word :  , & Length : 1\n",
      "word :  but & Length : 3\n",
      "word :  just & Length : 4\n",
      "word :  as & Length : 2\n",
      "word :  much & Length : 4\n",
      "word :  to & Length : 2\n",
      "word :  stand & Length : 5\n",
      "word :  up & Length : 2\n",
      "word :  to & Length : 2\n",
      "word :  our & Length : 3\n",
      "word :  friends & Length : 7\n",
      "word :  . & Length : 1\n"
     ]
    }
   ],
   "source": [
    "from nltk.tokenize import word_tokenize\n",
    "print('Original text:')\n",
    "print('='*100)\n",
    "print(text)\n",
    "print('='*100)\n",
    "print()\n",
    "token_word=word_tokenize(text)\n",
    "print('After word Tokenization:\\n',token_word)\n",
    "print('='*100)\n",
    "print('No.of words:\\t',len(token_word))\n",
    "print('='*100)\n",
    "for i in token_word:\n",
    " print('word : ',i,'&','Length :',len(i))"
   ]
  },
  {
   "cell_type": "markdown",
   "id": "79bade95",
   "metadata": {},
   "source": [
    "# 3. What are the differences between stemming and lemmatization in NLP? When would you choose one over the other?"
   ]
  },
  {
   "cell_type": "markdown",
   "id": "f5c22d0a",
   "metadata": {},
   "source": [
    "Stemming just removes or stems the last few characters of a word, often leading to incorrect meanings and spelling.\n",
    "Lemmatization considers the context and converts the word to its meaningful base form, which is called Lemma. \n",
    "Sometimes, the same word can have multiple different Lemmas. We should identify the Part of Speech (POS) tag for the word in that specific context.\n",
    "Here are the examples to illustrate all the differences and use cases:\n",
    "\n",
    "If you lemmatize the word 'Caring', it would return 'Care'. If you stem, it would return 'Car' and this is erroneous.\n",
    "If you lemmatize the word 'Stripes' in verb context, it would return 'Strip'. \n",
    "If you lemmatize it in noun context, it would return 'Stripe'.\n",
    "If you just stem it, it would just return 'Strip'.\n",
    "\n",
    "\n",
    "Lemmatization is computationally expensive since it involves look-up tables and what not. \n",
    "If you have large dataset and performance is an issue, go with Stemming. Remember you can also add your own rules to Stemming. \n",
    "If accuracy is paramount and dataset isn't humongous, go with Lemmatization."
   ]
  },
  {
   "cell_type": "markdown",
   "id": "669a9877",
   "metadata": {},
   "source": [
    "# Frequency Distribution"
   ]
  },
  {
   "cell_type": "code",
   "execution_count": 5,
   "id": "a84a8a4a",
   "metadata": {},
   "outputs": [
    {
     "name": "stdout",
     "output_type": "stream",
     "text": [
      "<class 'nltk.probability.FreqDist'>\n",
      "<FreqDist with 27 samples and 37 outcomes>\n"
     ]
    }
   ],
   "source": [
    "from nltk.probability import FreqDist\n",
    "freq_dist=FreqDist(token_word)\n",
    "print(type(freq_dist))\n",
    "print(freq_dist)\n"
   ]
  },
  {
   "cell_type": "code",
   "execution_count": 6,
   "id": "67a55b9b",
   "metadata": {},
   "outputs": [
    {
     "data": {
      "text/plain": [
       "[('to', 4),\n",
       " (',', 3),\n",
       " ('of', 2),\n",
       " ('.', 2),\n",
       " ('stand', 2),\n",
       " ('up', 2),\n",
       " ('our', 2),\n",
       " ('There', 1),\n",
       " ('are', 1),\n",
       " ('all', 1),\n",
       " ('kinds', 1),\n",
       " ('courage', 1),\n",
       " ('said', 1),\n",
       " ('Dumbledore', 1),\n",
       " ('smiling', 1),\n",
       " ('It', 1),\n",
       " ('takes', 1),\n",
       " ('a', 1),\n",
       " ('great', 1),\n",
       " ('deal', 1),\n",
       " ('bravery', 1),\n",
       " ('enemies', 1),\n",
       " ('but', 1),\n",
       " ('just', 1),\n",
       " ('as', 1),\n",
       " ('much', 1),\n",
       " ('friends', 1)]"
      ]
     },
     "execution_count": 6,
     "metadata": {},
     "output_type": "execute_result"
    }
   ],
   "source": [
    "freq_dist.most_common()"
   ]
  },
  {
   "cell_type": "code",
   "execution_count": 7,
   "id": "a3d90b8b",
   "metadata": {},
   "outputs": [
    {
     "data": {
      "image/png": "[encoded data removed]",
      "text/plain": [
       "<Figure size 640x480 with 1 Axes>"
      ]
     },
     "metadata": {},
     "output_type": "display_data"
    }
   ],
   "source": [
    "import matplotlib.pyplot as plt\n",
    "freq_dist.plot(27,cumulative=False)\n",
    "plt.show()\n"
   ]
  },
  {
   "cell_type": "markdown",
   "id": "b1e837e3",
   "metadata": {},
   "source": [
    "# 4. Explain the concept of stop words and their role in text preprocessing. How do they impact NLP tasks?"
   ]
  },
  {
   "cell_type": "markdown",
   "id": "01cfc79b",
   "metadata": {},
   "source": [
    "Stop words are common words in a language that are often removed during the preprocessing of natural language \n",
    "text data before analysis. These words are typically high-frequency words that, while necessary for the structure of a \n",
    "language, do not contribute much to the overall meaning of a document. Examples of stop words in English include “the,” \n",
    "“and,” “is,” “of,” etc\n",
    "Role in Text NLP Tasks:\n",
    "1.Noise Reduction\n",
    "2.Efficiency:  \n",
    "3.Focus on Content Words\n",
    "Impact:\n",
    "1.Improved Precision: Removing stop words can improve the precision of models. Without the interference of common words, \n",
    "algorithms can concentrate on the essential terms that carry more weight in determining the meaning of a document.\n",
    "2.Reduced Dimensionality: Stop words often contribute to the high dimensionality of text data. Removing them reduces \n",
    "thenumber of features, making the data more manageable and potentially improving the performance of models.\n",
    "3.Enhanced Interpretability: The absence of stop words can make the processed text more interpretable. \n",
    "The remaining words are likely to be more meaningful, providing clearer insights into the content."
   ]
  },
  {
   "cell_type": "markdown",
   "id": "3593dd39",
   "metadata": {},
   "source": [
    "# Stopwords"
   ]
  },
  {
   "cell_type": "code",
   "execution_count": 8,
   "id": "0ee2a4d6",
   "metadata": {},
   "outputs": [
    {
     "name": "stderr",
     "output_type": "stream",
     "text": [
      "[nltk_data] Downloading package stopwords to\n",
      "[nltk_data]     C:\\Users\\MEGHA\\AppData\\Roaming\\nltk_data...\n",
      "[nltk_data]   Package stopwords is already up-to-date!\n"
     ]
    },
    {
     "data": {
      "text/plain": [
       "True"
      ]
     },
     "execution_count": 8,
     "metadata": {},
     "output_type": "execute_result"
    }
   ],
   "source": [
    "nltk.download('stopwords')"
   ]
  },
  {
   "cell_type": "code",
   "execution_count": 9,
   "id": "5281b5b5",
   "metadata": {},
   "outputs": [
    {
     "name": "stdout",
     "output_type": "stream",
     "text": [
      "Total No.of Stopwords:\t 179\n",
      "====================================================================================================\n",
      "The Stop words are:\n",
      "\n",
      "{'been', \"should've\", 'the', 'too', 'it', \"mightn't\", \"she's\", 'for', 've', 'with', 'then', 'than', 'off', 'which', 'shan', 'ourselves', 'themselves', 'now', 'against', 'not', \"couldn't\", 's', 'll', 'any', 'few', 'what', 'isn', 'd', 'nor', 'whom', 'if', 'as', 'm', 'of', 'their', \"didn't\", 'his', 'she', 'here', 'won', 'you', 'be', 'how', 'all', 'only', 'will', \"you've\", 'when', 'very', \"wasn't\", 'a', 'other', 'shouldn', 'me', 'until', 'why', 'some', 'ma', 'at', 'aren', 'had', 'myself', 'yourself', 'who', \"you'd\", 'so', 'yourselves', 'they', 'both', 'ours', 'further', 'we', 'himself', 'did', 'about', \"don't\", \"haven't\", 'below', 'there', 'after', \"hasn't\", \"isn't\", 'that', 'my', 'can', 'wouldn', 'above', 'should', 'more', 'its', 'most', 'doesn', 'while', 'over', 'didn', 'were', 'because', 'up', 'do', 'an', 'this', 'having', 're', 'don', 'yours', 'where', 'hasn', 'into', \"hadn't\", \"that'll\", 'by', 'just', 'down', 'once', 'doing', 'couldn', 'i', 'before', 'have', 'wasn', 'in', 'was', \"weren't\", 'haven', \"you'll\", 'hadn', \"shouldn't\", \"wouldn't\", 'these', 'own', \"mustn't\", \"you're\", 'to', 'from', 'herself', 'ain', 'him', 'are', 'no', 'hers', 'your', \"aren't\", 'such', \"shan't\", 'each', \"it's\", 'during', 'he', 'itself', 'her', 'or', 'same', 'does', 'o', 'is', 'mightn', \"won't\", 'them', 'y', 'weren', 'needn', 'those', 'again', 'on', \"needn't\", 'being', 'and', 'between', 'through', 'mustn', 'but', 'theirs', \"doesn't\", 't', 'has', 'under', 'our', 'out', 'am'}\n"
     ]
    }
   ],
   "source": [
    "from nltk.corpus import stopwords\n",
    "stop_words=set(stopwords.words('english'))\n",
    "print('Total No.of Stopwords:\\t',len(stop_words))\n",
    "print('='*100)\n",
    "print('The Stop words are:\\n')\n",
    "print(stop_words)\n"
   ]
  },
  {
   "cell_type": "markdown",
   "id": "02324222",
   "metadata": {},
   "source": [
    "# Removing stopwords"
   ]
  },
  {
   "cell_type": "code",
   "execution_count": 10,
   "id": "4499480e",
   "metadata": {},
   "outputs": [
    {
     "name": "stdout",
     "output_type": "stream",
     "text": [
      "Length of words:\t 37\n",
      "----------------------------------------------------------------------------------------------------\n",
      "Tokenized words-with stopwords:\n",
      "\n",
      "\t ['There', 'are', 'all', 'kinds', 'of', 'courage', ',', 'said', 'Dumbledore', ',', 'smiling', '.', 'It', 'takes', 'a', 'great', 'deal', 'of', 'bravery', 'to', 'stand', 'up', 'to', 'our', 'enemies', ',', 'but', 'just', 'as', 'much', 'to', 'stand', 'up', 'to', 'our', 'friends', '.']\n",
      "====================================================================================================\n",
      "Length after Remove stopwords:\t 21\n",
      "----------------------------------------------------------------------------------------------------\n",
      "\n",
      " After Removing stopwords- words are:\n",
      "\t ['There', 'kinds', 'courage', ',', 'said', 'Dumbledore', ',', 'smiling', '.', 'It', 'takes', 'great', 'deal', 'bravery', 'stand', 'enemies', ',', 'much', 'stand', 'friends', '.']\n"
     ]
    }
   ],
   "source": [
    "filtered_tokens=[]\n",
    "for w in token_word:\n",
    "    if w not in stop_words:\n",
    "        filtered_tokens.append(w)\n",
    "print('Length of words:\\t',len(token_word))\n",
    "print('-'*100)\n",
    "print('Tokenized words-with stopwords:\\n\\n\\t',token_word)\n",
    "print('='*100)\n",
    "print('Length after Remove stopwords:\\t',len(filtered_tokens))\n",
    "print('-'*100)\n",
    "print('\\n After Removing stopwords- words are:\\n\\t',filtered_tokens)"
   ]
  },
  {
   "cell_type": "markdown",
   "id": "648d530b",
   "metadata": {},
   "source": [
    "# Stemming"
   ]
  },
  {
   "cell_type": "code",
   "execution_count": 11,
   "id": "bc8c05fe",
   "metadata": {},
   "outputs": [
    {
     "name": "stdout",
     "output_type": "stream",
     "text": [
      "Length of words:\t 21\n",
      "----------------------------------------------------------------------------------------------------\n",
      "Filtered words:\n",
      "\n",
      "\t ['There', 'kinds', 'courage', ',', 'said', 'Dumbledore', ',', 'smiling', '.', 'It', 'takes', 'great', 'deal', 'bravery', 'stand', 'enemies', ',', 'much', 'stand', 'friends', '.']\n",
      "====================================================================================================\n",
      "Length after Stemmer:\t 21\n",
      "----------------------------------------------------------------------------------------------------\n",
      "\n",
      " After Stemming- words are:\n",
      "\t ['there', 'kind', 'courag', ',', 'said', 'dumbledor', ',', 'smile', '.', 'it', 'take', 'great', 'deal', 'braveri', 'stand', 'enemi', ',', 'much', 'stand', 'friend', '.']\n"
     ]
    }
   ],
   "source": [
    "from nltk.stem import PorterStemmer\n",
    "ps=PorterStemmer()\n",
    "stemmed_words=[]\n",
    "for w in filtered_tokens:\n",
    " stemmed_words.append(ps.stem(w))\n",
    " \n",
    "print('Length of words:\\t',len(filtered_tokens))\n",
    "print('-'*100)\n",
    "print('Filtered words:\\n\\n\\t',filtered_tokens)\n",
    "print('='*100)\n",
    "print('Length after Stemmer:\\t',len(stemmed_words))\n",
    "print('-'*100)\n",
    "print('\\n After Stemming- words are:\\n\\t',stemmed_words)"
   ]
  },
  {
   "cell_type": "code",
   "execution_count": 12,
   "id": "a516c346",
   "metadata": {},
   "outputs": [
    {
     "name": "stdout",
     "output_type": "stream",
     "text": [
      "['likes', ',', 'likely', ',', 'liking']\n"
     ]
    }
   ],
   "source": [
    "st='likes,likely,liking'\n",
    "st_words=word_tokenize(st)\n",
    "print(st_words)"
   ]
  },
  {
   "cell_type": "code",
   "execution_count": 13,
   "id": "90d80eb7",
   "metadata": {},
   "outputs": [
    {
     "name": "stdout",
     "output_type": "stream",
     "text": [
      "Length of words:\t 5\n",
      "----------------------------------------------------------------------------------------------------\n",
      "Filtered words:\n",
      "\n",
      "\t ['likes', ',', 'likely', ',', 'liking']\n",
      "====================================================================================================\n",
      "Length after Stemmer:\t 5\n",
      "----------------------------------------------------------------------------------------------------\n",
      "\n",
      " After Stemming- words are:\n",
      "\t ['like', ',', 'like', ',', 'like']\n"
     ]
    }
   ],
   "source": [
    "from nltk.stem import PorterStemmer\n",
    "ps=PorterStemmer()\n",
    "stemmed_words=[]\n",
    "for w in st_words:\n",
    " stemmed_words.append(ps.stem(w))\n",
    " \n",
    "print('Length of words:\\t',len(st_words))\n",
    "print('-'*100)\n",
    "print('Filtered words:\\n\\n\\t',st_words)\n",
    "print('='*100)\n",
    "print('Length after Stemmer:\\t',len(stemmed_words))\n",
    "print('-'*100)\n",
    "print('\\n After Stemming- words are:\\n\\t',stemmed_words)\n"
   ]
  },
  {
   "cell_type": "markdown",
   "id": "4cdb23a8",
   "metadata": {},
   "source": [
    "# Lemmatization"
   ]
  },
  {
   "cell_type": "code",
   "execution_count": 14,
   "id": "6f4f1686",
   "metadata": {},
   "outputs": [
    {
     "name": "stderr",
     "output_type": "stream",
     "text": [
      "[nltk_data] Downloading package wordnet to\n",
      "[nltk_data]     C:\\Users\\MEGHA\\AppData\\Roaming\\nltk_data...\n",
      "[nltk_data]   Package wordnet is already up-to-date!\n"
     ]
    },
    {
     "data": {
      "text/plain": [
       "True"
      ]
     },
     "execution_count": 14,
     "metadata": {},
     "output_type": "execute_result"
    }
   ],
   "source": [
    "nltk.download('wordnet')\n"
   ]
  },
  {
   "cell_type": "code",
   "execution_count": 15,
   "id": "3d0f5f24",
   "metadata": {},
   "outputs": [
    {
     "name": "stdout",
     "output_type": "stream",
     "text": [
      "Enter a sentences:\n",
      "\n",
      "\tworks changed programs retrieved studying\n",
      "====================================================================================================\n",
      "Tokens of word:\n",
      " ['works', 'changed', 'programs', 'retrieved', 'studying']\n",
      "Length: \t 5\n",
      "****************************************************************************************************\n",
      "----------------------------------------------------------------------------------------------------\n",
      "Original text:\n",
      " works changed programs retrieved studying\n",
      "====================================================================================================\n",
      "Lemmatized words:\n",
      " ['work', 'change', 'program', 'retrieve', 'study']\n"
     ]
    }
   ],
   "source": [
    "from nltk.stem import WordNetLemmatizer\n",
    "#Initialize the wordnet lemmatizer\n",
    "lemma=WordNetLemmatizer()\n",
    "#prompt to take input string\n",
    "text=input('Enter a sentences:\\n\\n\\t')\n",
    "#split as word tokens\n",
    "words=word_tokenize(text)\n",
    "print('='*100)\n",
    "print('Tokens of word:\\n',words)\n",
    "print('Length: \\t',len(words))\n",
    "print('*'*100)\n",
    "#Apply Lemmatization to each word\n",
    "lemma_words=[lemma.lemmatize(word,pos='v') for word in words ]\n",
    "print('-'*100)\n",
    "print('Original text:\\n',text)\n",
    "print('='*100)\n",
    "print('Lemmatized words:\\n',lemma_words)\n"
   ]
  },
  {
   "cell_type": "markdown",
   "id": "16f219af",
   "metadata": {},
   "source": [
    "# 5. How does the process of removing punctuation contribute to text preprocessing in NLP? What are its benefits?"
   ]
  },
  {
   "cell_type": "markdown",
   "id": "03ef8474",
   "metadata": {},
   "source": [
    "Removing punctuation in text preprocessing for NLP helps simplify the data by eliminating non-essential characters.\n",
    "This aids in creating a cleaner and more consistent input for models, as punctuation often doesn't carry significant semantic meaning and can introduce noise. The benefits include improved model efficiency, reduced dimensionality, and increased accuracy in tasks like sentiment analysis or text classification."
   ]
  },
  {
   "cell_type": "code",
   "execution_count": 16,
   "id": "14f39f52",
   "metadata": {},
   "outputs": [
    {
     "name": "stdout",
     "output_type": "stream",
     "text": [
      "Enter a sentences:\n",
      "\n",
      "\tThere are all kinds of courage, said Dumbledore, smiling.  It takes a great deal of bravery to stand up to our enemies, but just as much to stand up to our friends.\n",
      "====================================================================================================\n",
      "Length: \t 37\n",
      "Tokens of word:\n",
      " ['There', 'are', 'all', 'kinds', 'of', 'courage', ',', 'said', 'Dumbledore', ',', 'smiling', '.', 'It', 'takes', 'a', 'great', 'deal', 'of', 'bravery', 'to', 'stand', 'up', 'to', 'our', 'enemies', ',', 'but', 'just', 'as', 'much', 'to', 'stand', 'up', 'to', 'our', 'friends', '.']\n",
      "****************************************************************************************************\n",
      "----------------------------------------------------------------------------------------------------\n",
      "Original text:\n",
      " There are all kinds of courage, said Dumbledore, smiling.  It takes a great deal of bravery to stand up to our enemies, but just as much to stand up to our friends.\n",
      "====================================================================================================\n",
      "After Removing Punctuation:\n",
      "\n",
      "['There', 'are', 'all', 'kinds', 'of', 'courage', 'said', 'Dumbledore', 'smiling', 'It', 'takes', 'a', 'great', 'deal', 'of', 'bravery', 'to', 'stand', 'up', 'to', 'our', 'enemies', 'but', 'just', 'as', 'much', 'to', 'stand', 'up', 'to', 'our', 'friends'] 32\n"
     ]
    }
   ],
   "source": [
    "import nltk\n",
    "from nltk import pos_tag\n",
    "#prompt to take input string\n",
    "text=input('Enter a sentences:\\n\\n\\t')\n",
    "#split as word tokens\n",
    "tokens=word_tokenize(text)\n",
    "print('='*100)\n",
    "print('Length: \\t',len(tokens))\n",
    "print('Tokens of word:\\n',tokens)\n",
    "print('*'*100)\n",
    "#Remove all tokens that are not alphabetic\n",
    "words=[word for word in tokens if word.isalpha()]\n",
    "print('-'*100)\n",
    "print('Original text:\\n',text)\n",
    "print('='*100)\n",
    "print('After Removing Punctuation:\\n')\n",
    "print(words,len(words))"
   ]
  },
  {
   "cell_type": "markdown",
   "id": "671589fd",
   "metadata": {},
   "source": [
    "# 6. Discuss the importance of lowercase conversion in text preprocessing. Why is it a common step in NLP tasks?\n"
   ]
  },
  {
   "cell_type": "markdown",
   "id": "fe2eaee4",
   "metadata": {},
   "source": [
    "Lowercase conversion is a common step in text preprocessing for Natural Language Processing (NLP) tasks. \n",
    "It is a simple yet effective form of text preprocessing that can help improve the consistency of expected output and reduce the complexity of the problem at hand.\n",
    "\n",
    "The importance of lowercase conversion lies in the fact that it helps to maintain the consistency flow during NLP tasks and text mining .\n",
    "It is applicable to most text mining and NLP problems and can help in cases where the dataset is not very large .\n",
    "Lowercasing ALL text data is one of the simplest and most effective forms of text preprocessing .\n",
    "In conclusion, lowercase conversion is an important step in text preprocessing for NLP tasks. \n",
    "It helps to maintain consistency and reduce complexity, making it easier to analyze and extract meaningful information from text data."
   ]
  },
  {
   "cell_type": "markdown",
   "id": "502aac19",
   "metadata": {},
   "source": [
    "# 7. Explain the term \"vectorization\" concerning text data. How does techniques like CountVectorizer contribute to text preprocessing in NLP?\n"
   ]
  },
  {
   "cell_type": "markdown",
   "id": "63ee9ce3",
   "metadata": {},
   "source": [
    "Word Embeddings or Word vectorization is a methodology in NLP to map words or phrases from vocabulary to a corresponding vector of real numbers which used to find word predictions, word similarities/semantics. The process of converting words into numbers are called Vectorization. Techniques like CountVectorizer and TfidfVectorizer contribute to text preprocessing in NLP through the following: 1.CountVectorizer 2.TfidfVectorizer Contributions to Text Preprocessing: •Numerical Representation: These vectorization techniques transform the text into numerical representations, enabling the application of mathematical models. •Feature Extraction: They convert words into features, allowing models to operate on a structured set of inputs. •Dimensionality Reduction: Vectorization can help manage the high dimensionality of text data, making it suitable for machine learning algorithms. In summary, vectorization techniques like CountVectorizer and TfidfVectorizer play a pivotal role in text preprocessing for NLP, converting raw text data into a format suitable for machine learning models, allowing efficient analysis and extraction of meaningful patterns."
   ]
  },
  {
   "cell_type": "code",
   "execution_count": 19,
   "id": "c87cf251",
   "metadata": {},
   "outputs": [
    {
     "name": "stdout",
     "output_type": "stream",
     "text": [
      "Text paragraph please:\n",
      "\n",
      "\tIn simpler terms, NLP is a way for computers to understand and interpret human language. It is used in a variety of applications such as chatbots, virtual assistants, and machine translation\n",
      "Sentences as tokens:\n",
      "In simpler terms, NLP is a way for computers to understand and interpret human language.\n",
      "It is used in a variety of applications such as chatbots, virtual assistants, and machine translation\n",
      "Feature names:\n",
      " ['and' 'applications' 'as' 'assistants' 'chatbots' 'computers' 'for'\n",
      " 'human' 'in' 'interpret' 'is' 'it' 'language' 'machine' 'nlp' 'of'\n",
      " 'simpler' 'such' 'terms' 'to' 'translation' 'understand' 'used' 'variety'\n",
      " 'virtual' 'way']\n",
      "====================================================================================================\n",
      "Token Counts Matrix:\n",
      "[[1 0 0 0 0 1 1 1 1 1 1 0 1 0 1 0 1 0 1 1 0 1 0 0 0 1]\n",
      " [1 1 1 1 1 0 0 0 1 0 1 1 0 1 0 1 0 1 0 0 1 0 1 1 1 0]]\n"
     ]
    }
   ],
   "source": [
    "import numpy as np\n",
    "from sklearn.feature_extraction.text import CountVectorizer\n",
    "documents=input('Text paragraph please:\\n\\n\\t')\n",
    "sent_tokens=sent_tokenize(documents)\n",
    "print('Sentences as tokens:')\n",
    "for sent in sent_tokens:\n",
    " print(sent)\n",
    " \n",
    "#Initialize countvectorizer\n",
    "vector=CountVectorizer()\n",
    "#Fit and transform the documents\n",
    "x=vector.fit_transform(sent_tokens)\n",
    "#get the feature names (words)\n",
    "feature_names=vector.get_feature_names_out()\n",
    "#Display the matrix of token counts\n",
    "print('Feature names:\\n',feature_names)\n",
    "print('='*100)\n",
    "print('Token Counts Matrix:')\n",
    "print(x.toarray())"
   ]
  },
  {
   "cell_type": "markdown",
   "id": "4ea14727",
   "metadata": {},
   "source": [
    "# 8. Describe the concept of normalization in NLP. Provide examples of normalization techniques used in text preprocessing."
   ]
  },
  {
   "cell_type": "code",
   "execution_count": null,
   "id": "cc6d2b3f",
   "metadata": {},
   "outputs": [],
   "source": [
    "1. Lowercasing:\n",
    "   Example: Converting all letters to lowercase. \"Hello\" becomes \"hello.\"\n",
    "\n",
    "2. Tokenization:\n",
    "   Example: Breaking text into individual words or tokens. \"Natural language processing\" becomes [\"Natural\", \"language\", \"processing\"].\n",
    "\n",
    "3. Stemming:\n",
    "   Example: Reducing words to their root or base form. \"Running\" becomes \"run.\"\n",
    "\n",
    "4. Lemmatization:\n",
    "   Example: Similar to stemming but considers the context to bring words to their base form. \"Better\" becomes \"good.\"\n",
    "\n",
    "5. Removing Stop Words:\n",
    "   Example: Eliminating common words like \"the,\" \"and,\" or \"is\" that don't contribute much to the meaning.\n",
    "\n",
    "6. Handling Contractions:\n",
    "   Example: Expanding contractions like \"can't\" to \"cannot.\"\n",
    "\n",
    "7. Removing Special Characters and Numbers:\n",
    "   Example: Eliminating punctuation, symbols, and numerical characters.\n",
    "\n",
    "8. Handling Acronyms and Abbreviations:\n",
    "   Example: Expanding or converting acronyms like \"NLP\" to \"Natural Language Processing.\""
   ]
  }
 ],
 "metadata": {
  "kernelspec": {
   "display_name": "Python 3 (ipykernel)",
   "language": "python",
   "name": "python3"
  },
  "language_info": {
   "codemirror_mode": {
    "name": "ipython",
    "version": 3
   },
   "file_extension": ".py",
   "mimetype": "text/x-python",
   "name": "python",
   "nbconvert_exporter": "python",
   "pygments_lexer": "ipython3",
   "version": "3.11.4"
  }
 },
 "nbformat": 4,
 "nbformat_minor": 5
}
